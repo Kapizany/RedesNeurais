{
 "cells": [
  {
   "cell_type": "markdown",
   "metadata": {},
   "source": [
    "# Redução de dimensionalidade de Imagens da base MNIST com Autoencoder"
   ]
  },
  {
   "cell_type": "markdown",
   "metadata": {},
   "source": [
    "Uso de Autoencoders para redução de dimensionalidade das imagens da base MNIST."
   ]
  },
  {
   "cell_type": "markdown",
   "metadata": {},
   "source": [
    "## Importação e Preprocessamento"
   ]
  },
  {
   "cell_type": "code",
   "execution_count": 1,
   "metadata": {},
   "outputs": [
    {
     "name": "stderr",
     "output_type": "stream",
     "text": [
      "Using TensorFlow backend.\n"
     ]
    }
   ],
   "source": [
    "import matplotlib.pyplot as plt\n",
    "import numpy as np\n",
    "from keras.datasets import mnist\n",
    "from keras.models import Model, Sequential\n",
    "from keras.layers import Input, Dense"
   ]
  },
  {
   "cell_type": "code",
   "execution_count": 2,
   "metadata": {},
   "outputs": [],
   "source": [
    "(treinamento, _) , (teste,_) = mnist.load_data()"
   ]
  },
  {
   "cell_type": "code",
   "execution_count": 3,
   "metadata": {},
   "outputs": [
    {
     "data": {
      "text/plain": [
       "(60000, 28, 28)"
      ]
     },
     "execution_count": 3,
     "metadata": {},
     "output_type": "execute_result"
    }
   ],
   "source": [
    "treinamento.shape"
   ]
  },
  {
   "cell_type": "code",
   "execution_count": 4,
   "metadata": {},
   "outputs": [
    {
     "data": {
      "text/plain": [
       "(10000, 28, 28)"
      ]
     },
     "execution_count": 4,
     "metadata": {},
     "output_type": "execute_result"
    }
   ],
   "source": [
    "teste.shape"
   ]
  },
  {
   "cell_type": "code",
   "execution_count": 5,
   "metadata": {},
   "outputs": [],
   "source": [
    "base_treinamento = treinamento.astype('float32')/255\n",
    "base_teste = teste.astype('float32')/255"
   ]
  },
  {
   "cell_type": "code",
   "execution_count": 6,
   "metadata": {},
   "outputs": [],
   "source": [
    "base_treinamento = base_treinamento.reshape(base_treinamento.shape[0],\n",
    "                                           np.prod(base_treinamento.shape[1:]))\n"
   ]
  },
  {
   "cell_type": "code",
   "execution_count": 10,
   "metadata": {},
   "outputs": [],
   "source": [
    "base_teste = base_teste.reshape(base_teste.shape[0],\n",
    "                                np.prod(base_teste.shape[1:]))"
   ]
  },
  {
   "cell_type": "markdown",
   "metadata": {},
   "source": [
    "## Criação e Treinamento do Autoencoder"
   ]
  },
  {
   "cell_type": "code",
   "execution_count": 12,
   "metadata": {},
   "outputs": [],
   "source": [
    "# Arquitetura do Autoencoder é  784 input - 32 hidden e 784 saida\n",
    "fator_compactacao = 784/32"
   ]
  },
  {
   "cell_type": "code",
   "execution_count": 13,
   "metadata": {},
   "outputs": [
    {
     "name": "stdout",
     "output_type": "stream",
     "text": [
      "WARNING:tensorflow:From /home/capizani/anaconda3/lib/python3.7/site-packages/keras/backend/tensorflow_backend.py:64: The name tf.get_default_graph is deprecated. Please use tf.compat.v1.get_default_graph instead.\n",
      "\n"
     ]
    }
   ],
   "source": [
    "autoencoder = Sequential()"
   ]
  },
  {
   "cell_type": "code",
   "execution_count": 14,
   "metadata": {},
   "outputs": [
    {
     "name": "stdout",
     "output_type": "stream",
     "text": [
      "WARNING:tensorflow:From /home/capizani/anaconda3/lib/python3.7/site-packages/keras/backend/tensorflow_backend.py:497: The name tf.placeholder is deprecated. Please use tf.compat.v1.placeholder instead.\n",
      "\n",
      "WARNING:tensorflow:From /home/capizani/anaconda3/lib/python3.7/site-packages/keras/backend/tensorflow_backend.py:3636: The name tf.random_uniform is deprecated. Please use tf.random.uniform instead.\n",
      "\n"
     ]
    }
   ],
   "source": [
    "#Primeira Camada oculta\n",
    "autoencoder.add(Dense(units=32, activation='relu', input_dim=784))\n",
    "#Camada de Saida\n",
    "autoencoder.add(Dense(units=784, activation='sigmoid'))"
   ]
  },
  {
   "cell_type": "code",
   "execution_count": 15,
   "metadata": {},
   "outputs": [
    {
     "name": "stdout",
     "output_type": "stream",
     "text": [
      "_________________________________________________________________\n",
      "Layer (type)                 Output Shape              Param #   \n",
      "=================================================================\n",
      "dense_1 (Dense)              (None, 32)                25120     \n",
      "_________________________________________________________________\n",
      "dense_2 (Dense)              (None, 784)               25872     \n",
      "=================================================================\n",
      "Total params: 50,992\n",
      "Trainable params: 50,992\n",
      "Non-trainable params: 0\n",
      "_________________________________________________________________\n"
     ]
    }
   ],
   "source": [
    "autoencoder.summary()"
   ]
  },
  {
   "cell_type": "code",
   "execution_count": 16,
   "metadata": {},
   "outputs": [
    {
     "name": "stdout",
     "output_type": "stream",
     "text": [
      "WARNING:tensorflow:From /home/capizani/anaconda3/lib/python3.7/site-packages/keras/optimizers.py:711: The name tf.train.Optimizer is deprecated. Please use tf.compat.v1.train.Optimizer instead.\n",
      "\n",
      "WARNING:tensorflow:From /home/capizani/anaconda3/lib/python3.7/site-packages/keras/backend/tensorflow_backend.py:2950: The name tf.log is deprecated. Please use tf.math.log instead.\n",
      "\n",
      "WARNING:tensorflow:From /home/capizani/anaconda3/lib/python3.7/site-packages/tensorflow_core/python/ops/nn_impl.py:183: where (from tensorflow.python.ops.array_ops) is deprecated and will be removed in a future version.\n",
      "Instructions for updating:\n",
      "Use tf.where in 2.0, which has the same broadcast rule as np.where\n"
     ]
    }
   ],
   "source": [
    "autoencoder.compile(optimizer='adam', loss='binary_crossentropy', \n",
    "                    metrics=['accuracy'])"
   ]
  },
  {
   "cell_type": "code",
   "execution_count": 17,
   "metadata": {
    "scrolled": true
   },
   "outputs": [
    {
     "name": "stdout",
     "output_type": "stream",
     "text": [
      "WARNING:tensorflow:From /home/capizani/anaconda3/lib/python3.7/site-packages/keras/backend/tensorflow_backend.py:958: The name tf.assign_add is deprecated. Please use tf.compat.v1.assign_add instead.\n",
      "\n",
      "WARNING:tensorflow:From /home/capizani/anaconda3/lib/python3.7/site-packages/keras/backend/tensorflow_backend.py:680: calling Constant.__init__ (from tensorflow.python.ops.init_ops) with dtype is deprecated and will be removed in a future version.\n",
      "Instructions for updating:\n",
      "Call initializer instance with the dtype argument instead of passing it to the constructor\n",
      "WARNING:tensorflow:From /home/capizani/anaconda3/lib/python3.7/site-packages/keras/backend/tensorflow_backend.py:945: The name tf.assign is deprecated. Please use tf.compat.v1.assign instead.\n",
      "\n",
      "WARNING:tensorflow:From /home/capizani/anaconda3/lib/python3.7/site-packages/keras/backend/tensorflow_backend.py:2378: The name tf.Session is deprecated. Please use tf.compat.v1.Session instead.\n",
      "\n",
      "Train on 60000 samples, validate on 10000 samples\n",
      "Epoch 1/50\n",
      "WARNING:tensorflow:From /home/capizani/anaconda3/lib/python3.7/site-packages/keras/backend/tensorflow_backend.py:159: The name tf.get_default_session is deprecated. Please use tf.compat.v1.get_default_session instead.\n",
      "\n",
      "WARNING:tensorflow:From /home/capizani/anaconda3/lib/python3.7/site-packages/keras/backend/tensorflow_backend.py:164: The name tf.ConfigProto is deprecated. Please use tf.compat.v1.ConfigProto instead.\n",
      "\n",
      "WARNING:tensorflow:From /home/capizani/anaconda3/lib/python3.7/site-packages/keras/backend/tensorflow_backend.py:173: The name tf.global_variables is deprecated. Please use tf.compat.v1.global_variables instead.\n",
      "\n",
      "WARNING:tensorflow:From /home/capizani/anaconda3/lib/python3.7/site-packages/keras/backend/tensorflow_backend.py:182: The name tf.is_variable_initialized is deprecated. Please use tf.compat.v1.is_variable_initialized instead.\n",
      "\n",
      "WARNING:tensorflow:From /home/capizani/anaconda3/lib/python3.7/site-packages/keras/backend/tensorflow_backend.py:189: The name tf.variables_initializer is deprecated. Please use tf.compat.v1.variables_initializer instead.\n",
      "\n",
      "60000/60000 [==============================] - 4s 67us/step - loss: 0.2791 - acc: 0.7837 - val_loss: 0.1910 - val_acc: 0.7993\n",
      "Epoch 2/50\n",
      "60000/60000 [==============================] - 2s 39us/step - loss: 0.1716 - acc: 0.8027 - val_loss: 0.1539 - val_acc: 0.8051\n",
      "Epoch 3/50\n",
      "60000/60000 [==============================] - 2s 39us/step - loss: 0.1445 - acc: 0.8073 - val_loss: 0.1337 - val_acc: 0.8082\n",
      "Epoch 4/50\n",
      "60000/60000 [==============================] - 3s 45us/step - loss: 0.1284 - acc: 0.8098 - val_loss: 0.1210 - val_acc: 0.8100\n",
      "Epoch 5/50\n",
      "60000/60000 [==============================] - 3s 45us/step - loss: 0.1182 - acc: 0.8113 - val_loss: 0.1130 - val_acc: 0.8112\n",
      "Epoch 6/50\n",
      "60000/60000 [==============================] - 3s 44us/step - loss: 0.1112 - acc: 0.8122 - val_loss: 0.1070 - val_acc: 0.8118\n",
      "Epoch 7/50\n",
      "60000/60000 [==============================] - 3s 45us/step - loss: 0.1061 - acc: 0.8129 - val_loss: 0.1027 - val_acc: 0.8122\n",
      "Epoch 8/50\n",
      "60000/60000 [==============================] - 3s 46us/step - loss: 0.1023 - acc: 0.8133 - val_loss: 0.0995 - val_acc: 0.8125\n",
      "Epoch 9/50\n",
      "60000/60000 [==============================] - 3s 46us/step - loss: 0.0995 - acc: 0.8136 - val_loss: 0.0971 - val_acc: 0.8129\n",
      "Epoch 10/50\n",
      "60000/60000 [==============================] - 3s 45us/step - loss: 0.0975 - acc: 0.8138 - val_loss: 0.0954 - val_acc: 0.8130\n",
      "Epoch 11/50\n",
      "60000/60000 [==============================] - 3s 49us/step - loss: 0.0962 - acc: 0.8139 - val_loss: 0.0944 - val_acc: 0.8131\n",
      "Epoch 12/50\n",
      "60000/60000 [==============================] - 4s 59us/step - loss: 0.0953 - acc: 0.8140 - val_loss: 0.0937 - val_acc: 0.8131\n",
      "Epoch 13/50\n",
      "60000/60000 [==============================] - 3s 51us/step - loss: 0.0948 - acc: 0.8141 - val_loss: 0.0933 - val_acc: 0.8132\n",
      "Epoch 14/50\n",
      "60000/60000 [==============================] - 3s 47us/step - loss: 0.0944 - acc: 0.8141 - val_loss: 0.0929 - val_acc: 0.8132\n",
      "Epoch 15/50\n",
      "60000/60000 [==============================] - 3s 47us/step - loss: 0.0941 - acc: 0.8141 - val_loss: 0.0927 - val_acc: 0.8133\n",
      "Epoch 16/50\n",
      "60000/60000 [==============================] - 3s 46us/step - loss: 0.0939 - acc: 0.8141 - val_loss: 0.0925 - val_acc: 0.8132\n",
      "Epoch 17/50\n",
      "60000/60000 [==============================] - 3s 44us/step - loss: 0.0937 - acc: 0.8142 - val_loss: 0.0924 - val_acc: 0.8133\n",
      "Epoch 18/50\n",
      "60000/60000 [==============================] - 3s 44us/step - loss: 0.0936 - acc: 0.8142 - val_loss: 0.0922 - val_acc: 0.8132\n",
      "Epoch 19/50\n",
      "60000/60000 [==============================] - 3s 46us/step - loss: 0.0935 - acc: 0.8142 - val_loss: 0.0922 - val_acc: 0.8133\n",
      "Epoch 20/50\n",
      "60000/60000 [==============================] - 3s 46us/step - loss: 0.0934 - acc: 0.8142 - val_loss: 0.0920 - val_acc: 0.8133\n",
      "Epoch 21/50\n",
      "60000/60000 [==============================] - 3s 44us/step - loss: 0.0933 - acc: 0.8142 - val_loss: 0.0921 - val_acc: 0.8133\n",
      "Epoch 22/50\n",
      "60000/60000 [==============================] - 3s 43us/step - loss: 0.0932 - acc: 0.8142 - val_loss: 0.0920 - val_acc: 0.8133\n",
      "Epoch 23/50\n",
      "60000/60000 [==============================] - 3s 43us/step - loss: 0.0932 - acc: 0.8142 - val_loss: 0.0919 - val_acc: 0.8133\n",
      "Epoch 24/50\n",
      "60000/60000 [==============================] - 3s 44us/step - loss: 0.0931 - acc: 0.8142 - val_loss: 0.0919 - val_acc: 0.8132\n",
      "Epoch 25/50\n",
      "60000/60000 [==============================] - 3s 45us/step - loss: 0.0931 - acc: 0.8142 - val_loss: 0.0919 - val_acc: 0.8132\n",
      "Epoch 26/50\n",
      "60000/60000 [==============================] - 3s 51us/step - loss: 0.0930 - acc: 0.8142 - val_loss: 0.0919 - val_acc: 0.8133\n",
      "Epoch 27/50\n",
      "60000/60000 [==============================] - 3s 49us/step - loss: 0.0930 - acc: 0.8142 - val_loss: 0.0918 - val_acc: 0.8133\n",
      "Epoch 28/50\n",
      "60000/60000 [==============================] - 3s 51us/step - loss: 0.0930 - acc: 0.8142 - val_loss: 0.0917 - val_acc: 0.8133\n",
      "Epoch 29/50\n",
      "60000/60000 [==============================] - 3s 54us/step - loss: 0.0929 - acc: 0.8142 - val_loss: 0.0918 - val_acc: 0.8133\n",
      "Epoch 30/50\n",
      "60000/60000 [==============================] - 3s 47us/step - loss: 0.0929 - acc: 0.8142 - val_loss: 0.0916 - val_acc: 0.8133\n",
      "Epoch 31/50\n",
      "60000/60000 [==============================] - 3s 46us/step - loss: 0.0929 - acc: 0.8142 - val_loss: 0.0917 - val_acc: 0.8133\n",
      "Epoch 32/50\n",
      "60000/60000 [==============================] - 3s 55us/step - loss: 0.0928 - acc: 0.8142 - val_loss: 0.0916 - val_acc: 0.8133\n",
      "Epoch 33/50\n",
      "60000/60000 [==============================] - 3s 47us/step - loss: 0.0928 - acc: 0.8142 - val_loss: 0.0917 - val_acc: 0.8133\n",
      "Epoch 34/50\n",
      "60000/60000 [==============================] - 3s 45us/step - loss: 0.0928 - acc: 0.8142 - val_loss: 0.0916 - val_acc: 0.8133\n",
      "Epoch 35/50\n",
      "60000/60000 [==============================] - 3s 52us/step - loss: 0.0928 - acc: 0.8142 - val_loss: 0.0917 - val_acc: 0.8133\n",
      "Epoch 36/50\n",
      "60000/60000 [==============================] - 3s 50us/step - loss: 0.0928 - acc: 0.8142 - val_loss: 0.0916 - val_acc: 0.8133\n",
      "Epoch 37/50\n",
      "60000/60000 [==============================] - 3s 54us/step - loss: 0.0928 - acc: 0.8142 - val_loss: 0.0915 - val_acc: 0.8133\n",
      "Epoch 38/50\n",
      "60000/60000 [==============================] - 3s 48us/step - loss: 0.0927 - acc: 0.8142 - val_loss: 0.0916 - val_acc: 0.8133\n",
      "Epoch 39/50\n",
      "60000/60000 [==============================] - 3s 46us/step - loss: 0.0927 - acc: 0.8142 - val_loss: 0.0916 - val_acc: 0.8133\n",
      "Epoch 40/50\n",
      "60000/60000 [==============================] - 3s 48us/step - loss: 0.0927 - acc: 0.8142 - val_loss: 0.0916 - val_acc: 0.8134\n",
      "Epoch 41/50\n",
      "60000/60000 [==============================] - 3s 42us/step - loss: 0.0927 - acc: 0.8142 - val_loss: 0.0915 - val_acc: 0.8133\n",
      "Epoch 42/50\n",
      "60000/60000 [==============================] - 3s 42us/step - loss: 0.0927 - acc: 0.8142 - val_loss: 0.0916 - val_acc: 0.8133\n",
      "Epoch 43/50\n",
      "60000/60000 [==============================] - 2s 41us/step - loss: 0.0927 - acc: 0.8142 - val_loss: 0.0916 - val_acc: 0.8132\n",
      "Epoch 44/50\n",
      "60000/60000 [==============================] - 3s 42us/step - loss: 0.0926 - acc: 0.8142 - val_loss: 0.0915 - val_acc: 0.8133\n",
      "Epoch 45/50\n"
     ]
    },
    {
     "name": "stdout",
     "output_type": "stream",
     "text": [
      "60000/60000 [==============================] - 2s 38us/step - loss: 0.0926 - acc: 0.8142 - val_loss: 0.0914 - val_acc: 0.8133\n",
      "Epoch 46/50\n",
      "60000/60000 [==============================] - 2s 40us/step - loss: 0.0926 - acc: 0.8142 - val_loss: 0.0915 - val_acc: 0.8134\n",
      "Epoch 47/50\n",
      "60000/60000 [==============================] - 2s 40us/step - loss: 0.0926 - acc: 0.8142 - val_loss: 0.0915 - val_acc: 0.8133\n",
      "Epoch 48/50\n",
      "60000/60000 [==============================] - 3s 46us/step - loss: 0.0926 - acc: 0.8142 - val_loss: 0.0915 - val_acc: 0.8133\n",
      "Epoch 49/50\n",
      "60000/60000 [==============================] - 3s 51us/step - loss: 0.0926 - acc: 0.8142 - val_loss: 0.0915 - val_acc: 0.8133\n",
      "Epoch 50/50\n",
      "60000/60000 [==============================] - 4s 66us/step - loss: 0.0926 - acc: 0.8142 - val_loss: 0.0915 - val_acc: 0.8133\n"
     ]
    },
    {
     "data": {
      "text/plain": [
       "<keras.callbacks.History at 0x7ff85b071a10>"
      ]
     },
     "execution_count": 17,
     "metadata": {},
     "output_type": "execute_result"
    }
   ],
   "source": [
    "autoencoder.fit(base_treinamento, base_treinamento,\n",
    "                epochs=50, batch_size=256, validation_data=(base_teste,base_teste))"
   ]
  },
  {
   "cell_type": "markdown",
   "metadata": {},
   "source": [
    "## Validação e Resultados"
   ]
  },
  {
   "cell_type": "code",
   "execution_count": 18,
   "metadata": {},
   "outputs": [],
   "source": [
    "dimensao_original = Input(shape=(784,))"
   ]
  },
  {
   "cell_type": "code",
   "execution_count": 19,
   "metadata": {},
   "outputs": [],
   "source": [
    "camada_encoder = autoencoder.layers[0]"
   ]
  },
  {
   "cell_type": "code",
   "execution_count": 20,
   "metadata": {},
   "outputs": [],
   "source": [
    "encoder = Model(inputs=dimensao_original,outputs=camada_encoder(dimensao_original))"
   ]
  },
  {
   "cell_type": "code",
   "execution_count": 21,
   "metadata": {},
   "outputs": [
    {
     "name": "stdout",
     "output_type": "stream",
     "text": [
      "_________________________________________________________________\n",
      "Layer (type)                 Output Shape              Param #   \n",
      "=================================================================\n",
      "input_1 (InputLayer)         (None, 784)               0         \n",
      "_________________________________________________________________\n",
      "dense_1 (Dense)              (None, 32)                25120     \n",
      "=================================================================\n",
      "Total params: 25,120\n",
      "Trainable params: 25,120\n",
      "Non-trainable params: 0\n",
      "_________________________________________________________________\n"
     ]
    }
   ],
   "source": [
    "encoder.summary()"
   ]
  },
  {
   "cell_type": "code",
   "execution_count": 22,
   "metadata": {},
   "outputs": [],
   "source": [
    "imagens_codificadas = encoder.predict(base_teste)"
   ]
  },
  {
   "cell_type": "code",
   "execution_count": 23,
   "metadata": {},
   "outputs": [],
   "source": [
    "imagens_decodificadas = autoencoder.predict(base_teste)"
   ]
  },
  {
   "cell_type": "code",
   "execution_count": 25,
   "metadata": {},
   "outputs": [],
   "source": [
    "imagens_teste = np.random.randint(base_teste.shape[0], size = 10)"
   ]
  },
  {
   "cell_type": "code",
   "execution_count": 26,
   "metadata": {},
   "outputs": [
    {
     "data": {
      "image/png": "[encoded data removed]",
      "text/plain": [
       "<Figure size 1296x1296 with 30 Axes>"
      ]
     },
     "metadata": {},
     "output_type": "display_data"
    }
   ],
   "source": [
    "plt.figure(figsize=(18,18))\n",
    "for i,indice in enumerate(imagens_teste):\n",
    "    #Imagens Originais\n",
    "    eixo = plt.subplot(10,10, i+1)\n",
    "    plt.imshow(base_teste[indice].reshape(28,28))\n",
    "    plt.xticks(())\n",
    "    plt.yticks(())\n",
    "    #Imagens codificadas\n",
    "    eixo = plt.subplot(10,10, i+1+10)\n",
    "    plt.imshow(imagens_codificadas[indice].reshape(8,4))\n",
    "    plt.xticks(())\n",
    "    plt.yticks(())\n",
    "    #Imagens Decodificadas\n",
    "    eixo = plt.subplot(10,10, i+1+20)\n",
    "    plt.imshow(imagens_decodificadas[indice].reshape(28,28))\n",
    "    plt.xticks(())\n",
    "    plt.yticks(())"
   ]
  },
  {
   "cell_type": "code",
   "execution_count": null,
   "metadata": {},
   "outputs": [],
   "source": []
  }
 ],
 "metadata": {
  "kernelspec": {
   "display_name": "Python 3",
   "language": "python",
   "name": "python3"
  },
  "language_info": {
   "codemirror_mode": {
    "name": "ipython",
    "version": 3
   },
   "file_extension": ".py",
   "mimetype": "text/x-python",
   "name": "python",
   "nbconvert_exporter": "python",
   "pygments_lexer": "ipython3",
   "version": "3.7.4"
  }
 },
 "nbformat": 4,
 "nbformat_minor": 2
}
