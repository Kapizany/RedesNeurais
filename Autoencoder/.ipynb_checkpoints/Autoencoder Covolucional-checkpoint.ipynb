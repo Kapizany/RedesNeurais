{
 "cells": [
  {
   "cell_type": "markdown",
   "metadata": {},
   "source": []
  },
  {
   "cell_type": "markdown",
   "metadata": {},
   "source": []
  },
  {
   "cell_type": "markdown",
   "metadata": {},
   "source": [
    "## Importações e Preprocessamento"
   ]
  },
  {
   "cell_type": "code",
   "execution_count": 1,
   "metadata": {},
   "outputs": [],
   "source": [
    "import matplotlib.pyplot as plt\n",
    "import numpy as np\n",
    "from keras.datasets import mnist\n",
    "from keras.models import Model, Sequential\n",
    "from keras.layers import Input, Dense, Conv2D, MaxPooling2D, UpSampling2D, Flatten, Reshape"
   ]
  },
  {
   "cell_type": "code",
   "execution_count": 2,
   "metadata": {},
   "outputs": [],
   "source": [
    "(treinamento, _) , (teste,_) = mnist.load_data()"
   ]
  },
  {
   "cell_type": "code",
   "execution_count": 4,
   "metadata": {},
   "outputs": [],
   "source": [
    "treinamento = treinamento.reshape((treinamento.shape[0],\n",
    "                                   treinamento.shape[1], \n",
    "                                   treinamento.shape[2],\n",
    "                                   1))"
   ]
  },
  {
   "cell_type": "code",
   "execution_count": 6,
   "metadata": {},
   "outputs": [],
   "source": [
    "teste = teste.reshape((teste.shape[0],\n",
    "                       teste.shape[1], \n",
    "                       teste.shape[2],\n",
    "                       1))"
   ]
  },
  {
   "cell_type": "code",
   "execution_count": 7,
   "metadata": {},
   "outputs": [],
   "source": [
    "base_treinamento = treinamento.astype('float32')/255\n",
    "base_teste = teste.astype('float32')/255"
   ]
  },
  {
   "cell_type": "markdown",
   "metadata": {},
   "source": [
    "## Criação e Treinamento Autoencoder"
   ]
  },
  {
   "cell_type": "code",
   "execution_count": 24,
   "metadata": {},
   "outputs": [],
   "source": [
    "autoencoder = Sequential()"
   ]
  },
  {
   "cell_type": "code",
   "execution_count": 25,
   "metadata": {},
   "outputs": [],
   "source": [
    "#Encoder\n",
    "#Primeira camada de Conv. 16 filtros 3x3 e Max_pool de 2x2\n",
    "autoencoder.add(Conv2D(filters=16, kernel_size=(3,3), activation='relu',\n",
    "                       input_shape=(28,28,1)))\n",
    "autoencoder.add(MaxPooling2D(pool_size=(2,2)))\n",
    "#Segunda camada de Conv. 8 filtros 3x3 e Max_pool de 2x2\n",
    "autoencoder.add(Conv2D(filters=8, kernel_size=(3,3), activation='relu', padding='same'))\n",
    "autoencoder.add(MaxPooling2D(pool_size=(2,2), padding='same'))\n",
    "#Terceira camada de Conv. 8 filtros 3x3 e strides 2x2\n",
    "autoencoder.add(Conv2D(filters=8, kernel_size=(3,3), activation='relu', \n",
    "                       padding='same', strides=(2,2)))\n"
   ]
  },
  {
   "cell_type": "code",
   "execution_count": 26,
   "metadata": {},
   "outputs": [],
   "source": [
    "#Array entra na Flatten como 4x4x8\n",
    "autoencoder.add(Flatten())\n",
    "autoencoder.add(Reshape((4,4,8)))"
   ]
  },
  {
   "cell_type": "code",
   "execution_count": 27,
   "metadata": {},
   "outputs": [],
   "source": [
    "#Decoder\n",
    "#Decoder da terceira camada\n",
    "autoencoder.add(Conv2D(filters=8, kernel_size=(3,3), activation='relu', \n",
    "                       padding='same'))\n",
    "autoencoder.add(UpSampling2D(size=(2,2)))\n",
    "#Decoder da segunda camada\n",
    "autoencoder.add(Conv2D(filters=8, kernel_size=(3,3), activation='relu', padding='same'))\n",
    "autoencoder.add(UpSampling2D(size=(2,2)))\n",
    "#Decoder da Primeira camada\n",
    "autoencoder.add(Conv2D(filters=16, kernel_size=(3,3), activation='relu'))\n",
    "#Camada final para retornar a imagem\n",
    "autoencoder.add(UpSampling2D(size=(2,2)))\n",
    "autoencoder.add(Conv2D(filters=1, kernel_size=(3,3), activation='sigmoid', padding='same'))"
   ]
  },
  {
   "cell_type": "code",
   "execution_count": 28,
   "metadata": {},
   "outputs": [
    {
     "name": "stdout",
     "output_type": "stream",
     "text": [
      "_________________________________________________________________\n",
      "Layer (type)                 Output Shape              Param #   \n",
      "=================================================================\n",
      "conv2d_18 (Conv2D)           (None, 26, 26, 16)        160       \n",
      "_________________________________________________________________\n",
      "max_pooling2d_9 (MaxPooling2 (None, 13, 13, 16)        0         \n",
      "_________________________________________________________________\n",
      "conv2d_19 (Conv2D)           (None, 13, 13, 8)         1160      \n",
      "_________________________________________________________________\n",
      "max_pooling2d_10 (MaxPooling (None, 7, 7, 8)           0         \n",
      "_________________________________________________________________\n",
      "conv2d_20 (Conv2D)           (None, 4, 4, 8)           584       \n",
      "_________________________________________________________________\n",
      "flatten_5 (Flatten)          (None, 128)               0         \n",
      "_________________________________________________________________\n",
      "reshape_3 (Reshape)          (None, 4, 4, 8)           0         \n",
      "_________________________________________________________________\n",
      "conv2d_21 (Conv2D)           (None, 4, 4, 8)           584       \n",
      "_________________________________________________________________\n",
      "up_sampling2d_4 (UpSampling2 (None, 8, 8, 8)           0         \n",
      "_________________________________________________________________\n",
      "conv2d_22 (Conv2D)           (None, 8, 8, 8)           584       \n",
      "_________________________________________________________________\n",
      "up_sampling2d_5 (UpSampling2 (None, 16, 16, 8)         0         \n",
      "_________________________________________________________________\n",
      "conv2d_23 (Conv2D)           (None, 14, 14, 16)        1168      \n",
      "_________________________________________________________________\n",
      "up_sampling2d_6 (UpSampling2 (None, 28, 28, 16)        0         \n",
      "_________________________________________________________________\n",
      "conv2d_24 (Conv2D)           (None, 28, 28, 1)         145       \n",
      "=================================================================\n",
      "Total params: 4,385\n",
      "Trainable params: 4,385\n",
      "Non-trainable params: 0\n",
      "_________________________________________________________________\n"
     ]
    }
   ],
   "source": [
    "autoencoder.summary()"
   ]
  },
  {
   "cell_type": "code",
   "execution_count": 29,
   "metadata": {},
   "outputs": [],
   "source": [
    "autoencoder.compile(optimizer='adam', loss='binary_crossentropy',\n",
    "                   metrics=['accuracy'])"
   ]
  },
  {
   "cell_type": "code",
   "execution_count": 30,
   "metadata": {
    "scrolled": true
   },
   "outputs": [
    {
     "name": "stdout",
     "output_type": "stream",
     "text": [
      "WARNING:tensorflow:From /home/capizani/anaconda3/lib/python3.7/site-packages/keras/backend/tensorflow_backend.py:958: The name tf.assign_add is deprecated. Please use tf.compat.v1.assign_add instead.\n",
      "\n",
      "WARNING:tensorflow:From /home/capizani/anaconda3/lib/python3.7/site-packages/keras/backend/tensorflow_backend.py:680: calling Constant.__init__ (from tensorflow.python.ops.init_ops) with dtype is deprecated and will be removed in a future version.\n",
      "Instructions for updating:\n",
      "Call initializer instance with the dtype argument instead of passing it to the constructor\n",
      "WARNING:tensorflow:From /home/capizani/anaconda3/lib/python3.7/site-packages/keras/backend/tensorflow_backend.py:945: The name tf.assign is deprecated. Please use tf.compat.v1.assign instead.\n",
      "\n",
      "WARNING:tensorflow:From /home/capizani/anaconda3/lib/python3.7/site-packages/keras/backend/tensorflow_backend.py:2378: The name tf.Session is deprecated. Please use tf.compat.v1.Session instead.\n",
      "\n",
      "Train on 60000 samples, validate on 10000 samples\n",
      "Epoch 1/70\n",
      "WARNING:tensorflow:From /home/capizani/anaconda3/lib/python3.7/site-packages/keras/backend/tensorflow_backend.py:159: The name tf.get_default_session is deprecated. Please use tf.compat.v1.get_default_session instead.\n",
      "\n",
      "WARNING:tensorflow:From /home/capizani/anaconda3/lib/python3.7/site-packages/keras/backend/tensorflow_backend.py:164: The name tf.ConfigProto is deprecated. Please use tf.compat.v1.ConfigProto instead.\n",
      "\n",
      "WARNING:tensorflow:From /home/capizani/anaconda3/lib/python3.7/site-packages/keras/backend/tensorflow_backend.py:173: The name tf.global_variables is deprecated. Please use tf.compat.v1.global_variables instead.\n",
      "\n",
      "WARNING:tensorflow:From /home/capizani/anaconda3/lib/python3.7/site-packages/keras/backend/tensorflow_backend.py:182: The name tf.is_variable_initialized is deprecated. Please use tf.compat.v1.is_variable_initialized instead.\n",
      "\n",
      "WARNING:tensorflow:From /home/capizani/anaconda3/lib/python3.7/site-packages/keras/backend/tensorflow_backend.py:189: The name tf.variables_initializer is deprecated. Please use tf.compat.v1.variables_initializer instead.\n",
      "\n",
      "60000/60000 [==============================] - 41s 691us/step - loss: 0.2755 - acc: 0.7877 - val_loss: 0.1598 - val_acc: 0.7981\n",
      "Epoch 2/70\n",
      "60000/60000 [==============================] - 39s 649us/step - loss: 0.1447 - acc: 0.8018 - val_loss: 0.1323 - val_acc: 0.8039\n",
      "Epoch 3/70\n",
      "60000/60000 [==============================] - 38s 636us/step - loss: 0.1271 - acc: 0.8064 - val_loss: 0.1200 - val_acc: 0.8070\n",
      "Epoch 4/70\n",
      "60000/60000 [==============================] - 39s 653us/step - loss: 0.1178 - acc: 0.8086 - val_loss: 0.1131 - val_acc: 0.8084\n",
      "Epoch 5/70\n",
      "60000/60000 [==============================] - 44s 733us/step - loss: 0.1122 - acc: 0.8099 - val_loss: 0.1099 - val_acc: 0.8082\n",
      "Epoch 6/70\n",
      "60000/60000 [==============================] - 46s 760us/step - loss: 0.1085 - acc: 0.8106 - val_loss: 0.1059 - val_acc: 0.8093\n",
      "Epoch 7/70\n",
      "60000/60000 [==============================] - 40s 659us/step - loss: 0.1059 - acc: 0.8111 - val_loss: 0.1034 - val_acc: 0.8105\n",
      "Epoch 8/70\n",
      "60000/60000 [==============================] - 43s 714us/step - loss: 0.1039 - acc: 0.8115 - val_loss: 0.1017 - val_acc: 0.8106\n",
      "Epoch 9/70\n",
      "60000/60000 [==============================] - 42s 703us/step - loss: 0.1023 - acc: 0.8118 - val_loss: 0.1002 - val_acc: 0.8109\n",
      "Epoch 10/70\n",
      "60000/60000 [==============================] - 42s 693us/step - loss: 0.1011 - acc: 0.8120 - val_loss: 0.0992 - val_acc: 0.8114\n",
      "Epoch 11/70\n",
      "60000/60000 [==============================] - 50s 838us/step - loss: 0.1001 - acc: 0.8121 - val_loss: 0.0981 - val_acc: 0.8114\n",
      "Epoch 12/70\n",
      "60000/60000 [==============================] - 39s 644us/step - loss: 0.0991 - acc: 0.8123 - val_loss: 0.0973 - val_acc: 0.8117\n",
      "Epoch 13/70\n",
      "60000/60000 [==============================] - 39s 657us/step - loss: 0.0983 - acc: 0.8124 - val_loss: 0.0965 - val_acc: 0.8116\n",
      "Epoch 14/70\n",
      "60000/60000 [==============================] - 37s 612us/step - loss: 0.0975 - acc: 0.8125 - val_loss: 0.0958 - val_acc: 0.8117\n",
      "Epoch 15/70\n",
      "60000/60000 [==============================] - 37s 615us/step - loss: 0.0969 - acc: 0.8126 - val_loss: 0.0958 - val_acc: 0.8122\n",
      "Epoch 16/70\n",
      "60000/60000 [==============================] - 37s 616us/step - loss: 0.0962 - acc: 0.8127 - val_loss: 0.0953 - val_acc: 0.8122\n",
      "Epoch 17/70\n",
      "60000/60000 [==============================] - 40s 659us/step - loss: 0.0957 - acc: 0.8128 - val_loss: 0.0940 - val_acc: 0.8120\n",
      "Epoch 18/70\n",
      "60000/60000 [==============================] - 51s 855us/step - loss: 0.0951 - acc: 0.8129 - val_loss: 0.0936 - val_acc: 0.8120\n",
      "Epoch 19/70\n",
      "60000/60000 [==============================] - 60s 1ms/step - loss: 0.0947 - acc: 0.8130 - val_loss: 0.0931 - val_acc: 0.8123\n",
      "Epoch 20/70\n",
      "60000/60000 [==============================] - 44s 736us/step - loss: 0.0942 - acc: 0.8131 - val_loss: 0.0925 - val_acc: 0.8122\n",
      "Epoch 21/70\n",
      "60000/60000 [==============================] - 41s 684us/step - loss: 0.0937 - acc: 0.8131 - val_loss: 0.0926 - val_acc: 0.8125\n",
      "Epoch 22/70\n",
      "60000/60000 [==============================] - 50s 839us/step - loss: 0.0933 - acc: 0.8132 - val_loss: 0.0921 - val_acc: 0.8120\n",
      "Epoch 23/70\n",
      "60000/60000 [==============================] - 50s 826us/step - loss: 0.0929 - acc: 0.8133 - val_loss: 0.0914 - val_acc: 0.8125\n",
      "Epoch 24/70\n",
      "60000/60000 [==============================] - 50s 831us/step - loss: 0.0925 - acc: 0.8133 - val_loss: 0.0913 - val_acc: 0.8126\n",
      "Epoch 25/70\n",
      "60000/60000 [==============================] - 50s 839us/step - loss: 0.0922 - acc: 0.8134 - val_loss: 0.0908 - val_acc: 0.8124\n",
      "Epoch 26/70\n",
      "60000/60000 [==============================] - 49s 816us/step - loss: 0.0918 - acc: 0.8134 - val_loss: 0.0904 - val_acc: 0.8124\n",
      "Epoch 27/70\n",
      "60000/60000 [==============================] - 50s 838us/step - loss: 0.0914 - acc: 0.8135 - val_loss: 0.0901 - val_acc: 0.8124\n",
      "Epoch 28/70\n",
      "60000/60000 [==============================] - 50s 826us/step - loss: 0.0912 - acc: 0.8135 - val_loss: 0.0898 - val_acc: 0.8127\n",
      "Epoch 29/70\n",
      "60000/60000 [==============================] - 49s 821us/step - loss: 0.0908 - acc: 0.8136 - val_loss: 0.0894 - val_acc: 0.8127\n",
      "Epoch 30/70\n",
      "60000/60000 [==============================] - 50s 832us/step - loss: 0.0905 - acc: 0.8136 - val_loss: 0.0893 - val_acc: 0.8129\n",
      "Epoch 31/70\n",
      "60000/60000 [==============================] - 51s 851us/step - loss: 0.0902 - acc: 0.8136 - val_loss: 0.0889 - val_acc: 0.8129\n",
      "Epoch 32/70\n",
      "60000/60000 [==============================] - 50s 830us/step - loss: 0.0899 - acc: 0.8137 - val_loss: 0.0888 - val_acc: 0.8126\n",
      "Epoch 33/70\n",
      "60000/60000 [==============================] - 49s 820us/step - loss: 0.0897 - acc: 0.8137 - val_loss: 0.0883 - val_acc: 0.8129\n",
      "Epoch 34/70\n",
      "60000/60000 [==============================] - 50s 833us/step - loss: 0.0893 - acc: 0.8138 - val_loss: 0.0881 - val_acc: 0.8127\n",
      "Epoch 35/70\n",
      "60000/60000 [==============================] - 50s 831us/step - loss: 0.0891 - acc: 0.8138 - val_loss: 0.0878 - val_acc: 0.8129\n",
      "Epoch 36/70\n",
      "60000/60000 [==============================] - 52s 868us/step - loss: 0.0889 - acc: 0.8138 - val_loss: 0.0875 - val_acc: 0.8130\n",
      "Epoch 37/70\n",
      "60000/60000 [==============================] - 51s 846us/step - loss: 0.0886 - acc: 0.8139 - val_loss: 0.0872 - val_acc: 0.8130\n",
      "Epoch 38/70\n",
      "60000/60000 [==============================] - 51s 848us/step - loss: 0.0884 - acc: 0.8139 - val_loss: 0.0872 - val_acc: 0.8131\n",
      "Epoch 39/70\n",
      "60000/60000 [==============================] - 51s 846us/step - loss: 0.0881 - acc: 0.8139 - val_loss: 0.0868 - val_acc: 0.8129\n",
      "Epoch 40/70\n",
      "60000/60000 [==============================] - 51s 850us/step - loss: 0.0879 - acc: 0.8139 - val_loss: 0.0867 - val_acc: 0.8129\n",
      "Epoch 41/70\n",
      "60000/60000 [==============================] - 51s 843us/step - loss: 0.0877 - acc: 0.8139 - val_loss: 0.0864 - val_acc: 0.8131\n",
      "Epoch 42/70\n",
      "60000/60000 [==============================] - 50s 831us/step - loss: 0.0875 - acc: 0.8140 - val_loss: 0.0862 - val_acc: 0.8131\n",
      "Epoch 43/70\n",
      "60000/60000 [==============================] - 51s 845us/step - loss: 0.0873 - acc: 0.8140 - val_loss: 0.0864 - val_acc: 0.8133\n",
      "Epoch 44/70\n"
     ]
    },
    {
     "name": "stdout",
     "output_type": "stream",
     "text": [
      "60000/60000 [==============================] - 51s 855us/step - loss: 0.0872 - acc: 0.8140 - val_loss: 0.0859 - val_acc: 0.8130\n",
      "Epoch 45/70\n",
      "60000/60000 [==============================] - 50s 829us/step - loss: 0.0870 - acc: 0.8140 - val_loss: 0.0857 - val_acc: 0.8131\n",
      "Epoch 46/70\n",
      "60000/60000 [==============================] - 50s 838us/step - loss: 0.0868 - acc: 0.8140 - val_loss: 0.0856 - val_acc: 0.8131\n",
      "Epoch 47/70\n",
      "60000/60000 [==============================] - 50s 832us/step - loss: 0.0867 - acc: 0.8141 - val_loss: 0.0854 - val_acc: 0.8131\n",
      "Epoch 48/70\n",
      "60000/60000 [==============================] - 50s 826us/step - loss: 0.0865 - acc: 0.8141 - val_loss: 0.0853 - val_acc: 0.8132\n",
      "Epoch 49/70\n",
      "60000/60000 [==============================] - 50s 833us/step - loss: 0.0863 - acc: 0.8141 - val_loss: 0.0859 - val_acc: 0.8134\n",
      "Epoch 50/70\n",
      "60000/60000 [==============================] - 51s 850us/step - loss: 0.0863 - acc: 0.8141 - val_loss: 0.0849 - val_acc: 0.8132\n",
      "Epoch 51/70\n",
      "60000/60000 [==============================] - 50s 841us/step - loss: 0.0860 - acc: 0.8141 - val_loss: 0.0851 - val_acc: 0.8133\n",
      "Epoch 52/70\n",
      "60000/60000 [==============================] - 50s 831us/step - loss: 0.0859 - acc: 0.8141 - val_loss: 0.0853 - val_acc: 0.8135\n",
      "Epoch 53/70\n",
      "60000/60000 [==============================] - 50s 831us/step - loss: 0.0857 - acc: 0.8142 - val_loss: 0.0847 - val_acc: 0.8131\n",
      "Epoch 54/70\n",
      "60000/60000 [==============================] - 53s 881us/step - loss: 0.0856 - acc: 0.8142 - val_loss: 0.0844 - val_acc: 0.8132\n",
      "Epoch 55/70\n",
      "60000/60000 [==============================] - 51s 844us/step - loss: 0.0856 - acc: 0.8142 - val_loss: 0.0842 - val_acc: 0.8132\n",
      "Epoch 56/70\n",
      "60000/60000 [==============================] - 52s 872us/step - loss: 0.0854 - acc: 0.8142 - val_loss: 0.0841 - val_acc: 0.8133\n",
      "Epoch 57/70\n",
      "60000/60000 [==============================] - 52s 866us/step - loss: 0.0852 - acc: 0.8142 - val_loss: 0.0844 - val_acc: 0.8131\n",
      "Epoch 58/70\n",
      "60000/60000 [==============================] - 50s 834us/step - loss: 0.0851 - acc: 0.8142 - val_loss: 0.0840 - val_acc: 0.8131\n",
      "Epoch 59/70\n",
      "60000/60000 [==============================] - 54s 908us/step - loss: 0.0851 - acc: 0.8142 - val_loss: 0.0839 - val_acc: 0.8132\n",
      "Epoch 60/70\n",
      "60000/60000 [==============================] - 44s 732us/step - loss: 0.0849 - acc: 0.8142 - val_loss: 0.0836 - val_acc: 0.8133\n",
      "Epoch 61/70\n",
      "60000/60000 [==============================] - 43s 717us/step - loss: 0.0847 - acc: 0.8143 - val_loss: 0.0837 - val_acc: 0.8132\n",
      "Epoch 62/70\n",
      "60000/60000 [==============================] - 47s 776us/step - loss: 0.0846 - acc: 0.8143 - val_loss: 0.0836 - val_acc: 0.8133\n",
      "Epoch 63/70\n",
      "60000/60000 [==============================] - 49s 823us/step - loss: 0.0845 - acc: 0.8143 - val_loss: 0.0836 - val_acc: 0.8131\n",
      "Epoch 64/70\n",
      "60000/60000 [==============================] - 52s 874us/step - loss: 0.0844 - acc: 0.8143 - val_loss: 0.0832 - val_acc: 0.8133\n",
      "Epoch 65/70\n",
      "60000/60000 [==============================] - 47s 782us/step - loss: 0.0843 - acc: 0.8143 - val_loss: 0.0832 - val_acc: 0.8135\n",
      "Epoch 66/70\n",
      "60000/60000 [==============================] - 50s 835us/step - loss: 0.0843 - acc: 0.8143 - val_loss: 0.0832 - val_acc: 0.8132\n",
      "Epoch 67/70\n",
      "60000/60000 [==============================] - 43s 718us/step - loss: 0.0841 - acc: 0.8143 - val_loss: 0.0834 - val_acc: 0.8131\n",
      "Epoch 68/70\n",
      "60000/60000 [==============================] - 45s 753us/step - loss: 0.0841 - acc: 0.8143 - val_loss: 0.0828 - val_acc: 0.8134\n",
      "Epoch 69/70\n",
      "60000/60000 [==============================] - 49s 818us/step - loss: 0.0840 - acc: 0.8143 - val_loss: 0.0832 - val_acc: 0.8135\n",
      "Epoch 70/70\n",
      "60000/60000 [==============================] - 44s 726us/step - loss: 0.0839 - acc: 0.8143 - val_loss: 0.0827 - val_acc: 0.8134\n"
     ]
    },
    {
     "data": {
      "text/plain": [
       "<keras.callbacks.History at 0x7f6c0711ef50>"
      ]
     },
     "execution_count": 30,
     "metadata": {},
     "output_type": "execute_result"
    }
   ],
   "source": [
    "autoencoder.fit(base_treinamento, base_treinamento,\n",
    "                epochs=70, batch_size=256,\n",
    "                validation_data=(base_teste, base_teste))"
   ]
  },
  {
   "cell_type": "markdown",
   "metadata": {},
   "source": [
    "## Validação e Resultados"
   ]
  },
  {
   "cell_type": "code",
   "execution_count": 31,
   "metadata": {},
   "outputs": [],
   "source": [
    "imagens_decodificadas = autoencoder.predict(base_teste)"
   ]
  },
  {
   "cell_type": "code",
   "execution_count": 32,
   "metadata": {},
   "outputs": [],
   "source": [
    "imagens_teste = np.random.randint(base_teste.shape[0], size = 10)"
   ]
  },
  {
   "cell_type": "code",
   "execution_count": 34,
   "metadata": {},
   "outputs": [
    {
     "data": {
      "image/png": "[encoded data removed]",
      "text/plain": [
       "<Figure size 1296x1296 with 20 Axes>"
      ]
     },
     "metadata": {},
     "output_type": "display_data"
    }
   ],
   "source": [
    "plt.figure(figsize=(18,18))\n",
    "for i,indice in enumerate(imagens_teste):\n",
    "    #Imagens Originais\n",
    "    eixo = plt.subplot(10,10, i+1)\n",
    "    plt.imshow(base_teste[indice].reshape(28,28))\n",
    "    plt.xticks(())\n",
    "    plt.yticks(())\n",
    "    #Imagens Decodificadas\n",
    "    eixo = plt.subplot(10,10, i+1+20)\n",
    "    plt.imshow(imagens_decodificadas[indice].reshape(28,28))\n",
    "    plt.xticks(())\n",
    "    plt.yticks(())"
   ]
  },
  {
   "cell_type": "code",
   "execution_count": null,
   "metadata": {},
   "outputs": [],
   "source": []
  }
 ],
 "metadata": {
  "kernelspec": {
   "display_name": "Python 3",
   "language": "python",
   "name": "python3"
  },
  "language_info": {
   "codemirror_mode": {
    "name": "ipython",
    "version": 3
   },
   "file_extension": ".py",
   "mimetype": "text/x-python",
   "name": "python",
   "nbconvert_exporter": "python",
   "pygments_lexer": "ipython3",
   "version": "3.7.4"
  }
 },
 "nbformat": 4,
 "nbformat_minor": 2
}
