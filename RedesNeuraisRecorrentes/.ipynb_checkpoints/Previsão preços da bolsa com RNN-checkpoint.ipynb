{
 "cells": [
  {
   "cell_type": "markdown",
   "metadata": {},
   "source": [
    "# Previsão de preços na bolsa com RNN"
   ]
  },
  {
   "cell_type": "markdown",
   "metadata": {},
   "source": []
  },
  {
   "cell_type": "markdown",
   "metadata": {},
   "source": [
    "## Importação Dados e Biblioteca"
   ]
  },
  {
   "cell_type": "code",
   "execution_count": 31,
   "metadata": {},
   "outputs": [],
   "source": [
    "from keras.models import Sequential\n",
    "from keras.layers import Dense, Dropout, LSTM\n",
    "from sklearn.preprocessing import MinMaxScaler\n",
    "import numpy as np\n",
    "import pandas as pd"
   ]
  },
  {
   "cell_type": "code",
   "execution_count": 2,
   "metadata": {},
   "outputs": [],
   "source": [
    "petr_treino = pd.read_csv('../datasets/acoes/PETR4_treino.csv')\n",
    "petr_teste = pd.read_csv('../datasets/acoes/PETR4_teste.csv')"
   ]
  },
  {
   "cell_type": "markdown",
   "metadata": {},
   "source": [
    "## Preprocessamento dos dados"
   ]
  },
  {
   "cell_type": "code",
   "execution_count": 3,
   "metadata": {},
   "outputs": [],
   "source": [
    "petr_treino.dropna(inplace=True)\n",
    "petr_teste.dropna(inplace=True)"
   ]
  },
  {
   "cell_type": "code",
   "execution_count": 4,
   "metadata": {},
   "outputs": [],
   "source": [
    "petr_treino = petr_treino.loc[:,['Date', 'Open']]\n",
    "petr_teste = petr_teste.loc[:,['Date', 'Open']]"
   ]
  },
  {
   "cell_type": "code",
   "execution_count": 5,
   "metadata": {},
   "outputs": [],
   "source": [
    "normalizador_petr_treino = MinMaxScaler()\n",
    "normalizador_petr_teste = MinMaxScaler()"
   ]
  },
  {
   "cell_type": "code",
   "execution_count": 6,
   "metadata": {},
   "outputs": [],
   "source": [
    "petr_treino.loc[:, ['Open']] = normalizador_petr_treino\\\n",
    "                                .fit_transform(petr_treino.loc[:, ['Open']])\n",
    "petr_teste.loc[:, ['Open']] = normalizador_petr_teste\\\n",
    "                                .fit_transform(petr_teste.loc[:, ['Open']])"
   ]
  },
  {
   "cell_type": "code",
   "execution_count": 8,
   "metadata": {},
   "outputs": [],
   "source": [
    "previsores = []\n",
    "preco_real = []"
   ]
  },
  {
   "cell_type": "code",
   "execution_count": 21,
   "metadata": {},
   "outputs": [],
   "source": [
    "#Estebelecido min de 90 dados para prever\n",
    "for counter in range(90, petr_treino.shape[0]):\n",
    "    previsores.append(petr_treino.iloc[counter-90:counter,1])\n",
    "    preco_real.append(petr_treino.iloc[counter,1])"
   ]
  },
  {
   "cell_type": "code",
   "execution_count": 33,
   "metadata": {},
   "outputs": [],
   "source": [
    "previsores, preco_real = np.array(previsores), np.array(preco_real)"
   ]
  },
  {
   "cell_type": "code",
   "execution_count": 39,
   "metadata": {},
   "outputs": [],
   "source": [
    "#Da Doc Keras inputs: A 3D tensor with shape [batch, timesteps, feature]\n",
    "previsores = np.reshape(previsores, (previsores.shape[0], \n",
    "                                     previsores.shape[1],\n",
    "                                     1))"
   ]
  },
  {
   "cell_type": "markdown",
   "metadata": {},
   "source": [
    "## Construção da RNN"
   ]
  },
  {
   "cell_type": "code",
   "execution_count": 42,
   "metadata": {},
   "outputs": [],
   "source": [
    "regressor = Sequential()"
   ]
  },
  {
   "cell_type": "code",
   "execution_count": 43,
   "metadata": {},
   "outputs": [],
   "source": [
    "regressor.add(LSTM(units=100, return_sequences=True, input_shape=(previsores.shape[1],1)))\n",
    "regressor.add(Dropout(0.3))"
   ]
  },
  {
   "cell_type": "code",
   "execution_count": 44,
   "metadata": {},
   "outputs": [],
   "source": [
    "regressor.add(LSTM(units=50, return_sequences=True))\n",
    "regressor.add(Dropout(0.3))\n",
    "\n",
    "regressor.add(LSTM(units=50, return_sequences=True))\n",
    "regressor.add(Dropout(0.3))\n",
    "\n",
    "regressor.add(LSTM(units=50))\n",
    "regressor.add(Dropout(0.3))"
   ]
  },
  {
   "cell_type": "code",
   "execution_count": 45,
   "metadata": {},
   "outputs": [],
   "source": [
    "regressor.add(Dense(units=1, activation='linear'))"
   ]
  },
  {
   "cell_type": "code",
   "execution_count": 46,
   "metadata": {},
   "outputs": [],
   "source": [
    "regressor.compile(optimizer = 'rmsprop', loss='mean_squared_error',\n",
    "                  metrics = ['mean_absolute_error'])"
   ]
  },
  {
   "cell_type": "code",
   "execution_count": 47,
   "metadata": {
    "scrolled": true
   },
   "outputs": [
    {
     "name": "stdout",
     "output_type": "stream",
     "text": [
      "Epoch 1/100\n",
      "88/88 [==============================] - 10s 117ms/step - loss: 0.0264 - mean_absolute_error: 0.1199\n",
      "Epoch 2/100\n",
      "88/88 [==============================] - 11s 120ms/step - loss: 0.0125 - mean_absolute_error: 0.0841\n",
      "Epoch 3/100\n",
      "88/88 [==============================] - 9s 107ms/step - loss: 0.0091 - mean_absolute_error: 0.0717\n",
      "Epoch 4/100\n",
      "88/88 [==============================] - 10s 117ms/step - loss: 0.0076 - mean_absolute_error: 0.0639\n",
      "Epoch 5/100\n",
      "88/88 [==============================] - 12s 132ms/step - loss: 0.0067 - mean_absolute_error: 0.0620\n",
      "Epoch 6/100\n",
      "88/88 [==============================] - 10s 108ms/step - loss: 0.0061 - mean_absolute_error: 0.0574\n",
      "Epoch 7/100\n",
      "88/88 [==============================] - 9s 107ms/step - loss: 0.0054 - mean_absolute_error: 0.0552\n",
      "Epoch 8/100\n",
      "88/88 [==============================] - 9s 107ms/step - loss: 0.0047 - mean_absolute_error: 0.0517\n",
      "Epoch 9/100\n",
      "88/88 [==============================] - 10s 108ms/step - loss: 0.0046 - mean_absolute_error: 0.0502\n",
      "Epoch 10/100\n",
      "88/88 [==============================] - 9s 106ms/step - loss: 0.0043 - mean_absolute_error: 0.0490\n",
      "Epoch 11/100\n",
      "88/88 [==============================] - 9s 103ms/step - loss: 0.0041 - mean_absolute_error: 0.0482\n",
      "Epoch 12/100\n",
      "88/88 [==============================] - 9s 105ms/step - loss: 0.0037 - mean_absolute_error: 0.0448\n",
      "Epoch 13/100\n",
      "88/88 [==============================] - 8s 96ms/step - loss: 0.0034 - mean_absolute_error: 0.0437\n",
      "Epoch 14/100\n",
      "88/88 [==============================] - 8s 91ms/step - loss: 0.0034 - mean_absolute_error: 0.0435\n",
      "Epoch 15/100\n",
      "88/88 [==============================] - 8s 91ms/step - loss: 0.0030 - mean_absolute_error: 0.0416\n",
      "Epoch 16/100\n",
      "88/88 [==============================] - 8s 91ms/step - loss: 0.0031 - mean_absolute_error: 0.0423\n",
      "Epoch 17/100\n",
      "88/88 [==============================] - 8s 91ms/step - loss: 0.0028 - mean_absolute_error: 0.0391\n",
      "Epoch 18/100\n",
      "88/88 [==============================] - 8s 94ms/step - loss: 0.0027 - mean_absolute_error: 0.0387\n",
      "Epoch 19/100\n",
      "88/88 [==============================] - 11s 130ms/step - loss: 0.0028 - mean_absolute_error: 0.0388\n",
      "Epoch 20/100\n",
      "88/88 [==============================] - 10s 113ms/step - loss: 0.0024 - mean_absolute_error: 0.0371\n",
      "Epoch 21/100\n",
      "88/88 [==============================] - 10s 111ms/step - loss: 0.0027 - mean_absolute_error: 0.0384\n",
      "Epoch 22/100\n",
      "88/88 [==============================] - 10s 114ms/step - loss: 0.0023 - mean_absolute_error: 0.0370\n",
      "Epoch 23/100\n",
      "88/88 [==============================] - 8s 94ms/step - loss: 0.0022 - mean_absolute_error: 0.0355\n",
      "Epoch 24/100\n",
      "88/88 [==============================] - 8s 94ms/step - loss: 0.0024 - mean_absolute_error: 0.0360\n",
      "Epoch 25/100\n",
      "88/88 [==============================] - 8s 92ms/step - loss: 0.0021 - mean_absolute_error: 0.0343\n",
      "Epoch 26/100\n",
      "88/88 [==============================] - 9s 97ms/step - loss: 0.0022 - mean_absolute_error: 0.0347\n",
      "Epoch 27/100\n",
      "88/88 [==============================] - 9s 99ms/step - loss: 0.0023 - mean_absolute_error: 0.0354\n",
      "Epoch 28/100\n",
      "88/88 [==============================] - 9s 98ms/step - loss: 0.0020 - mean_absolute_error: 0.0340\n",
      "Epoch 29/100\n",
      "88/88 [==============================] - 9s 103ms/step - loss: 0.0022 - mean_absolute_error: 0.0344\n",
      "Epoch 30/100\n",
      "88/88 [==============================] - 9s 99ms/step - loss: 0.0022 - mean_absolute_error: 0.0346\n",
      "Epoch 31/100\n",
      "88/88 [==============================] - 9s 103ms/step - loss: 0.0020 - mean_absolute_error: 0.0336\n",
      "Epoch 32/100\n",
      "88/88 [==============================] - 9s 97ms/step - loss: 0.0019 - mean_absolute_error: 0.0324\n",
      "Epoch 33/100\n",
      "88/88 [==============================] - 9s 105ms/step - loss: 0.0019 - mean_absolute_error: 0.0329\n",
      "Epoch 34/100\n",
      "88/88 [==============================] - 9s 100ms/step - loss: 0.0019 - mean_absolute_error: 0.0323\n",
      "Epoch 35/100\n",
      "88/88 [==============================] - 9s 102ms/step - loss: 0.0020 - mean_absolute_error: 0.0330\n",
      "Epoch 36/100\n",
      "88/88 [==============================] - 9s 102ms/step - loss: 0.0017 - mean_absolute_error: 0.0313\n",
      "Epoch 37/100\n",
      "88/88 [==============================] - 9s 100ms/step - loss: 0.0017 - mean_absolute_error: 0.0313\n",
      "Epoch 38/100\n",
      "88/88 [==============================] - 9s 104ms/step - loss: 0.0018 - mean_absolute_error: 0.0319\n",
      "Epoch 39/100\n",
      "88/88 [==============================] - 9s 99ms/step - loss: 0.0016 - mean_absolute_error: 0.0300\n",
      "Epoch 40/100\n",
      "88/88 [==============================] - 9s 105ms/step - loss: 0.0018 - mean_absolute_error: 0.0313\n",
      "Epoch 41/100\n",
      "88/88 [==============================] - 9s 100ms/step - loss: 0.0017 - mean_absolute_error: 0.0311\n",
      "Epoch 42/100\n",
      "88/88 [==============================] - 9s 102ms/step - loss: 0.0016 - mean_absolute_error: 0.0305\n",
      "Epoch 43/100\n",
      "88/88 [==============================] - 9s 102ms/step - loss: 0.0016 - mean_absolute_error: 0.0301\n",
      "Epoch 44/100\n",
      "88/88 [==============================] - 9s 99ms/step - loss: 0.0016 - mean_absolute_error: 0.0302\n",
      "Epoch 45/100\n",
      "88/88 [==============================] - 9s 105ms/step - loss: 0.0016 - mean_absolute_error: 0.0299\n",
      "Epoch 46/100\n",
      "88/88 [==============================] - 9s 100ms/step - loss: 0.0015 - mean_absolute_error: 0.0294\n",
      "Epoch 47/100\n",
      "88/88 [==============================] - 9s 105ms/step - loss: 0.0016 - mean_absolute_error: 0.0288\n",
      "Epoch 48/100\n",
      "88/88 [==============================] - 9s 104ms/step - loss: 0.0018 - mean_absolute_error: 0.0310\n",
      "Epoch 49/100\n",
      "88/88 [==============================] - 9s 101ms/step - loss: 0.0015 - mean_absolute_error: 0.0287\n",
      "Epoch 50/100\n",
      "88/88 [==============================] - 9s 104ms/step - loss: 0.0015 - mean_absolute_error: 0.0291\n",
      "Epoch 51/100\n",
      "88/88 [==============================] - 9s 108ms/step - loss: 0.0016 - mean_absolute_error: 0.0289\n",
      "Epoch 52/100\n",
      "88/88 [==============================] - 10s 108ms/step - loss: 0.0016 - mean_absolute_error: 0.0296\n",
      "Epoch 53/100\n",
      "88/88 [==============================] - 10s 108ms/step - loss: 0.0016 - mean_absolute_error: 0.0294\n",
      "Epoch 54/100\n",
      "88/88 [==============================] - 10s 108ms/step - loss: 0.0016 - mean_absolute_error: 0.0288\n",
      "Epoch 55/100\n",
      "88/88 [==============================] - 9s 106ms/step - loss: 0.0015 - mean_absolute_error: 0.0285\n",
      "Epoch 56/100\n",
      "88/88 [==============================] - 9s 105ms/step - loss: 0.0018 - mean_absolute_error: 0.0304\n",
      "Epoch 57/100\n",
      "88/88 [==============================] - 9s 105ms/step - loss: 0.0015 - mean_absolute_error: 0.0283\n",
      "Epoch 58/100\n",
      "88/88 [==============================] - 9s 108ms/step - loss: 0.0014 - mean_absolute_error: 0.0272\n",
      "Epoch 59/100\n",
      "88/88 [==============================] - 10s 108ms/step - loss: 0.0015 - mean_absolute_error: 0.0285\n",
      "Epoch 60/100\n",
      "88/88 [==============================] - 9s 105ms/step - loss: 0.0015 - mean_absolute_error: 0.0285\n",
      "Epoch 61/100\n",
      "88/88 [==============================] - 9s 106ms/step - loss: 0.0014 - mean_absolute_error: 0.0279\n",
      "Epoch 62/100\n",
      "88/88 [==============================] - 9s 107ms/step - loss: 0.0014 - mean_absolute_error: 0.0275\n",
      "Epoch 63/100\n",
      "88/88 [==============================] - 9s 106ms/step - loss: 0.0015 - mean_absolute_error: 0.0275\n",
      "Epoch 64/100\n",
      "88/88 [==============================] - 9s 106ms/step - loss: 0.0015 - mean_absolute_error: 0.0283\n",
      "Epoch 65/100\n",
      "88/88 [==============================] - 10s 108ms/step - loss: 0.0014 - mean_absolute_error: 0.0274\n",
      "Epoch 66/100\n",
      "88/88 [==============================] - 9s 107ms/step - loss: 0.0015 - mean_absolute_error: 0.0284\n",
      "Epoch 67/100\n",
      "88/88 [==============================] - 10s 109ms/step - loss: 0.0013 - mean_absolute_error: 0.0262\n",
      "Epoch 68/100\n",
      "88/88 [==============================] - 9s 105ms/step - loss: 0.0015 - mean_absolute_error: 0.0278\n",
      "Epoch 69/100\n",
      "88/88 [==============================] - 10s 109ms/step - loss: 0.0014 - mean_absolute_error: 0.0279\n",
      "Epoch 70/100\n",
      "88/88 [==============================] - 9s 106ms/step - loss: 0.0013 - mean_absolute_error: 0.0271\n",
      "Epoch 71/100\n",
      "88/88 [==============================] - 10s 109ms/step - loss: 0.0014 - mean_absolute_error: 0.0269\n",
      "Epoch 72/100\n",
      "88/88 [==============================] - 9s 108ms/step - loss: 0.0015 - mean_absolute_error: 0.0284\n",
      "Epoch 73/100\n"
     ]
    },
    {
     "name": "stdout",
     "output_type": "stream",
     "text": [
      "88/88 [==============================] - 9s 108ms/step - loss: 0.0014 - mean_absolute_error: 0.0270\n",
      "Epoch 74/100\n",
      "88/88 [==============================] - 9s 107ms/step - loss: 0.0015 - mean_absolute_error: 0.0278\n",
      "Epoch 75/100\n",
      "88/88 [==============================] - 9s 105ms/step - loss: 0.0014 - mean_absolute_error: 0.0269\n",
      "Epoch 76/100\n",
      "88/88 [==============================] - 10s 108ms/step - loss: 0.0014 - mean_absolute_error: 0.0274\n",
      "Epoch 77/100\n",
      "88/88 [==============================] - 9s 103ms/step - loss: 0.0013 - mean_absolute_error: 0.0271\n",
      "Epoch 78/100\n",
      "88/88 [==============================] - 10s 110ms/step - loss: 0.0015 - mean_absolute_error: 0.0280\n",
      "Epoch 79/100\n",
      "88/88 [==============================] - 9s 106ms/step - loss: 0.0014 - mean_absolute_error: 0.0269\n",
      "Epoch 80/100\n",
      "88/88 [==============================] - 9s 106ms/step - loss: 0.0013 - mean_absolute_error: 0.0263\n",
      "Epoch 81/100\n",
      "88/88 [==============================] - 10s 108ms/step - loss: 0.0014 - mean_absolute_error: 0.0267\n",
      "Epoch 82/100\n",
      "88/88 [==============================] - 10s 108ms/step - loss: 0.0014 - mean_absolute_error: 0.0275\n",
      "Epoch 83/100\n",
      "88/88 [==============================] - 10s 109ms/step - loss: 0.0014 - mean_absolute_error: 0.0276\n",
      "Epoch 84/100\n",
      "88/88 [==============================] - 9s 107ms/step - loss: 0.0013 - mean_absolute_error: 0.0259\n",
      "Epoch 85/100\n",
      "88/88 [==============================] - 10s 111ms/step - loss: 0.0013 - mean_absolute_error: 0.0266\n",
      "Epoch 86/100\n",
      "88/88 [==============================] - 9s 107ms/step - loss: 0.0013 - mean_absolute_error: 0.0272\n",
      "Epoch 87/100\n",
      "88/88 [==============================] - 10s 109ms/step - loss: 0.0014 - mean_absolute_error: 0.0269\n",
      "Epoch 88/100\n",
      "88/88 [==============================] - 10s 109ms/step - loss: 0.0013 - mean_absolute_error: 0.0269\n",
      "Epoch 89/100\n",
      "88/88 [==============================] - 9s 107ms/step - loss: 0.0014 - mean_absolute_error: 0.0264\n",
      "Epoch 90/100\n",
      "88/88 [==============================] - 10s 110ms/step - loss: 0.0014 - mean_absolute_error: 0.0268\n",
      "Epoch 91/100\n",
      "88/88 [==============================] - 9s 106ms/step - loss: 0.0013 - mean_absolute_error: 0.0257\n",
      "Epoch 92/100\n",
      "88/88 [==============================] - 10s 108ms/step - loss: 0.0014 - mean_absolute_error: 0.0269\n",
      "Epoch 93/100\n",
      "88/88 [==============================] - 10s 108ms/step - loss: 0.0013 - mean_absolute_error: 0.0261\n",
      "Epoch 94/100\n",
      "88/88 [==============================] - 10s 109ms/step - loss: 0.0012 - mean_absolute_error: 0.0257\n",
      "Epoch 95/100\n",
      "88/88 [==============================] - 10s 108ms/step - loss: 0.0015 - mean_absolute_error: 0.0278\n",
      "Epoch 96/100\n",
      "88/88 [==============================] - 10s 109ms/step - loss: 0.0014 - mean_absolute_error: 0.0263\n",
      "Epoch 97/100\n",
      "88/88 [==============================] - 10s 108ms/step - loss: 0.0012 - mean_absolute_error: 0.0255\n",
      "Epoch 98/100\n",
      "88/88 [==============================] - 10s 108ms/step - loss: 0.0014 - mean_absolute_error: 0.0266\n",
      "Epoch 99/100\n",
      "88/88 [==============================] - 9s 108ms/step - loss: 0.0013 - mean_absolute_error: 0.0258\n",
      "Epoch 100/100\n",
      "88/88 [==============================] - 10s 109ms/step - loss: 0.0012 - mean_absolute_error: 0.0258\n"
     ]
    },
    {
     "data": {
      "text/plain": [
       "<tensorflow.python.keras.callbacks.History at 0x7ff001666290>"
      ]
     },
     "execution_count": 47,
     "metadata": {},
     "output_type": "execute_result"
    }
   ],
   "source": [
    "regressor.fit(previsores, preco_real, epochs=100, batch_size=16)"
   ]
  },
  {
   "cell_type": "markdown",
   "metadata": {},
   "source": [
    "## Testando o modelo"
   ]
  },
  {
   "cell_type": "code",
   "execution_count": 60,
   "metadata": {},
   "outputs": [],
   "source": [
    "preco_real_teste = petr_teste.iloc[1:,1] "
   ]
  },
  {
   "cell_type": "code",
   "execution_count": 77,
   "metadata": {},
   "outputs": [],
   "source": [
    "previsores_teste = []\n",
    "valor_teste = []"
   ]
  },
  {
   "cell_type": "code",
   "execution_count": 86,
   "metadata": {},
   "outputs": [
    {
     "data": {
      "text/plain": [
       "156"
      ]
     },
     "execution_count": 86,
     "metadata": {},
     "output_type": "execute_result"
    }
   ],
   "source": [
    "len(valor_teste)\n",
    "len(previsores_teste)"
   ]
  },
  {
   "cell_type": "code",
   "execution_count": 79,
   "metadata": {},
   "outputs": [],
   "source": [
    "#Estebelecido min de 90 dados para prever\n",
    "for counter in range(90, preco_real_teste.shape[0]):\n",
    "    previsores_teste.append(preco_real_teste[counter-90:counter])\n",
    "    valor_teste.append(preco_real_teste[counter])"
   ]
  },
  {
   "cell_type": "code",
   "execution_count": 80,
   "metadata": {},
   "outputs": [],
   "source": [
    "previsores_teste, valor_teste = np.array(previsores_teste), np.array(valor_teste)"
   ]
  },
  {
   "cell_type": "code",
   "execution_count": 81,
   "metadata": {},
   "outputs": [],
   "source": [
    "#Da Doc Keras inputs: A 3D tensor with shape [batch, timesteps, feature]\n",
    "previsores_teste = np.reshape(previsores_teste, (previsores_teste.shape[0], \n",
    "                                                 previsores_teste.shape[1],\n",
    "                                                 1))"
   ]
  },
  {
   "cell_type": "code",
   "execution_count": 88,
   "metadata": {},
   "outputs": [],
   "source": [
    "predicoes = regressor.predict(previsores_teste)"
   ]
  },
  {
   "cell_type": "code",
   "execution_count": 90,
   "metadata": {},
   "outputs": [],
   "source": [
    "predicoes = normalizador_petr_teste.inverse_transform(predicoes)"
   ]
  },
  {
   "cell_type": "code",
   "execution_count": 93,
   "metadata": {},
   "outputs": [
    {
     "data": {
      "text/plain": [
       "(156, 1)"
      ]
     },
     "execution_count": 93,
     "metadata": {},
     "output_type": "execute_result"
    }
   ],
   "source": [
    "predicoes.shape"
   ]
  },
  {
   "cell_type": "code",
   "execution_count": 97,
   "metadata": {},
   "outputs": [],
   "source": [
    "valor_teste = normalizador_petr_teste\\\n",
    "                .inverse_transform(np.reshape(valor_teste, (valor_teste.shape[0], 1)))"
   ]
  },
  {
   "cell_type": "code",
   "execution_count": 100,
   "metadata": {},
   "outputs": [],
   "source": [
    "error = valor_teste - predicoes"
   ]
  },
  {
   "cell_type": "code",
   "execution_count": 104,
   "metadata": {},
   "outputs": [],
   "source": [
    "mae = np.mean(np.abs(error))\n",
    "mse = np.mean(np.abs(error)**2)"
   ]
  },
  {
   "cell_type": "code",
   "execution_count": 108,
   "metadata": {},
   "outputs": [
    {
     "name": "stdout",
     "output_type": "stream",
     "text": [
      "Erro absoluto médio: 0.3165668047039327 \n",
      "\n",
      "Erro quadratico médio: 0.16245697630147063\n"
     ]
    }
   ],
   "source": [
    "print(f\"Erro absoluto médio: {mae} \\n\") \n",
    "print(f\"Erro quadratico médio: {mse}\" )"
   ]
  },
  {
   "cell_type": "code",
   "execution_count": null,
   "metadata": {},
   "outputs": [],
   "source": []
  }
 ],
 "metadata": {
  "kernelspec": {
   "display_name": "Python 3",
   "language": "python",
   "name": "python3"
  },
  "language_info": {
   "codemirror_mode": {
    "name": "ipython",
    "version": 3
   },
   "file_extension": ".py",
   "mimetype": "text/x-python",
   "name": "python",
   "nbconvert_exporter": "python",
   "pygments_lexer": "ipython3",
   "version": "3.7.4"
  }
 },
 "nbformat": 4,
 "nbformat_minor": 2
}
