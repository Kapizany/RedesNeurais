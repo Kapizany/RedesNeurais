{
 "cells": [
  {
   "cell_type": "markdown",
   "metadata": {},
   "source": [
    "# Geração automatica de digitos com Redes Adversárias Generativas (GAN's)"
   ]
  },
  {
   "cell_type": "markdown",
   "metadata": {},
   "source": [
    "Treinamento de uma GAN com a base de dados MNIST, para geração automática de dígitos manuscritos."
   ]
  },
  {
   "cell_type": "markdown",
   "metadata": {},
   "source": [
    "## Importações e Preprocessamento"
   ]
  },
  {
   "cell_type": "code",
   "execution_count": 1,
   "metadata": {},
   "outputs": [
    {
     "name": "stderr",
     "output_type": "stream",
     "text": [
      "Using TensorFlow backend.\n"
     ]
    }
   ],
   "source": [
    "import matplotlib.pyplot as plt\n",
    "import numpy as np\n",
    "from keras.datasets import mnist\n",
    "from keras.models import Sequential\n",
    "from keras.layers import InputLayer , Dense, Flatten, Reshape\n",
    "from keras.regularizers import L1L2\n",
    "from keras_adversarial import AdversarialModel, simple_gan, gan_targets\n",
    "from keras_adversarial import AdversarialOptimizerSimultaneous, normal_latent_sampling"
   ]
  },
  {
   "cell_type": "code",
   "execution_count": 2,
   "metadata": {},
   "outputs": [],
   "source": [
    "(previsores_treinamento, _),(_,_) = mnist.load_data()"
   ]
  },
  {
   "cell_type": "code",
   "execution_count": 3,
   "metadata": {},
   "outputs": [],
   "source": [
    "treinamento = previsores_treinamento.astype('float32')/255"
   ]
  },
  {
   "cell_type": "markdown",
   "metadata": {},
   "source": [
    "## Criação Gerador"
   ]
  },
  {
   "cell_type": "code",
   "execution_count": 7,
   "metadata": {},
   "outputs": [],
   "source": [
    "gerador = Sequential()"
   ]
  },
  {
   "cell_type": "code",
   "execution_count": 8,
   "metadata": {},
   "outputs": [],
   "source": [
    "#Primeira e segunda camada com units arbitrarios - Testar\n",
    "gerador.add(Dense(units=500, input_dim=100, activation='relu',\n",
    "                  kernel_regularizer=L1L2(1e-5, 1e-5)))\n",
    "gerador.add(Dense(units=500, input_dim=100, activation='relu',\n",
    "                  kernel_regularizer=L1L2(1e-5, 1e-5)))\n",
    "#Terceira camada = Saida units = 784=28*28\n",
    "gerador.add(Dense(units=784, activation='sigmoid',\n",
    "                  kernel_regularizer=L1L2(1e-5, 1e-5)))\n",
    "gerador.add(Reshape((28,28)))"
   ]
  },
  {
   "cell_type": "markdown",
   "metadata": {},
   "source": [
    "## Criação Discriminador"
   ]
  },
  {
   "cell_type": "code",
   "execution_count": 9,
   "metadata": {},
   "outputs": [],
   "source": [
    "discriminador = Sequential()"
   ]
  },
  {
   "cell_type": "code",
   "execution_count": 10,
   "metadata": {},
   "outputs": [],
   "source": [
    "discriminador.add(InputLayer(input_shape=(28,28)))\n",
    "discriminador.add(Flatten())\n",
    "discriminador.add(Dense(units=500, activation='relu',\n",
    "                        kernel_regularizer=L1L2(1e-5, 1e-5)))\n",
    "discriminador.add(Dense(units=500, activation='relu',\n",
    "                        kernel_regularizer=L1L2(1e-5, 1e-5)))\n",
    "discriminador.add(Dense(units=1, activation='sigmoid',\n",
    "                        kernel_regularizer=L1L2(1e-5, 1e-5)))"
   ]
  },
  {
   "cell_type": "markdown",
   "metadata": {},
   "source": [
    "## Criação GAN e Treinamento"
   ]
  },
  {
   "cell_type": "code",
   "execution_count": 11,
   "metadata": {},
   "outputs": [
    {
     "name": "stdout",
     "output_type": "stream",
     "text": [
      "WARNING:tensorflow:From /home/capizani/anaconda3/lib/python3.7/site-packages/keras/backend/tensorflow_backend.py:3613: The name tf.random_normal is deprecated. Please use tf.random.normal instead.\n",
      "\n"
     ]
    }
   ],
   "source": [
    "gan = simple_gan(gerador, discriminador, normal_latent_sampling((100,)))"
   ]
  },
  {
   "cell_type": "code",
   "execution_count": 12,
   "metadata": {},
   "outputs": [],
   "source": [
    "modelo = AdversarialModel(base_model = gan,\n",
    "                          player_params=[gerador.trainable_weights,\n",
    "                                         discriminador.trainable_weights])\n"
   ]
  },
  {
   "cell_type": "code",
   "execution_count": 13,
   "metadata": {},
   "outputs": [
    {
     "name": "stdout",
     "output_type": "stream",
     "text": [
      "WARNING:tensorflow:From /home/capizani/anaconda3/lib/python3.7/site-packages/keras/optimizers.py:711: The name tf.train.Optimizer is deprecated. Please use tf.compat.v1.train.Optimizer instead.\n",
      "\n",
      "WARNING:tensorflow:From /home/capizani/anaconda3/lib/python3.7/site-packages/keras/backend/tensorflow_backend.py:2950: The name tf.log is deprecated. Please use tf.math.log instead.\n",
      "\n",
      "WARNING:tensorflow:From /home/capizani/anaconda3/lib/python3.7/site-packages/tensorflow_core/python/ops/nn_impl.py:183: where (from tensorflow.python.ops.array_ops) is deprecated and will be removed in a future version.\n",
      "Instructions for updating:\n",
      "Use tf.where in 2.0, which has the same broadcast rule as np.where\n"
     ]
    }
   ],
   "source": [
    "modelo.adversarial_compile(adversarial_optimizer=AdversarialOptimizerSimultaneous(),\n",
    "                          player_optimizers=['adam','adam'],\n",
    "                          loss='binary_crossentropy')"
   ]
  },
  {
   "cell_type": "code",
   "execution_count": 14,
   "metadata": {
    "scrolled": true
   },
   "outputs": [
    {
     "name": "stdout",
     "output_type": "stream",
     "text": [
      "WARNING:tensorflow:From /home/capizani/anaconda3/lib/python3.7/site-packages/keras/backend/tensorflow_backend.py:958: The name tf.assign_add is deprecated. Please use tf.compat.v1.assign_add instead.\n",
      "\n",
      "WARNING:tensorflow:From /home/capizani/anaconda3/lib/python3.7/site-packages/keras/backend/tensorflow_backend.py:680: calling Constant.__init__ (from tensorflow.python.ops.init_ops) with dtype is deprecated and will be removed in a future version.\n",
      "Instructions for updating:\n",
      "Call initializer instance with the dtype argument instead of passing it to the constructor\n",
      "WARNING:tensorflow:From /home/capizani/anaconda3/lib/python3.7/site-packages/keras/backend/tensorflow_backend.py:945: The name tf.assign is deprecated. Please use tf.compat.v1.assign instead.\n",
      "\n",
      "Epoch 1/200\n",
      "WARNING:tensorflow:From /home/capizani/anaconda3/lib/python3.7/site-packages/keras/backend/tensorflow_backend.py:159: The name tf.get_default_session is deprecated. Please use tf.compat.v1.get_default_session instead.\n",
      "\n",
      "WARNING:tensorflow:From /home/capizani/anaconda3/lib/python3.7/site-packages/keras/backend/tensorflow_backend.py:164: The name tf.ConfigProto is deprecated. Please use tf.compat.v1.ConfigProto instead.\n",
      "\n",
      "WARNING:tensorflow:From /home/capizani/anaconda3/lib/python3.7/site-packages/keras/backend/tensorflow_backend.py:169: The name tf.Session is deprecated. Please use tf.compat.v1.Session instead.\n",
      "\n",
      "WARNING:tensorflow:From /home/capizani/anaconda3/lib/python3.7/site-packages/keras/backend/tensorflow_backend.py:173: The name tf.global_variables is deprecated. Please use tf.compat.v1.global_variables instead.\n",
      "\n",
      "WARNING:tensorflow:From /home/capizani/anaconda3/lib/python3.7/site-packages/keras/backend/tensorflow_backend.py:182: The name tf.is_variable_initialized is deprecated. Please use tf.compat.v1.is_variable_initialized instead.\n",
      "\n",
      "WARNING:tensorflow:From /home/capizani/anaconda3/lib/python3.7/site-packages/keras/backend/tensorflow_backend.py:189: The name tf.variables_initializer is deprecated. Please use tf.compat.v1.variables_initializer instead.\n",
      "\n",
      "60000/60000 [==============================] - 16s 263us/step - loss: 23.3599 - player_0_loss: 20.6712 - player_0_yfake_loss: 8.6104 - player_0_yreal_loss: 9.4181 - player_1_loss: 2.6887 - player_1_yfake_loss: 0.0165 - player_1_yreal_loss: 0.0296\n",
      "Epoch 2/200\n",
      "60000/60000 [==============================] - 15s 250us/step - loss: 28.8825 - player_0_loss: 27.2921 - player_0_yfake_loss: 13.9222 - player_0_yreal_loss: 11.7805 - player_1_loss: 1.5905 - player_1_yfake_loss: 4.9280e-05 - player_1_yreal_loss: 0.0011\n",
      "Epoch 3/200\n",
      "60000/60000 [==============================] - 16s 268us/step - loss: 19.2526 - player_0_loss: 18.1357 - player_0_yfake_loss: 7.6647 - player_0_yreal_loss: 9.3585 - player_1_loss: 1.1169 - player_1_yfake_loss: 0.0015 - player_1_yreal_loss: 0.0030\n",
      "Epoch 4/200\n",
      "60000/60000 [==============================] - 16s 271us/step - loss: 20.9588 - player_0_loss: 19.7597 - player_0_yfake_loss: 8.1066 - player_0_yreal_loss: 10.4912 - player_1_loss: 1.1992 - player_1_yfake_loss: 0.0119 - player_1_yreal_loss: 0.0254\n",
      "Epoch 5/200\n",
      "60000/60000 [==============================] - 17s 283us/step - loss: 18.8659 - player_0_loss: 17.9518 - player_0_yfake_loss: 8.0265 - player_0_yreal_loss: 9.0126 - player_1_loss: 0.9141 - player_1_yfake_loss: 4.3214e-04 - player_1_yreal_loss: 9.9715e-04\n",
      "Epoch 6/200\n",
      "60000/60000 [==============================] - 20s 325us/step - loss: 18.1121 - player_0_loss: 17.3900 - player_0_yfake_loss: 8.0123 - player_0_yreal_loss: 8.6567 - player_1_loss: 0.7221 - player_1_yfake_loss: 3.6435e-04 - player_1_yreal_loss: 7.6701e-04\n",
      "Epoch 7/200\n",
      "60000/60000 [==============================] - 18s 293us/step - loss: 18.3670 - player_0_loss: 17.7792 - player_0_yfake_loss: 8.2916 - player_0_yreal_loss: 8.9007 - player_1_loss: 0.5878 - player_1_yfake_loss: 2.5790e-04 - player_1_yreal_loss: 6.6621e-04\n",
      "Epoch 8/200\n",
      "60000/60000 [==============================] - 18s 298us/step - loss: 18.3745 - player_0_loss: 17.8834 - player_0_yfake_loss: 8.3880 - player_0_yreal_loss: 9.0051 - player_1_loss: 0.4911 - player_1_yfake_loss: 2.2852e-04 - player_1_yreal_loss: 6.2033e-04\n",
      "Epoch 9/200\n",
      "60000/60000 [==============================] - 17s 276us/step - loss: 18.3407 - player_0_loss: 17.9195 - player_0_yfake_loss: 8.4003 - player_0_yreal_loss: 9.0987 - player_1_loss: 0.4212 - player_1_yfake_loss: 2.2814e-04 - player_1_yreal_loss: 5.8013e-04\n",
      "Epoch 10/200\n",
      "60000/60000 [==============================] - 17s 289us/step - loss: 18.3781 - player_0_loss: 18.0050 - player_0_yfake_loss: 8.3971 - player_0_yreal_loss: 9.2356 - player_1_loss: 0.3731 - player_1_yfake_loss: 2.2699e-04 - player_1_yreal_loss: 5.1013e-04\n",
      "Epoch 11/200\n",
      "60000/60000 [==============================] - 17s 288us/step - loss: 18.4008 - player_0_loss: 18.0660 - player_0_yfake_loss: 8.4336 - player_0_yreal_loss: 9.2982 - player_1_loss: 0.3348 - player_1_yfake_loss: 2.2361e-04 - player_1_yreal_loss: 4.4668e-04\n",
      "Epoch 12/200\n",
      "60000/60000 [==============================] - 17s 291us/step - loss: 19.4703 - player_0_loss: 19.0364 - player_0_yfake_loss: 8.1597 - player_0_yreal_loss: 10.4559 - player_1_loss: 0.4339 - player_1_yfake_loss: 0.0056 - player_1_yreal_loss: 0.0075\n",
      "Epoch 13/200\n",
      "60000/60000 [==============================] - 18s 294us/step - loss: 22.6963 - player_0_loss: 22.1566 - player_0_yfake_loss: 9.0462 - player_0_yreal_loss: 12.5784 - player_1_loss: 0.5397 - player_1_yfake_loss: 0.0041 - player_1_yreal_loss: 0.0035\n",
      "Epoch 14/200\n",
      "60000/60000 [==============================] - 16s 267us/step - loss: 25.5769 - player_0_loss: 25.0215 - player_0_yfake_loss: 14.5075 - player_0_yreal_loss: 9.9622 - player_1_loss: 0.5553 - player_1_yfake_loss: 6.9071e-04 - player_1_yreal_loss: 0.0028\n",
      "Epoch 15/200\n",
      "60000/60000 [==============================] - 16s 268us/step - loss: 19.9766 - player_0_loss: 19.4522 - player_0_yfake_loss: 9.4257 - player_0_yreal_loss: 9.5030 - player_1_loss: 0.5244 - player_1_yfake_loss: 1.7202e-04 - player_1_yreal_loss: 7.6113e-04\n",
      "Epoch 16/200\n",
      "60000/60000 [==============================] - 17s 277us/step - loss: 20.2678 - player_0_loss: 19.7832 - player_0_yfake_loss: 11.0151 - player_0_yreal_loss: 8.2861 - player_1_loss: 0.4845 - player_1_yfake_loss: 6.7348e-04 - player_1_yreal_loss: 0.0018\n",
      "Epoch 17/200\n",
      "60000/60000 [==============================] - 16s 267us/step - loss: 18.7050 - player_0_loss: 18.2378 - player_0_yfake_loss: 9.4225 - player_0_yreal_loss: 8.3489 - player_1_loss: 0.4673 - player_1_yfake_loss: 1.7708e-04 - player_1_yreal_loss: 7.9935e-043s - loss: 18.8267 - player_0_loss: 18.3572 - player_0_yfake_loss: 9.5270 - player_0_yreal_loss: 8.3618 - player_1_loss: 0.4694 - player_1_yfake_loss:\n",
      "Epoch 18/200\n",
      "60000/60000 [==============================] - 16s 267us/step - loss: 17.9380 - player_0_loss: 17.4907 - player_0_yfake_loss: 8.8615 - player_0_yreal_loss: 8.1828 - player_1_loss: 0.4472 - player_1_yfake_loss: 1.5444e-04 - player_1_yreal_loss: 6.5004e-04\n",
      "Epoch 19/200\n",
      "60000/60000 [==============================] - 16s 270us/step - loss: 17.8077 - player_0_loss: 17.3747 - player_0_yfake_loss: 8.9038 - player_0_yreal_loss: 8.0390 - player_1_loss: 0.4330 - player_1_yfake_loss: 3.5359e-04 - player_1_yreal_loss: 7.9182e-04\n",
      "Epoch 20/200\n",
      "60000/60000 [==============================] - 16s 270us/step - loss: 18.9775 - player_0_loss: 18.5563 - player_0_yfake_loss: 9.4239 - player_0_yreal_loss: 8.7117 - player_1_loss: 0.4211 - player_1_yfake_loss: 8.9458e-05 - player_1_yreal_loss: 3.8035e-04\n",
      "Epoch 21/200\n",
      "60000/60000 [==============================] - 16s 266us/step - loss: 18.4667 - player_0_loss: 18.0618 - player_0_yfake_loss: 9.2556 - player_0_yreal_loss: 8.4018 - player_1_loss: 0.4050 - player_1_yfake_loss: 1.6248e-04 - player_1_yreal_loss: 4.4529e-04\n",
      "Epoch 22/200\n",
      "60000/60000 [==============================] - 16s 266us/step - loss: 20.0875 - player_0_loss: 19.6733 - player_0_yfake_loss: 11.3887 - player_0_yreal_loss: 7.8724 - player_1_loss: 0.4141 - player_1_yfake_loss: 6.6659e-04 - player_1_yreal_loss: 0.0012\n",
      "Epoch 23/200\n"
     ]
    },
    {
     "name": "stdout",
     "output_type": "stream",
     "text": [
      "60000/60000 [==============================] - 15s 243us/step - loss: 19.0242 - player_0_loss: 18.5825 - player_0_yfake_loss: 8.8724 - player_0_yreal_loss: 9.2698 - player_1_loss: 0.4416 - player_1_yfake_loss: 5.5470e-04 - player_1_yreal_loss: 7.8099e-04\n",
      "Epoch 24/200\n",
      "60000/60000 [==============================] - 14s 227us/step - loss: 19.8485 - player_0_loss: 19.3992 - player_0_yfake_loss: 8.4178 - player_0_yreal_loss: 10.5334 - player_1_loss: 0.4494 - player_1_yfake_loss: 8.0531e-04 - player_1_yreal_loss: 6.0700e-04\n",
      "Epoch 25/200\n",
      "60000/60000 [==============================] - 15s 244us/step - loss: 23.1675 - player_0_loss: 22.7061 - player_0_yfake_loss: 8.9722 - player_0_yreal_loss: 13.2736 - player_1_loss: 0.4614 - player_1_yfake_loss: 6.9676e-04 - player_1_yreal_loss: 4.8854e-04\n",
      "Epoch 26/200\n",
      "60000/60000 [==============================] - 15s 256us/step - loss: 20.9843 - player_0_loss: 20.5380 - player_0_yfake_loss: 8.6603 - player_0_yreal_loss: 11.4321 - player_1_loss: 0.4463 - player_1_yfake_loss: 3.3479e-04 - player_1_yreal_loss: 3.0220e-04\n",
      "Epoch 27/200\n",
      "60000/60000 [==============================] - 15s 255us/step - loss: 19.5500 - player_0_loss: 19.1250 - player_0_yfake_loss: 8.6373 - player_0_yreal_loss: 10.0633 - player_1_loss: 0.4250 - player_1_yfake_loss: 2.4518e-04 - player_1_yreal_loss: 2.5703e-04\n",
      "Epoch 28/200\n",
      "60000/60000 [==============================] - 16s 259us/step - loss: 18.8859 - player_0_loss: 18.4391 - player_0_yfake_loss: 8.6474 - player_0_yreal_loss: 9.3466 - player_1_loss: 0.4468 - player_1_yfake_loss: 9.8667e-04 - player_1_yreal_loss: 8.2238e-04\n",
      "Epoch 29/200\n",
      "60000/60000 [==============================] - 17s 278us/step - loss: 27.6326 - player_0_loss: 27.0546 - player_0_yfake_loss: 12.6786 - player_0_yreal_loss: 13.8037 - player_1_loss: 0.5780 - player_1_yfake_loss: 0.0029 - player_1_yreal_loss: 0.0027\n",
      "Epoch 30/200\n",
      "60000/60000 [==============================] - 15s 252us/step - loss: 22.1614 - player_0_loss: 21.4357 - player_0_yfake_loss: 11.2279 - player_0_yreal_loss: 9.5344 - player_1_loss: 0.7257 - player_1_yfake_loss: 0.0231 - player_1_yreal_loss: 0.0290\n",
      "Epoch 31/200\n",
      "60000/60000 [==============================] - 15s 252us/step - loss: 17.8257 - player_0_loss: 17.0041 - player_0_yfake_loss: 7.9632 - player_0_yreal_loss: 8.2546 - player_1_loss: 0.8216 - player_1_yfake_loss: 0.0145 - player_1_yreal_loss: 0.0208\n",
      "Epoch 32/200\n",
      "60000/60000 [==============================] - 15s 249us/step - loss: 17.9471 - player_0_loss: 16.9850 - player_0_yfake_loss: 6.2257 - player_0_yreal_loss: 9.8884 - player_1_loss: 0.9621 - player_1_yfake_loss: 0.0358 - player_1_yreal_loss: 0.0553\n",
      "Epoch 33/200\n",
      "60000/60000 [==============================] - 15s 250us/step - loss: 19.0591 - player_0_loss: 18.0485 - player_0_yfake_loss: 6.1252 - player_0_yreal_loss: 11.0044 - player_1_loss: 1.0106 - player_1_yfake_loss: 0.0368 - player_1_yreal_loss: 0.0549\n",
      "Epoch 34/200\n",
      "60000/60000 [==============================] - 15s 254us/step - loss: 20.4674 - player_0_loss: 19.3388 - player_0_yfake_loss: 6.7810 - player_0_yreal_loss: 11.5966 - player_1_loss: 1.1286 - player_1_yfake_loss: 0.0552 - player_1_yreal_loss: 0.1122\n",
      "Epoch 35/200\n",
      "60000/60000 [==============================] - 15s 243us/step - loss: 18.4021 - player_0_loss: 17.3499 - player_0_yfake_loss: 5.9184 - player_0_yreal_loss: 10.4587 - player_1_loss: 1.0522 - player_1_yfake_loss: 0.0282 - player_1_yreal_loss: 0.0512\n",
      "Epoch 36/200\n",
      "60000/60000 [==============================] - 15s 249us/step - loss: 21.4409 - player_0_loss: 20.4118 - player_0_yfake_loss: 6.9925 - player_0_yreal_loss: 12.4472 - player_1_loss: 1.0291 - player_1_yfake_loss: 0.0183 - player_1_yreal_loss: 0.0387\n",
      "Epoch 37/200\n",
      "60000/60000 [==============================] - 15s 249us/step - loss: 22.1723 - player_0_loss: 21.1778 - player_0_yfake_loss: 6.9793 - player_0_yreal_loss: 13.2512 - player_1_loss: 0.9945 - player_1_yfake_loss: 0.0147 - player_1_yreal_loss: 0.0325\n",
      "Epoch 38/200\n",
      "60000/60000 [==============================] - 15s 255us/step - loss: 22.3278 - player_0_loss: 21.3702 - player_0_yfake_loss: 6.8000 - player_0_yreal_loss: 13.6333 - player_1_loss: 0.9577 - player_1_yfake_loss: 0.0068 - player_1_yreal_loss: 0.0140\n",
      "Epoch 39/200\n",
      "60000/60000 [==============================] - 18s 306us/step - loss: 21.6892 - player_0_loss: 20.7842 - player_0_yfake_loss: 6.7067 - player_0_yreal_loss: 13.1849 - player_1_loss: 0.9050 - player_1_yfake_loss: 0.0042 - player_1_yreal_loss: 0.0081\n",
      "Epoch 40/200\n",
      "60000/60000 [==============================] - 19s 318us/step - loss: 21.2693 - player_0_loss: 20.3820 - player_0_yfake_loss: 6.8890 - player_0_yreal_loss: 12.6237 - player_1_loss: 0.8872 - player_1_yfake_loss: 0.0064 - player_1_yreal_loss: 0.0116\n",
      "Epoch 41/200\n",
      "60000/60000 [==============================] - 15s 247us/step - loss: 20.0177 - player_0_loss: 19.1267 - player_0_yfake_loss: 6.2595 - player_0_yreal_loss: 11.9948 - player_1_loss: 0.8910 - player_1_yfake_loss: 0.0068 - player_1_yreal_loss: 0.0118\n",
      "Epoch 42/200\n",
      "60000/60000 [==============================] - 19s 315us/step - loss: 20.3621 - player_0_loss: 19.4681 - player_0_yfake_loss: 6.2052 - player_0_yreal_loss: 12.3968 - player_1_loss: 0.8940 - player_1_yfake_loss: 0.0101 - player_1_yreal_loss: 0.0177\n",
      "Epoch 43/200\n",
      "60000/60000 [==============================] - 17s 285us/step - loss: 20.4595 - player_0_loss: 19.5504 - player_0_yfake_loss: 6.2595 - player_0_yreal_loss: 12.4152 - player_1_loss: 0.9092 - player_1_yfake_loss: 0.0119 - player_1_yreal_loss: 0.0216\n",
      "Epoch 44/200\n",
      "60000/60000 [==============================] - 16s 273us/step - loss: 20.2017 - player_0_loss: 19.2753 - player_0_yfake_loss: 6.2711 - player_0_yreal_loss: 12.1269 - player_1_loss: 0.9265 - player_1_yfake_loss: 0.0177 - player_1_yreal_loss: 0.0315\n",
      "Epoch 45/200\n",
      "60000/60000 [==============================] - 16s 274us/step - loss: 21.4011 - player_0_loss: 20.4603 - player_0_yfake_loss: 6.5623 - player_0_yreal_loss: 13.0080 - player_1_loss: 0.9409 - player_1_yfake_loss: 0.0168 - player_1_yreal_loss: 0.0340\n",
      "Epoch 46/200\n",
      "60000/60000 [==============================] - 16s 269us/step - loss: 21.3888 - player_0_loss: 20.4490 - player_0_yfake_loss: 6.2559 - player_0_yreal_loss: 13.2900 - player_1_loss: 0.9398 - player_1_yfake_loss: 0.0129 - player_1_yreal_loss: 0.0238\n",
      "Epoch 47/200\n",
      "60000/60000 [==============================] - 15s 251us/step - loss: 21.2825 - player_0_loss: 20.3444 - player_0_yfake_loss: 6.4106 - player_0_yreal_loss: 13.0320 - player_1_loss: 0.9381 - player_1_yfake_loss: 0.0132 - player_1_yreal_loss: 0.0231\n",
      "Epoch 48/200\n",
      "60000/60000 [==============================] - 16s 268us/step - loss: 21.1786 - player_0_loss: 20.2525 - player_0_yfake_loss: 6.1901 - player_0_yreal_loss: 13.1600 - player_1_loss: 0.9261 - player_1_yfake_loss: 0.0088 - player_1_yreal_loss: 0.0149\n",
      "Epoch 49/200\n",
      "60000/60000 [==============================] - 16s 263us/step - loss: 20.9531 - player_0_loss: 20.0480 - player_0_yfake_loss: 5.7409 - player_0_yreal_loss: 13.4250 - player_1_loss: 0.9051 - player_1_yfake_loss: 0.0079 - player_1_yreal_loss: 0.0151\n",
      "Epoch 50/200\n",
      "60000/60000 [==============================] - 15s 257us/step - loss: 21.1162 - player_0_loss: 20.2140 - player_0_yfake_loss: 5.7977 - player_0_yreal_loss: 13.5357 - player_1_loss: 0.9022 - player_1_yfake_loss: 0.0078 - player_1_yreal_loss: 0.0138\n",
      "Epoch 51/200\n",
      "60000/60000 [==============================] - 14s 242us/step - loss: 21.7951 - player_0_loss: 20.9069 - player_0_yfake_loss: 6.4192 - player_0_yreal_loss: 13.6191 - player_1_loss: 0.8882 - player_1_yfake_loss: 0.0074 - player_1_yreal_loss: 0.0123\n",
      "Epoch 52/200\n",
      "60000/60000 [==============================] - 15s 246us/step - loss: 20.9709 - player_0_loss: 20.0858 - player_0_yfake_loss: 6.1376 - player_0_yreal_loss: 13.0840 - player_1_loss: 0.8851 - player_1_yfake_loss: 0.0080 - player_1_yreal_loss: 0.0129\n",
      "Epoch 53/200\n",
      "60000/60000 [==============================] - 14s 238us/step - loss: 21.0461 - player_0_loss: 20.1651 - player_0_yfake_loss: 6.2883 - player_0_yreal_loss: 13.0153 - player_1_loss: 0.8810 - player_1_yfake_loss: 0.0073 - player_1_yreal_loss: 0.0122\n",
      "Epoch 54/200\n"
     ]
    },
    {
     "name": "stdout",
     "output_type": "stream",
     "text": [
      "60000/60000 [==============================] - 16s 259us/step - loss: 20.4679 - player_0_loss: 19.5735 - player_0_yfake_loss: 6.1929 - player_0_yreal_loss: 12.5070 - player_1_loss: 0.8943 - player_1_yfake_loss: 0.0081 - player_1_yreal_loss: 0.0126\n",
      "Epoch 55/200\n",
      "60000/60000 [==============================] - 16s 267us/step - loss: 20.2012 - player_0_loss: 19.2938 - player_0_yfake_loss: 6.0513 - player_0_yreal_loss: 12.3640 - player_1_loss: 0.9074 - player_1_yfake_loss: 0.0116 - player_1_yreal_loss: 0.0173\n",
      "Epoch 56/200\n",
      "60000/60000 [==============================] - 17s 287us/step - loss: 20.6245 - player_0_loss: 19.6822 - player_0_yfake_loss: 6.2645 - player_0_yreal_loss: 12.5134 - player_1_loss: 0.9424 - player_1_yfake_loss: 0.0144 - player_1_yreal_loss: 0.0236\n",
      "Epoch 57/200\n",
      "60000/60000 [==============================] - 14s 240us/step - loss: 20.0369 - player_0_loss: 19.0957 - player_0_yfake_loss: 6.1407 - player_0_yreal_loss: 12.0467 - player_1_loss: 0.9412 - player_1_yfake_loss: 0.0133 - player_1_yreal_loss: 0.0196\n",
      "Epoch 58/200\n",
      "60000/60000 [==============================] - 14s 230us/step - loss: 20.7386 - player_0_loss: 19.7419 - player_0_yfake_loss: 6.3121 - player_0_yreal_loss: 12.4883 - player_1_loss: 0.9967 - player_1_yfake_loss: 0.0211 - player_1_yreal_loss: 0.0340\n",
      "Epoch 59/200\n",
      "60000/60000 [==============================] - 14s 240us/step - loss: 20.9729 - player_0_loss: 19.9948 - player_0_yfake_loss: 6.1030 - player_0_yreal_loss: 12.9456 - player_1_loss: 0.9781 - player_1_yfake_loss: 0.0128 - player_1_yreal_loss: 0.0191\n",
      "Epoch 60/200\n",
      "60000/60000 [==============================] - 15s 252us/step - loss: 20.7779 - player_0_loss: 19.8102 - player_0_yfake_loss: 6.0414 - player_0_yreal_loss: 12.8424 - player_1_loss: 0.9677 - player_1_yfake_loss: 0.0164 - player_1_yreal_loss: 0.0249\n",
      "Epoch 61/200\n",
      "60000/60000 [==============================] - 14s 234us/step - loss: 20.5596 - player_0_loss: 19.6096 - player_0_yfake_loss: 5.9488 - player_0_yreal_loss: 12.7476 - player_1_loss: 0.9501 - player_1_yfake_loss: 0.0153 - player_1_yreal_loss: 0.0215\n",
      "Epoch 62/200\n",
      "60000/60000 [==============================] - 14s 232us/step - loss: 20.6701 - player_0_loss: 19.7187 - player_0_yfake_loss: 5.9859 - player_0_yreal_loss: 12.8189 - player_1_loss: 0.9514 - player_1_yfake_loss: 0.0150 - player_1_yreal_loss: 0.0225\n",
      "Epoch 63/200\n",
      "60000/60000 [==============================] - 14s 227us/step - loss: 20.5079 - player_0_loss: 19.5384 - player_0_yfake_loss: 6.0502 - player_0_yreal_loss: 12.5582 - player_1_loss: 0.9695 - player_1_yfake_loss: 0.0160 - player_1_yreal_loss: 0.0236\n",
      "Epoch 64/200\n",
      "60000/60000 [==============================] - 14s 228us/step - loss: 20.9570 - player_0_loss: 19.9979 - player_0_yfake_loss: 6.4722 - player_0_yreal_loss: 12.5983 - player_1_loss: 0.9590 - player_1_yfake_loss: 0.0132 - player_1_yreal_loss: 0.0184\n",
      "Epoch 65/200\n",
      "60000/60000 [==============================] - 18s 307us/step - loss: 20.3217 - player_0_loss: 19.3633 - player_0_yfake_loss: 6.2692 - player_0_yreal_loss: 12.1730 - player_1_loss: 0.9584 - player_1_yfake_loss: 0.0153 - player_1_yreal_loss: 0.0219\n",
      "Epoch 66/200\n",
      "60000/60000 [==============================] - 20s 341us/step - loss: 21.0649 - player_0_loss: 20.1027 - player_0_yfake_loss: 6.6585 - player_0_yreal_loss: 12.5128 - player_1_loss: 0.9622 - player_1_yfake_loss: 0.0127 - player_1_yreal_loss: 0.0181\n",
      "Epoch 67/200\n",
      "60000/60000 [==============================] - 19s 316us/step - loss: 20.7302 - player_0_loss: 19.7450 - player_0_yfake_loss: 6.4745 - player_0_yreal_loss: 12.3288 - player_1_loss: 0.9853 - player_1_yfake_loss: 0.0184 - player_1_yreal_loss: 0.0253\n",
      "Epoch 68/200\n",
      "60000/60000 [==============================] - 18s 305us/step - loss: 20.1965 - player_0_loss: 19.2089 - player_0_yfake_loss: 6.1653 - player_0_yreal_loss: 12.1044 - player_1_loss: 0.9875 - player_1_yfake_loss: 0.0202 - player_1_yreal_loss: 0.0281\n",
      "Epoch 69/200\n",
      "60000/60000 [==============================] - 20s 328us/step - loss: 19.7753 - player_0_loss: 18.7736 - player_0_yfake_loss: 5.9538 - player_0_yreal_loss: 11.8751 - player_1_loss: 1.0017 - player_1_yfake_loss: 0.0236 - player_1_yreal_loss: 0.0334\n",
      "Epoch 70/200\n",
      "60000/60000 [==============================] - 20s 325us/step - loss: 19.8367 - player_0_loss: 18.8088 - player_0_yfake_loss: 5.7964 - player_0_yreal_loss: 12.0526 - player_1_loss: 1.0279 - player_1_yfake_loss: 0.0277 - player_1_yreal_loss: 0.0404\n",
      "Epoch 71/200\n",
      "60000/60000 [==============================] - 19s 312us/step - loss: 19.6537 - player_0_loss: 18.6128 - player_0_yfake_loss: 5.6891 - player_0_yreal_loss: 11.9591 - player_1_loss: 1.0409 - player_1_yfake_loss: 0.0311 - player_1_yreal_loss: 0.0452\n",
      "Epoch 72/200\n",
      "60000/60000 [==============================] - 18s 307us/step - loss: 19.5369 - player_0_loss: 18.4789 - player_0_yfake_loss: 5.5575 - player_0_yreal_loss: 11.9561 - player_1_loss: 1.0581 - player_1_yfake_loss: 0.0371 - player_1_yreal_loss: 0.0557\n",
      "Epoch 73/200\n",
      "60000/60000 [==============================] - 19s 324us/step - loss: 19.2905 - player_0_loss: 18.2285 - player_0_yfake_loss: 5.3804 - player_0_yreal_loss: 11.8826 - player_1_loss: 1.0620 - player_1_yfake_loss: 0.0390 - player_1_yreal_loss: 0.0575\n",
      "Epoch 74/200\n",
      "60000/60000 [==============================] - 20s 330us/step - loss: 19.2348 - player_0_loss: 18.1437 - player_0_yfake_loss: 5.5691 - player_0_yreal_loss: 11.5966 - player_1_loss: 1.0911 - player_1_yfake_loss: 0.0456 - player_1_yreal_loss: 0.0675\n",
      "Epoch 75/200\n",
      "60000/60000 [==============================] - 18s 308us/step - loss: 18.8092 - player_0_loss: 17.7123 - player_0_yfake_loss: 5.3201 - player_0_yreal_loss: 11.4075 - player_1_loss: 1.0970 - player_1_yfake_loss: 0.0471 - player_1_yreal_loss: 0.0652\n",
      "Epoch 76/200\n",
      "60000/60000 [==============================] - 19s 319us/step - loss: 18.3239 - player_0_loss: 17.2068 - player_0_yfake_loss: 5.0257 - player_0_yreal_loss: 11.1941 - player_1_loss: 1.1172 - player_1_yfake_loss: 0.0518 - player_1_yreal_loss: 0.0784\n",
      "Epoch 77/200\n",
      "60000/60000 [==============================] - 19s 312us/step - loss: 17.7230 - player_0_loss: 16.5841 - player_0_yfake_loss: 4.8282 - player_0_yreal_loss: 10.7603 - player_1_loss: 1.1389 - player_1_yfake_loss: 0.0581 - player_1_yreal_loss: 0.0853\n",
      "Epoch 78/200\n",
      "60000/60000 [==============================] - 20s 327us/step - loss: 17.3510 - player_0_loss: 16.1938 - player_0_yfake_loss: 4.7107 - player_0_yreal_loss: 10.4859 - player_1_loss: 1.1572 - player_1_yfake_loss: 0.0659 - player_1_yreal_loss: 0.0940\n",
      "Epoch 79/200\n",
      "60000/60000 [==============================] - 15s 245us/step - loss: 17.2834 - player_0_loss: 16.1053 - player_0_yfake_loss: 4.6253 - player_0_yreal_loss: 10.4786 - player_1_loss: 1.1781 - player_1_yfake_loss: 0.0703 - player_1_yreal_loss: 0.1064\n",
      "Epoch 80/200\n",
      "60000/60000 [==============================] - 15s 245us/step - loss: 16.4908 - player_0_loss: 15.2919 - player_0_yfake_loss: 4.3071 - player_0_yreal_loss: 9.9811 - player_1_loss: 1.1989 - player_1_yfake_loss: 0.0782 - player_1_yreal_loss: 0.1171\n",
      "Epoch 81/200\n",
      "60000/60000 [==============================] - 14s 235us/step - loss: 16.0760 - player_0_loss: 14.8539 - player_0_yfake_loss: 4.1391 - player_0_yreal_loss: 9.7077 - player_1_loss: 1.2221 - player_1_yfake_loss: 0.0854 - player_1_yreal_loss: 0.1296\n",
      "Epoch 82/200\n",
      "60000/60000 [==============================] - 14s 236us/step - loss: 15.4682 - player_0_loss: 14.2469 - player_0_yfake_loss: 3.9385 - player_0_yreal_loss: 9.3064 - player_1_loss: 1.2213 - player_1_yfake_loss: 0.0882 - player_1_yreal_loss: 0.1311\n",
      "Epoch 83/200\n",
      "60000/60000 [==============================] - 15s 246us/step - loss: 15.5141 - player_0_loss: 14.2826 - player_0_yfake_loss: 3.9777 - player_0_yreal_loss: 9.3020 - player_1_loss: 1.2316 - player_1_yfake_loss: 0.0927 - player_1_yreal_loss: 0.1361\n",
      "Epoch 84/200\n",
      "60000/60000 [==============================] - 14s 236us/step - loss: 14.9200 - player_0_loss: 13.6664 - player_0_yfake_loss: 3.8337 - player_0_yreal_loss: 8.8267 - player_1_loss: 1.2536 - player_1_yfake_loss: 0.1017 - player_1_yreal_loss: 0.1459\n",
      "Epoch 85/200\n"
     ]
    },
    {
     "name": "stdout",
     "output_type": "stream",
     "text": [
      "60000/60000 [==============================] - 14s 226us/step - loss: 15.1194 - player_0_loss: 13.8687 - player_0_yfake_loss: 3.8751 - player_0_yreal_loss: 8.9824 - player_1_loss: 1.2507 - player_1_yfake_loss: 0.0976 - player_1_yreal_loss: 0.1419\n",
      "Epoch 86/200\n",
      "60000/60000 [==============================] - 14s 229us/step - loss: 14.8256 - player_0_loss: 13.5564 - player_0_yfake_loss: 3.8191 - player_0_yreal_loss: 8.7251 - player_1_loss: 1.2692 - player_1_yfake_loss: 0.1077 - player_1_yreal_loss: 0.1494\n",
      "Epoch 87/200\n",
      "60000/60000 [==============================] - 14s 227us/step - loss: 14.4864 - player_0_loss: 13.1806 - player_0_yfake_loss: 3.8690 - player_0_yreal_loss: 8.2860 - player_1_loss: 1.3058 - player_1_yfake_loss: 0.1161 - player_1_yreal_loss: 0.1642\n",
      "Epoch 88/200\n",
      "60000/60000 [==============================] - 14s 227us/step - loss: 14.5152 - player_0_loss: 13.1965 - player_0_yfake_loss: 3.7807 - player_0_yreal_loss: 8.3698 - player_1_loss: 1.3187 - player_1_yfake_loss: 0.1140 - player_1_yreal_loss: 0.1586\n",
      "Epoch 89/200\n",
      "60000/60000 [==============================] - 14s 228us/step - loss: 14.0451 - player_0_loss: 12.6926 - player_0_yfake_loss: 3.7365 - player_0_yreal_loss: 7.9026 - player_1_loss: 1.3525 - player_1_yfake_loss: 0.1271 - player_1_yreal_loss: 0.1720\n",
      "Epoch 90/200\n",
      "60000/60000 [==============================] - 14s 230us/step - loss: 14.3591 - player_0_loss: 13.0007 - player_0_yfake_loss: 3.8352 - player_0_yreal_loss: 8.0978 - player_1_loss: 1.3584 - player_1_yfake_loss: 0.1218 - player_1_yreal_loss: 0.1689\n",
      "Epoch 91/200\n",
      "60000/60000 [==============================] - 14s 229us/step - loss: 13.7621 - player_0_loss: 12.3628 - player_0_yfake_loss: 3.5566 - player_0_yreal_loss: 7.7331 - player_1_loss: 1.3993 - player_1_yfake_loss: 0.1391 - player_1_yreal_loss: 0.1872\n",
      "Epoch 92/200\n",
      "60000/60000 [==============================] - 14s 232us/step - loss: 13.3890 - player_0_loss: 11.9782 - player_0_yfake_loss: 3.3761 - player_0_yreal_loss: 7.5250 - player_1_loss: 1.4107 - player_1_yfake_loss: 0.1415 - player_1_yreal_loss: 0.1921\n",
      "Epoch 93/200\n",
      "60000/60000 [==============================] - 14s 228us/step - loss: 13.5888 - player_0_loss: 12.1651 - player_0_yfake_loss: 3.4353 - player_0_yreal_loss: 7.6464 - player_1_loss: 1.4237 - player_1_yfake_loss: 0.1461 - player_1_yreal_loss: 0.1942\n",
      "Epoch 94/200\n",
      "60000/60000 [==============================] - 14s 229us/step - loss: 13.7562 - player_0_loss: 12.3274 - player_0_yfake_loss: 3.4541 - player_0_yreal_loss: 7.7868 - player_1_loss: 1.4288 - player_1_yfake_loss: 0.1461 - player_1_yreal_loss: 0.1963\n",
      "Epoch 95/200\n",
      "60000/60000 [==============================] - 14s 229us/step - loss: 13.5027 - player_0_loss: 12.0752 - player_0_yfake_loss: 3.4273 - player_0_yreal_loss: 7.5568 - player_1_loss: 1.4275 - player_1_yfake_loss: 0.1416 - player_1_yreal_loss: 0.1948\n",
      "Epoch 96/200\n",
      "60000/60000 [==============================] - 14s 229us/step - loss: 13.0541 - player_0_loss: 11.6056 - player_0_yfake_loss: 3.2023 - player_0_yreal_loss: 7.3087 - player_1_loss: 1.4485 - player_1_yfake_loss: 0.1513 - player_1_yreal_loss: 0.2027\n",
      "Epoch 97/200\n",
      "60000/60000 [==============================] - 14s 228us/step - loss: 12.9470 - player_0_loss: 11.4920 - player_0_yfake_loss: 3.1210 - player_0_yreal_loss: 7.2807 - player_1_loss: 1.4550 - player_1_yfake_loss: 0.1543 - player_1_yreal_loss: 0.2105\n",
      "Epoch 98/200\n",
      "60000/60000 [==============================] - 14s 227us/step - loss: 12.9238 - player_0_loss: 11.4709 - player_0_yfake_loss: 3.0537 - player_0_yreal_loss: 7.3284 - player_1_loss: 1.4529 - player_1_yfake_loss: 0.1527 - player_1_yreal_loss: 0.2114\n",
      "Epoch 99/200\n",
      "60000/60000 [==============================] - 14s 230us/step - loss: 12.8079 - player_0_loss: 11.3630 - player_0_yfake_loss: 3.1146 - player_0_yreal_loss: 7.1632 - player_1_loss: 1.4448 - player_1_yfake_loss: 0.1520 - player_1_yreal_loss: 0.2076\n",
      "Epoch 100/200\n",
      "60000/60000 [==============================] - 14s 229us/step - loss: 12.7581 - player_0_loss: 11.2851 - player_0_yfake_loss: 3.1879 - player_0_yreal_loss: 7.0044 - player_1_loss: 1.4730 - player_1_yfake_loss: 0.1632 - player_1_yreal_loss: 0.2171\n",
      "Epoch 101/200\n",
      "60000/60000 [==============================] - 14s 233us/step - loss: 12.4817 - player_0_loss: 11.0114 - player_0_yfake_loss: 3.0643 - player_0_yreal_loss: 6.8528 - player_1_loss: 1.4703 - player_1_yfake_loss: 0.1601 - player_1_yreal_loss: 0.2159\n",
      "Epoch 102/200\n",
      "60000/60000 [==============================] - 14s 232us/step - loss: 12.2404 - player_0_loss: 10.7621 - player_0_yfake_loss: 3.1177 - player_0_yreal_loss: 6.5482 - player_1_loss: 1.4783 - player_1_yfake_loss: 0.1671 - player_1_yreal_loss: 0.2150\n",
      "Epoch 103/200\n",
      "60000/60000 [==============================] - 14s 229us/step - loss: 12.3643 - player_0_loss: 10.8793 - player_0_yfake_loss: 3.1475 - player_0_yreal_loss: 6.6300 - player_1_loss: 1.4850 - player_1_yfake_loss: 0.1660 - player_1_yreal_loss: 0.2172\n",
      "Epoch 104/200\n",
      "60000/60000 [==============================] - 14s 230us/step - loss: 12.1444 - player_0_loss: 10.6536 - player_0_yfake_loss: 3.1087 - player_0_yreal_loss: 6.4426 - player_1_loss: 1.4908 - player_1_yfake_loss: 0.1693 - player_1_yreal_loss: 0.2191\n",
      "Epoch 105/200\n",
      "60000/60000 [==============================] - 14s 230us/step - loss: 12.5171 - player_0_loss: 11.0467 - player_0_yfake_loss: 3.2738 - player_0_yreal_loss: 6.6675 - player_1_loss: 1.4704 - player_1_yfake_loss: 0.1588 - player_1_yreal_loss: 0.2061\n",
      "Epoch 106/200\n",
      "60000/60000 [==============================] - 14s 230us/step - loss: 12.0514 - player_0_loss: 10.5326 - player_0_yfake_loss: 3.1135 - player_0_yreal_loss: 6.3035 - player_1_loss: 1.5188 - player_1_yfake_loss: 0.1742 - player_1_yreal_loss: 0.2291\n",
      "Epoch 107/200\n",
      "60000/60000 [==============================] - 14s 230us/step - loss: 11.8351 - player_0_loss: 10.3061 - player_0_yfake_loss: 3.0154 - player_0_yreal_loss: 6.1730 - player_1_loss: 1.5290 - player_1_yfake_loss: 0.1804 - player_1_yreal_loss: 0.2309\n",
      "Epoch 108/200\n",
      "60000/60000 [==============================] - 14s 231us/step - loss: 12.6503 - player_0_loss: 11.1591 - player_0_yfake_loss: 3.4068 - player_0_yreal_loss: 6.6263 - player_1_loss: 1.4913 - player_1_yfake_loss: 0.1633 - player_1_yreal_loss: 0.2019\n",
      "Epoch 109/200\n",
      "60000/60000 [==============================] - 14s 233us/step - loss: 12.5128 - player_0_loss: 10.9567 - player_0_yfake_loss: 3.1695 - player_0_yreal_loss: 6.6455 - player_1_loss: 1.5561 - player_1_yfake_loss: 0.1849 - player_1_yreal_loss: 0.2295\n",
      "Epoch 110/200\n",
      "60000/60000 [==============================] - 14s 230us/step - loss: 12.1886 - player_0_loss: 10.6242 - player_0_yfake_loss: 2.9720 - player_0_yreal_loss: 6.5085 - player_1_loss: 1.5644 - player_1_yfake_loss: 0.1847 - player_1_yreal_loss: 0.2360\n",
      "Epoch 111/200\n",
      "60000/60000 [==============================] - 14s 230us/step - loss: 11.5523 - player_0_loss: 9.9810 - player_0_yfake_loss: 2.8462 - player_0_yreal_loss: 5.9970 - player_1_loss: 1.5714 - player_1_yfake_loss: 0.1876 - player_1_yreal_loss: 0.2461\n",
      "Epoch 112/200\n",
      "60000/60000 [==============================] - 14s 230us/step - loss: 11.5779 - player_0_loss: 10.0221 - player_0_yfake_loss: 2.8887 - player_0_yreal_loss: 5.9959 - player_1_loss: 1.5559 - player_1_yfake_loss: 0.1837 - player_1_yreal_loss: 0.2347\n",
      "Epoch 113/200\n",
      "60000/60000 [==============================] - 14s 230us/step - loss: 11.6552 - player_0_loss: 10.0893 - player_0_yfake_loss: 3.0021 - player_0_yreal_loss: 5.9435 - player_1_loss: 1.5659 - player_1_yfake_loss: 0.1866 - player_1_yreal_loss: 0.2356\n",
      "Epoch 114/200\n",
      "60000/60000 [==============================] - 14s 230us/step - loss: 11.6145 - player_0_loss: 10.0651 - player_0_yfake_loss: 3.0018 - player_0_yreal_loss: 5.9173 - player_1_loss: 1.5494 - player_1_yfake_loss: 0.1810 - player_1_yreal_loss: 0.2224\n",
      "Epoch 115/200\n",
      "60000/60000 [==============================] - 14s 230us/step - loss: 11.8517 - player_0_loss: 10.2608 - player_0_yfake_loss: 3.1407 - player_0_yreal_loss: 5.9595 - player_1_loss: 1.5908 - player_1_yfake_loss: 0.1924 - player_1_yreal_loss: 0.2377\n",
      "Epoch 116/200\n"
     ]
    },
    {
     "name": "stdout",
     "output_type": "stream",
     "text": [
      "60000/60000 [==============================] - 14s 227us/step - loss: 11.6486 - player_0_loss: 10.0594 - player_0_yfake_loss: 3.2028 - player_0_yreal_loss: 5.6885 - player_1_loss: 1.5892 - player_1_yfake_loss: 0.1956 - player_1_yreal_loss: 0.2256\n",
      "Epoch 117/200\n",
      "60000/60000 [==============================] - 14s 226us/step - loss: 11.3701 - player_0_loss: 9.7401 - player_0_yfake_loss: 2.9531 - player_0_yreal_loss: 5.6122 - player_1_loss: 1.6300 - player_1_yfake_loss: 0.2057 - player_1_yreal_loss: 0.2496\n",
      "Epoch 118/200\n",
      "60000/60000 [==============================] - 14s 229us/step - loss: 10.8447 - player_0_loss: 9.1896 - player_0_yfake_loss: 2.7929 - player_0_yreal_loss: 5.2238 - player_1_loss: 1.6551 - player_1_yfake_loss: 0.2156 - player_1_yreal_loss: 0.2667\n",
      "Epoch 119/200\n",
      "60000/60000 [==============================] - 14s 228us/step - loss: 11.4512 - player_0_loss: 9.8233 - player_0_yfake_loss: 2.8917 - player_0_yreal_loss: 5.7471 - player_1_loss: 1.6279 - player_1_yfake_loss: 0.2012 - player_1_yreal_loss: 0.2421\n",
      "Epoch 120/200\n",
      "60000/60000 [==============================] - 14s 228us/step - loss: 11.4319 - player_0_loss: 9.8092 - player_0_yfake_loss: 2.9165 - player_0_yreal_loss: 5.7113 - player_1_loss: 1.6227 - player_1_yfake_loss: 0.1964 - player_1_yreal_loss: 0.2449\n",
      "Epoch 121/200\n",
      "60000/60000 [==============================] - 14s 228us/step - loss: 10.9219 - player_0_loss: 9.2869 - player_0_yfake_loss: 2.8205 - player_0_yreal_loss: 5.2851 - player_1_loss: 1.6350 - player_1_yfake_loss: 0.2053 - player_1_yreal_loss: 0.2484\n",
      "Epoch 122/200\n",
      "60000/60000 [==============================] - 14s 228us/step - loss: 11.0964 - player_0_loss: 9.4636 - player_0_yfake_loss: 2.8550 - player_0_yreal_loss: 5.4204 - player_1_loss: 1.6328 - player_1_yfake_loss: 0.1991 - player_1_yreal_loss: 0.2455\n",
      "Epoch 123/200\n",
      "60000/60000 [==============================] - 14s 228us/step - loss: 10.8890 - player_0_loss: 9.2357 - player_0_yfake_loss: 2.8133 - player_0_yreal_loss: 5.2354 - player_1_loss: 1.6534 - player_1_yfake_loss: 0.2117 - player_1_yreal_loss: 0.2548\n",
      "Epoch 124/200\n",
      "60000/60000 [==============================] - 14s 227us/step - loss: 10.7778 - player_0_loss: 9.1448 - player_0_yfake_loss: 2.8133 - player_0_yreal_loss: 5.1461 - player_1_loss: 1.6329 - player_1_yfake_loss: 0.2018 - player_1_yreal_loss: 0.2457\n",
      "Epoch 125/200\n",
      "60000/60000 [==============================] - 14s 227us/step - loss: 10.8999 - player_0_loss: 9.2737 - player_0_yfake_loss: 2.8804 - player_0_yreal_loss: 5.2081 - player_1_loss: 1.6262 - player_1_yfake_loss: 0.1972 - player_1_yreal_loss: 0.2437\n",
      "Epoch 126/200\n",
      "60000/60000 [==============================] - 14s 229us/step - loss: 10.5518 - player_0_loss: 8.8977 - player_0_yfake_loss: 2.7389 - player_0_yreal_loss: 4.9764 - player_1_loss: 1.6541 - player_1_yfake_loss: 0.2111 - player_1_yreal_loss: 0.2605\n",
      "Epoch 127/200\n",
      "60000/60000 [==============================] - 14s 231us/step - loss: 10.8384 - player_0_loss: 9.1928 - player_0_yfake_loss: 2.8339 - player_0_yreal_loss: 5.1739 - player_1_loss: 1.6456 - player_1_yfake_loss: 0.2073 - player_1_yreal_loss: 0.2534\n",
      "Epoch 128/200\n",
      "60000/60000 [==============================] - 14s 229us/step - loss: 10.8096 - player_0_loss: 9.1600 - player_0_yfake_loss: 2.7887 - player_0_yreal_loss: 5.1863 - player_1_loss: 1.6495 - player_1_yfake_loss: 0.2095 - player_1_yreal_loss: 0.2550\n",
      "Epoch 129/200\n",
      "60000/60000 [==============================] - 14s 227us/step - loss: 10.6768 - player_0_loss: 9.0369 - player_0_yfake_loss: 2.7863 - player_0_yreal_loss: 5.0635 - player_1_loss: 1.6399 - player_1_yfake_loss: 0.2053 - player_1_yreal_loss: 0.2475\n",
      "Epoch 130/200\n",
      "60000/60000 [==============================] - 14s 227us/step - loss: 10.4631 - player_0_loss: 8.7917 - player_0_yfake_loss: 2.6713 - player_0_yreal_loss: 4.9378 - player_1_loss: 1.6714 - player_1_yfake_loss: 0.2161 - player_1_yreal_loss: 0.2727\n",
      "Epoch 131/200\n",
      "60000/60000 [==============================] - 14s 230us/step - loss: 10.4258 - player_0_loss: 8.7730 - player_0_yfake_loss: 2.6808 - player_0_yreal_loss: 4.9114 - player_1_loss: 1.6529 - player_1_yfake_loss: 0.2116 - player_1_yreal_loss: 0.2605\n",
      "Epoch 132/200\n",
      "60000/60000 [==============================] - 14s 229us/step - loss: 10.3226 - player_0_loss: 8.6630 - player_0_yfake_loss: 2.6601 - player_0_yreal_loss: 4.8251 - player_1_loss: 1.6596 - player_1_yfake_loss: 0.2171 - player_1_yreal_loss: 0.2647\n",
      "Epoch 133/200\n",
      "60000/60000 [==============================] - 14s 229us/step - loss: 10.4597 - player_0_loss: 8.8068 - player_0_yfake_loss: 2.7125 - player_0_yreal_loss: 4.9119 - player_1_loss: 1.6529 - player_1_yfake_loss: 0.2116 - player_1_yreal_loss: 0.2589\n",
      "Epoch 134/200\n",
      "60000/60000 [==============================] - 14s 228us/step - loss: 10.4576 - player_0_loss: 8.7732 - player_0_yfake_loss: 2.6987 - player_0_yreal_loss: 4.8929 - player_1_loss: 1.6844 - player_1_yfake_loss: 0.2260 - player_1_yreal_loss: 0.2768\n",
      "Epoch 135/200\n",
      "60000/60000 [==============================] - 14s 230us/step - loss: 10.2743 - player_0_loss: 8.6210 - player_0_yfake_loss: 2.6956 - player_0_yreal_loss: 4.7376 - player_1_loss: 1.6533 - player_1_yfake_loss: 0.2128 - player_1_yreal_loss: 0.2526\n",
      "Epoch 136/200\n",
      "60000/60000 [==============================] - 14s 230us/step - loss: 10.5712 - player_0_loss: 8.8781 - player_0_yfake_loss: 2.7609 - player_0_yreal_loss: 4.9244 - player_1_loss: 1.6931 - player_1_yfake_loss: 0.2296 - player_1_yreal_loss: 0.2707\n",
      "Epoch 137/200\n",
      "60000/60000 [==============================] - 14s 231us/step - loss: 10.5354 - player_0_loss: 8.8702 - player_0_yfake_loss: 2.7731 - player_0_yreal_loss: 4.8965 - player_1_loss: 1.6652 - player_1_yfake_loss: 0.2147 - player_1_yreal_loss: 0.2499\n",
      "Epoch 138/200\n",
      "60000/60000 [==============================] - 14s 229us/step - loss: 10.5232 - player_0_loss: 8.8096 - player_0_yfake_loss: 2.6797 - player_0_yreal_loss: 4.9309 - player_1_loss: 1.7136 - player_1_yfake_loss: 0.2299 - player_1_yreal_loss: 0.2847\n",
      "Epoch 139/200\n",
      "60000/60000 [==============================] - 14s 229us/step - loss: 10.6688 - player_0_loss: 8.9749 - player_0_yfake_loss: 2.7828 - player_0_yreal_loss: 4.9839 - player_1_loss: 1.6939 - player_1_yfake_loss: 0.2229 - player_1_yreal_loss: 0.2629\n",
      "Epoch 140/200\n",
      "60000/60000 [==============================] - 14s 230us/step - loss: 10.3394 - player_0_loss: 8.5944 - player_0_yfake_loss: 2.6352 - player_0_yreal_loss: 4.7438 - player_1_loss: 1.7449 - player_1_yfake_loss: 0.2449 - player_1_yreal_loss: 0.2847\n",
      "Epoch 141/200\n",
      "60000/60000 [==============================] - 14s 230us/step - loss: 10.6847 - player_0_loss: 8.9835 - player_0_yfake_loss: 2.7960 - player_0_yreal_loss: 4.9673 - player_1_loss: 1.7013 - player_1_yfake_loss: 0.2221 - player_1_yreal_loss: 0.2589\n",
      "Epoch 142/200\n",
      "60000/60000 [==============================] - 14s 230us/step - loss: 10.2238 - player_0_loss: 8.4900 - player_0_yfake_loss: 2.5438 - player_0_yreal_loss: 4.7322 - player_1_loss: 1.7339 - player_1_yfake_loss: 0.2400 - player_1_yreal_loss: 0.2799\n",
      "Epoch 143/200\n",
      "60000/60000 [==============================] - 14s 230us/step - loss: 10.2494 - player_0_loss: 8.5045 - player_0_yfake_loss: 2.5702 - player_0_yreal_loss: 4.7155 - player_1_loss: 1.7450 - player_1_yfake_loss: 0.2369 - player_1_yreal_loss: 0.2893\n",
      "Epoch 144/200\n",
      "60000/60000 [==============================] - 14s 229us/step - loss: 10.0501 - player_0_loss: 8.2984 - player_0_yfake_loss: 2.4767 - player_0_yreal_loss: 4.6064 - player_1_loss: 1.7518 - player_1_yfake_loss: 0.2435 - player_1_yreal_loss: 0.2930\n",
      "Epoch 145/200\n",
      "60000/60000 [==============================] - 14s 229us/step - loss: 10.0815 - player_0_loss: 8.3608 - player_0_yfake_loss: 2.4994 - player_0_yreal_loss: 4.6449 - player_1_loss: 1.7207 - player_1_yfake_loss: 0.2282 - player_1_yreal_loss: 0.2759\n",
      "Epoch 146/200\n",
      "60000/60000 [==============================] - 14s 229us/step - loss: 10.2634 - player_0_loss: 8.5501 - player_0_yfake_loss: 2.5969 - player_0_yreal_loss: 4.7385 - player_1_loss: 1.7133 - player_1_yfake_loss: 0.2235 - player_1_yreal_loss: 0.2751\n",
      "Epoch 147/200\n"
     ]
    },
    {
     "name": "stdout",
     "output_type": "stream",
     "text": [
      "60000/60000 [==============================] - 13s 224us/step - loss: 10.3033 - player_0_loss: 8.5899 - player_0_yfake_loss: 2.6205 - player_0_yreal_loss: 4.7544 - player_1_loss: 1.7135 - player_1_yfake_loss: 0.2263 - player_1_yreal_loss: 0.2721\n",
      "Epoch 148/200\n",
      "60000/60000 [==============================] - 13s 225us/step - loss: 10.3782 - player_0_loss: 8.6484 - player_0_yfake_loss: 2.6220 - player_0_yreal_loss: 4.8079 - player_1_loss: 1.7298 - player_1_yfake_loss: 0.2295 - player_1_yreal_loss: 0.2817\n",
      "Epoch 149/200\n",
      "60000/60000 [==============================] - 13s 224us/step - loss: 10.2669 - player_0_loss: 8.5349 - player_0_yfake_loss: 2.5974 - player_0_yreal_loss: 4.7187 - player_1_loss: 1.7320 - player_1_yfake_loss: 0.2301 - player_1_yreal_loss: 0.2830\n",
      "Epoch 150/200\n",
      "60000/60000 [==============================] - 13s 225us/step - loss: 10.3270 - player_0_loss: 8.6122 - player_0_yfake_loss: 2.5634 - player_0_yreal_loss: 4.8328 - player_1_loss: 1.7148 - player_1_yfake_loss: 0.2224 - player_1_yreal_loss: 0.2763\n",
      "Epoch 151/200\n",
      "60000/60000 [==============================] - 13s 224us/step - loss: 10.1609 - player_0_loss: 8.4406 - player_0_yfake_loss: 2.5065 - player_0_yreal_loss: 4.7226 - player_1_loss: 1.7203 - player_1_yfake_loss: 0.2288 - player_1_yreal_loss: 0.2800\n",
      "Epoch 152/200\n",
      "60000/60000 [==============================] - 13s 225us/step - loss: 10.4874 - player_0_loss: 8.7766 - player_0_yfake_loss: 2.6474 - player_0_yreal_loss: 4.9157 - player_1_loss: 1.7108 - player_1_yfake_loss: 0.2240 - player_1_yreal_loss: 0.2733\n",
      "Epoch 153/200\n",
      "60000/60000 [==============================] - 14s 227us/step - loss: 10.1700 - player_0_loss: 8.4730 - player_0_yfake_loss: 2.5233 - player_0_yreal_loss: 4.7445 - player_1_loss: 1.6969 - player_1_yfake_loss: 0.2224 - player_1_yreal_loss: 0.2693\n",
      "Epoch 154/200\n",
      "60000/60000 [==============================] - 14s 228us/step - loss: 10.2369 - player_0_loss: 8.5232 - player_0_yfake_loss: 2.5949 - player_0_yreal_loss: 4.7242 - player_1_loss: 1.7137 - player_1_yfake_loss: 0.2312 - player_1_yreal_loss: 0.2783\n",
      "Epoch 155/200\n",
      "60000/60000 [==============================] - 14s 227us/step - loss: 10.0081 - player_0_loss: 8.2561 - player_0_yfake_loss: 2.5437 - player_0_yreal_loss: 4.5009 - player_1_loss: 1.7520 - player_1_yfake_loss: 0.2464 - player_1_yreal_loss: 0.2942\n",
      "Epoch 156/200\n",
      "60000/60000 [==============================] - 14s 227us/step - loss: 9.6445 - player_0_loss: 7.8797 - player_0_yfake_loss: 2.4420 - player_0_yreal_loss: 4.2277 - player_1_loss: 1.7648 - player_1_yfake_loss: 0.2562 - player_1_yreal_loss: 0.2986\n",
      "Epoch 157/200\n",
      "60000/60000 [==============================] - 14s 227us/step - loss: 10.2563 - player_0_loss: 8.5121 - player_0_yfake_loss: 2.7315 - player_0_yreal_loss: 4.5493 - player_1_loss: 1.7442 - player_1_yfake_loss: 0.2402 - player_1_yreal_loss: 0.2727\n",
      "Epoch 158/200\n",
      "60000/60000 [==============================] - 14s 226us/step - loss: 9.8498 - player_0_loss: 8.0645 - player_0_yfake_loss: 2.4567 - player_0_yreal_loss: 4.3746 - player_1_loss: 1.7853 - player_1_yfake_loss: 0.2550 - player_1_yreal_loss: 0.2971\n",
      "Epoch 159/200\n",
      "60000/60000 [==============================] - 14s 226us/step - loss: 9.8545 - player_0_loss: 8.0937 - player_0_yfake_loss: 2.4928 - player_0_yreal_loss: 4.3697 - player_1_loss: 1.7608 - player_1_yfake_loss: 0.2399 - player_1_yreal_loss: 0.2898\n",
      "Epoch 160/200\n",
      "60000/60000 [==============================] - 14s 227us/step - loss: 9.7392 - player_0_loss: 7.9736 - player_0_yfake_loss: 2.4552 - player_0_yreal_loss: 4.2922 - player_1_loss: 1.7657 - player_1_yfake_loss: 0.2464 - player_1_yreal_loss: 0.2931\n",
      "Epoch 161/200\n",
      "60000/60000 [==============================] - 14s 228us/step - loss: 9.6512 - player_0_loss: 7.8736 - player_0_yfake_loss: 2.3601 - player_0_yreal_loss: 4.2928 - player_1_loss: 1.7776 - player_1_yfake_loss: 0.2496 - player_1_yreal_loss: 0.3074\n",
      "Epoch 162/200\n",
      "60000/60000 [==============================] - 14s 230us/step - loss: 9.8340 - player_0_loss: 8.0953 - player_0_yfake_loss: 2.4726 - player_0_yreal_loss: 4.4037 - player_1_loss: 1.7387 - player_1_yfake_loss: 0.2362 - player_1_yreal_loss: 0.2835\n",
      "Epoch 163/200\n",
      "60000/60000 [==============================] - 14s 229us/step - loss: 10.2128 - player_0_loss: 8.4765 - player_0_yfake_loss: 2.5613 - player_0_yreal_loss: 4.6976 - player_1_loss: 1.7364 - player_1_yfake_loss: 0.2346 - player_1_yreal_loss: 0.2842\n",
      "Epoch 164/200\n",
      "60000/60000 [==============================] - 14s 229us/step - loss: 10.0133 - player_0_loss: 8.2570 - player_0_yfake_loss: 2.5195 - player_0_yreal_loss: 4.5157 - player_1_loss: 1.7563 - player_1_yfake_loss: 0.2428 - player_1_yreal_loss: 0.2917\n",
      "Epoch 165/200\n",
      "60000/60000 [==============================] - 14s 229us/step - loss: 9.7409 - player_0_loss: 7.9877 - player_0_yfake_loss: 2.4204 - player_0_yreal_loss: 4.3508 - player_1_loss: 1.7533 - player_1_yfake_loss: 0.2440 - player_1_yreal_loss: 0.2928\n",
      "Epoch 166/200\n",
      "60000/60000 [==============================] - 14s 228us/step - loss: 9.9028 - player_0_loss: 8.1357 - player_0_yfake_loss: 2.4566 - player_0_yreal_loss: 4.4643 - player_1_loss: 1.7671 - player_1_yfake_loss: 0.2477 - player_1_yreal_loss: 0.3047\n",
      "Epoch 167/200\n",
      "60000/60000 [==============================] - 14s 229us/step - loss: 9.6359 - player_0_loss: 7.8740 - player_0_yfake_loss: 2.3397 - player_0_yreal_loss: 4.3232 - player_1_loss: 1.7619 - player_1_yfake_loss: 0.2477 - player_1_yreal_loss: 0.3031\n",
      "Epoch 168/200\n",
      "60000/60000 [==============================] - 14s 230us/step - loss: 9.5912 - player_0_loss: 7.8133 - player_0_yfake_loss: 2.3441 - player_0_yreal_loss: 4.2622 - player_1_loss: 1.7779 - player_1_yfake_loss: 0.2589 - player_1_yreal_loss: 0.3119\n",
      "Epoch 169/200\n",
      "60000/60000 [==============================] - 14s 230us/step - loss: 9.5767 - player_0_loss: 7.8146 - player_0_yfake_loss: 2.3327 - player_0_yreal_loss: 4.2788 - player_1_loss: 1.7621 - player_1_yfake_loss: 0.2497 - player_1_yreal_loss: 0.3093\n",
      "Epoch 170/200\n",
      "60000/60000 [==============================] - 14s 230us/step - loss: 9.5249 - player_0_loss: 7.7705 - player_0_yfake_loss: 2.3288 - player_0_yreal_loss: 4.2410 - player_1_loss: 1.7544 - player_1_yfake_loss: 0.2509 - player_1_yreal_loss: 0.3029\n",
      "Epoch 171/200\n",
      "60000/60000 [==============================] - 14s 230us/step - loss: 9.6740 - player_0_loss: 7.9164 - player_0_yfake_loss: 2.3891 - player_0_yreal_loss: 4.3281 - player_1_loss: 1.7576 - player_1_yfake_loss: 0.2502 - player_1_yreal_loss: 0.3082\n",
      "Epoch 172/200\n",
      "60000/60000 [==============================] - 14s 229us/step - loss: 9.5565 - player_0_loss: 7.7873 - player_0_yfake_loss: 2.2867 - player_0_yreal_loss: 4.3013 - player_1_loss: 1.7692 - player_1_yfake_loss: 0.2585 - player_1_yreal_loss: 0.3114\n",
      "Epoch 173/200\n",
      "60000/60000 [==============================] - 14s 230us/step - loss: 9.2666 - player_0_loss: 7.4868 - player_0_yfake_loss: 2.2411 - player_0_yreal_loss: 4.0525 - player_1_loss: 1.7798 - player_1_yfake_loss: 0.2648 - player_1_yreal_loss: 0.3218\n",
      "Epoch 174/200\n",
      "60000/60000 [==============================] - 14s 231us/step - loss: 9.6504 - player_0_loss: 7.9182 - player_0_yfake_loss: 2.3665 - player_0_yreal_loss: 4.3617 - player_1_loss: 1.7322 - player_1_yfake_loss: 0.2431 - player_1_yreal_loss: 0.2992\n",
      "Epoch 175/200\n",
      "60000/60000 [==============================] - 14s 231us/step - loss: 9.3173 - player_0_loss: 7.5529 - player_0_yfake_loss: 2.3416 - player_0_yreal_loss: 4.0233 - player_1_loss: 1.7644 - player_1_yfake_loss: 0.2644 - player_1_yreal_loss: 0.3120\n",
      "Epoch 176/200\n",
      "60000/60000 [==============================] - 14s 229us/step - loss: 9.4452 - player_0_loss: 7.6785 - player_0_yfake_loss: 2.3362 - player_0_yreal_loss: 4.1556 - player_1_loss: 1.7666 - player_1_yfake_loss: 0.2622 - player_1_yreal_loss: 0.3177\n",
      "Epoch 177/200\n",
      "60000/60000 [==============================] - 14s 232us/step - loss: 9.4548 - player_0_loss: 7.7105 - player_0_yfake_loss: 2.3615 - player_0_yreal_loss: 4.1605 - player_1_loss: 1.7444 - player_1_yfake_loss: 0.2503 - player_1_yreal_loss: 0.3056\n",
      "Epoch 178/200\n"
     ]
    },
    {
     "name": "stdout",
     "output_type": "stream",
     "text": [
      "60000/60000 [==============================] - 14s 226us/step - loss: 9.5734 - player_0_loss: 7.8128 - player_0_yfake_loss: 2.3817 - player_0_yreal_loss: 4.2415 - player_1_loss: 1.7606 - player_1_yfake_loss: 0.2612 - player_1_yreal_loss: 0.3098\n",
      "Epoch 179/200\n",
      "60000/60000 [==============================] - 14s 227us/step - loss: 9.5649 - player_0_loss: 7.8013 - player_0_yfake_loss: 2.3699 - player_0_yreal_loss: 4.2335 - player_1_loss: 1.7636 - player_1_yfake_loss: 0.2599 - player_1_yreal_loss: 0.3059\n",
      "Epoch 180/200\n",
      "60000/60000 [==============================] - 14s 226us/step - loss: 9.4463 - player_0_loss: 7.6637 - player_0_yfake_loss: 2.3054 - player_0_yreal_loss: 4.1600 - player_1_loss: 1.7826 - player_1_yfake_loss: 0.2680 - player_1_yreal_loss: 0.3164\n",
      "Epoch 181/200\n",
      "60000/60000 [==============================] - 14s 227us/step - loss: 9.2420 - player_0_loss: 7.4553 - player_0_yfake_loss: 2.2975 - player_0_yreal_loss: 3.9628 - player_1_loss: 1.7866 - player_1_yfake_loss: 0.2744 - player_1_yreal_loss: 0.3173\n",
      "Epoch 182/200\n",
      "60000/60000 [==============================] - 14s 226us/step - loss: 9.9179 - player_0_loss: 8.1766 - player_0_yfake_loss: 2.4712 - player_0_yreal_loss: 4.5045 - player_1_loss: 1.7413 - player_1_yfake_loss: 0.2485 - player_1_yreal_loss: 0.2919\n",
      "Epoch 183/200\n",
      "60000/60000 [==============================] - 14s 227us/step - loss: 10.4977 - player_0_loss: 8.7447 - player_0_yfake_loss: 2.9258 - player_0_yreal_loss: 4.5955 - player_1_loss: 1.7530 - player_1_yfake_loss: 0.2557 - player_1_yreal_loss: 0.2739\n",
      "Epoch 184/200\n",
      "60000/60000 [==============================] - 14s 226us/step - loss: 10.3976 - player_0_loss: 8.5936 - player_0_yfake_loss: 2.7422 - player_0_yreal_loss: 4.5922 - player_1_loss: 1.8040 - player_1_yfake_loss: 0.2571 - player_1_yreal_loss: 0.2877\n",
      "Epoch 185/200\n",
      "60000/60000 [==============================] - 14s 228us/step - loss: 9.7227 - player_0_loss: 7.8364 - player_0_yfake_loss: 2.4197 - player_0_yreal_loss: 4.1612 - player_1_loss: 1.8863 - player_1_yfake_loss: 0.2973 - player_1_yreal_loss: 0.3335\n",
      "Epoch 186/200\n",
      "60000/60000 [==============================] - 14s 229us/step - loss: 9.0038 - player_0_loss: 7.0894 - player_0_yfake_loss: 2.1261 - player_0_yreal_loss: 3.7129 - player_1_loss: 1.9144 - player_1_yfake_loss: 0.3096 - player_1_yreal_loss: 0.3544\n",
      "Epoch 187/200\n",
      "60000/60000 [==============================] - 14s 228us/step - loss: 9.1253 - player_0_loss: 7.2632 - player_0_yfake_loss: 2.2911 - player_0_yreal_loss: 3.7316 - player_1_loss: 1.8621 - player_1_yfake_loss: 0.2874 - player_1_yreal_loss: 0.3342\n",
      "Epoch 188/200\n",
      "60000/60000 [==============================] - 14s 229us/step - loss: 9.1693 - player_0_loss: 7.3348 - player_0_yfake_loss: 2.2904 - player_0_yreal_loss: 3.8089 - player_1_loss: 1.8345 - player_1_yfake_loss: 0.2746 - player_1_yreal_loss: 0.3244\n",
      "Epoch 189/200\n",
      "60000/60000 [==============================] - 14s 230us/step - loss: 9.0950 - player_0_loss: 7.2472 - player_0_yfake_loss: 2.2305 - player_0_yreal_loss: 3.7863 - player_1_loss: 1.8478 - player_1_yfake_loss: 0.2833 - player_1_yreal_loss: 0.3343\n",
      "Epoch 190/200\n",
      "60000/60000 [==============================] - 14s 228us/step - loss: 9.4499 - player_0_loss: 7.6306 - player_0_yfake_loss: 2.4005 - player_0_yreal_loss: 3.9919 - player_1_loss: 1.8192 - player_1_yfake_loss: 0.2636 - player_1_yreal_loss: 0.3173\n",
      "Epoch 191/200\n",
      "60000/60000 [==============================] - 14s 228us/step - loss: 9.1058 - player_0_loss: 7.2619 - player_0_yfake_loss: 2.3005 - player_0_yreal_loss: 3.7271 - player_1_loss: 1.8439 - player_1_yfake_loss: 0.2837 - player_1_yreal_loss: 0.3259\n",
      "Epoch 192/200\n",
      "60000/60000 [==============================] - 14s 228us/step - loss: 9.0811 - player_0_loss: 7.2339 - player_0_yfake_loss: 2.2577 - player_0_yreal_loss: 3.7442 - player_1_loss: 1.8472 - player_1_yfake_loss: 0.2834 - player_1_yreal_loss: 0.3317\n",
      "Epoch 193/200\n",
      "60000/60000 [==============================] - 14s 229us/step - loss: 8.9375 - player_0_loss: 7.1025 - player_0_yfake_loss: 2.2302 - player_0_yreal_loss: 3.6417 - player_1_loss: 1.8350 - player_1_yfake_loss: 0.2803 - player_1_yreal_loss: 0.3241\n",
      "Epoch 194/200\n",
      "60000/60000 [==============================] - 14s 229us/step - loss: 8.8291 - player_0_loss: 6.9988 - player_0_yfake_loss: 2.1920 - player_0_yreal_loss: 3.5828 - player_1_loss: 1.8303 - player_1_yfake_loss: 0.2809 - player_1_yreal_loss: 0.3254\n",
      "Epoch 195/200\n",
      "60000/60000 [==============================] - 14s 229us/step - loss: 9.1450 - player_0_loss: 7.3231 - player_0_yfake_loss: 2.3237 - player_0_yreal_loss: 3.7745 - player_1_loss: 1.8219 - player_1_yfake_loss: 0.2750 - player_1_yreal_loss: 0.3220\n",
      "Epoch 196/200\n",
      "60000/60000 [==============================] - 14s 227us/step - loss: 9.3236 - player_0_loss: 7.4672 - player_0_yfake_loss: 2.3877 - player_0_yreal_loss: 3.8462 - player_1_loss: 1.8564 - player_1_yfake_loss: 0.2933 - player_1_yreal_loss: 0.3298\n",
      "Epoch 197/200\n",
      "60000/60000 [==============================] - 14s 229us/step - loss: 9.1413 - player_0_loss: 7.3143 - player_0_yfake_loss: 2.3278 - player_0_yreal_loss: 3.7484 - player_1_loss: 1.8270 - player_1_yfake_loss: 0.2773 - player_1_yreal_loss: 0.3116\n",
      "Epoch 198/200\n",
      "60000/60000 [==============================] - 14s 229us/step - loss: 9.1556 - player_0_loss: 7.3307 - player_0_yfake_loss: 2.3404 - player_0_yreal_loss: 3.7539 - player_1_loss: 1.8248 - player_1_yfake_loss: 0.2738 - player_1_yreal_loss: 0.3146\n",
      "Epoch 199/200\n",
      "60000/60000 [==============================] - 14s 231us/step - loss: 8.9166 - player_0_loss: 7.0527 - player_0_yfake_loss: 2.2183 - player_0_yreal_loss: 3.6004 - player_1_loss: 1.8639 - player_1_yfake_loss: 0.2925 - player_1_yreal_loss: 0.3374\n",
      "Epoch 200/200\n",
      "60000/60000 [==============================] - 14s 231us/step - loss: 9.0468 - player_0_loss: 7.2007 - player_0_yfake_loss: 2.2796 - player_0_yreal_loss: 3.6902 - player_1_loss: 1.8461 - player_1_yfake_loss: 0.2841 - player_1_yreal_loss: 0.3310\n"
     ]
    },
    {
     "data": {
      "text/plain": [
       "<keras.callbacks.History at 0x7fc5815c38d0>"
      ]
     },
     "execution_count": 14,
     "metadata": {},
     "output_type": "execute_result"
    }
   ],
   "source": [
    "modelo.fit(x = treinamento, y = gan_targets(60000), epochs = 200, batch_size=256)"
   ]
  },
  {
   "cell_type": "markdown",
   "metadata": {},
   "source": [
    "## Validação e resultados"
   ]
  },
  {
   "cell_type": "code",
   "execution_count": 15,
   "metadata": {},
   "outputs": [],
   "source": [
    "amostras = np.random.normal(size = (20,100))\n",
    "previsao = gerador.predict(amostras)"
   ]
  },
  {
   "cell_type": "code",
   "execution_count": 16,
   "metadata": {},
   "outputs": [
    {
     "data": {
      "image/png": "[encoded data removed]",
      "text/plain": [
       "<Figure size 432x288 with 1 Axes>"
      ]
     },
     "metadata": {
      "needs_background": "light"
     },
     "output_type": "display_data"
    },
    {
     "data": {
      "image/png": "[encoded data removed]",
      "text/plain": [
       "<Figure size 432x288 with 1 Axes>"
      ]
     },
     "metadata": {
      "needs_background": "light"
     },
     "output_type": "display_data"
    },
    {
     "data": {
      "image/png": "[encoded data removed]",
      "text/plain": [
       "<Figure size 432x288 with 1 Axes>"
      ]
     },
     "metadata": {
      "needs_background": "light"
     },
     "output_type": "display_data"
    },
    {
     "data": {
      "image/png": "[encoded data removed]",
      "text/plain": [
       "<Figure size 432x288 with 1 Axes>"
      ]
     },
     "metadata": {
      "needs_background": "light"
     },
     "output_type": "display_data"
    },
    {
     "data": {
      "image/png": "[encoded data removed]",
      "text/plain": [
       "<Figure size 432x288 with 1 Axes>"
      ]
     },
     "metadata": {
      "needs_background": "light"
     },
     "output_type": "display_data"
    },
    {
     "data": {
      "image/png": "[encoded data removed]",
      "text/plain": [
       "<Figure size 432x288 with 1 Axes>"
      ]
     },
     "metadata": {
      "needs_background": "light"
     },
     "output_type": "display_data"
    },
    {
     "data": {
      "image/png": "[encoded data removed]",
      "text/plain": [
       "<Figure size 432x288 with 1 Axes>"
      ]
     },
     "metadata": {
      "needs_background": "light"
     },
     "output_type": "display_data"
    },
    {
     "data": {
      "image/png": "[encoded data removed]",
      "text/plain": [
       "<Figure size 432x288 with 1 Axes>"
      ]
     },
     "metadata": {
      "needs_background": "light"
     },
     "output_type": "display_data"
    },
    {
     "data": {
      "image/png": "[encoded data removed]",
      "text/plain": [
       "<Figure size 432x288 with 1 Axes>"
      ]
     },
     "metadata": {
      "needs_background": "light"
     },
     "output_type": "display_data"
    },
    {
     "data": {
      "image/png": "[encoded data removed]",
      "text/plain": [
       "<Figure size 432x288 with 1 Axes>"
      ]
     },
     "metadata": {
      "needs_background": "light"
     },
     "output_type": "display_data"
    },
    {
     "data": {
      "image/png": "[encoded data removed]",
      "text/plain": [
       "<Figure size 432x288 with 1 Axes>"
      ]
     },
     "metadata": {
      "needs_background": "light"
     },
     "output_type": "display_data"
    },
    {
     "data": {
      "image/png": "[encoded data removed]",
      "text/plain": [
       "<Figure size 432x288 with 1 Axes>"
      ]
     },
     "metadata": {
      "needs_background": "light"
     },
     "output_type": "display_data"
    },
    {
     "data": {
      "image/png": "[encoded data removed]",
      "text/plain": [
       "<Figure size 432x288 with 1 Axes>"
      ]
     },
     "metadata": {
      "needs_background": "light"
     },
     "output_type": "display_data"
    },
    {
     "data": {
      "image/png": "[encoded data removed]",
      "text/plain": [
       "<Figure size 432x288 with 1 Axes>"
      ]
     },
     "metadata": {
      "needs_background": "light"
     },
     "output_type": "display_data"
    },
    {
     "data": {
      "image/png": "[encoded data removed]",
      "text/plain": [
       "<Figure size 432x288 with 1 Axes>"
      ]
     },
     "metadata": {
      "needs_background": "light"
     },
     "output_type": "display_data"
    },
    {
     "data": {
      "image/png": "[encoded data removed]",
      "text/plain": [
       "<Figure size 432x288 with 1 Axes>"
      ]
     },
     "metadata": {
      "needs_background": "light"
     },
     "output_type": "display_data"
    },
    {
     "data": {
      "image/png": "[encoded data removed]",
      "text/plain": [
       "<Figure size 432x288 with 1 Axes>"
      ]
     },
     "metadata": {
      "needs_background": "light"
     },
     "output_type": "display_data"
    },
    {
     "data": {
      "image/png": "[encoded data removed]",
      "text/plain": [
       "<Figure size 432x288 with 1 Axes>"
      ]
     },
     "metadata": {
      "needs_background": "light"
     },
     "output_type": "display_data"
    },
    {
     "data": {
      "image/png": "[encoded data removed]",
      "text/plain": [
       "<Figure size 432x288 with 1 Axes>"
      ]
     },
     "metadata": {
      "needs_background": "light"
     },
     "output_type": "display_data"
    },
    {
     "data": {
      "image/png": "[encoded data removed]",
      "text/plain": [
       "<Figure size 432x288 with 1 Axes>"
      ]
     },
     "metadata": {
      "needs_background": "light"
     },
     "output_type": "display_data"
    }
   ],
   "source": [
    "for i in range(previsao.shape[0]):\n",
    "    plt.imshow(previsao[i, :], cmap='gray')\n",
    "    plt.show()"
   ]
  },
  {
   "cell_type": "code",
   "execution_count": 17,
   "metadata": {},
   "outputs": [],
   "source": [
    "import os"
   ]
  },
  {
   "cell_type": "code",
   "execution_count": 19,
   "metadata": {},
   "outputs": [
    {
     "name": "stdout",
     "output_type": "stream",
     "text": [
      "Saved model to disk\n"
     ]
    }
   ],
   "source": [
    "# serialize model to JSON\n",
    "model_json = gerador.to_json()\n",
    "with open(\"gerador.json\", \"w\") as json_file:\n",
    "    json_file.write(model_json)\n",
    "# serialize weights to HDF5\n",
    "gerador.save_weights(\"model.h5\")\n",
    "print(\"Saved model to disk\")"
   ]
  },
  {
   "cell_type": "code",
   "execution_count": null,
   "metadata": {},
   "outputs": [],
   "source": []
  }
 ],
 "metadata": {
  "kernelspec": {
   "display_name": "Python 3",
   "language": "python",
   "name": "python3"
  },
  "language_info": {
   "codemirror_mode": {
    "name": "ipython",
    "version": 3
   },
   "file_extension": ".py",
   "mimetype": "text/x-python",
   "name": "python",
   "nbconvert_exporter": "python",
   "pygments_lexer": "ipython3",
   "version": "3.7.4"
  }
 },
 "nbformat": 4,
 "nbformat_minor": 2
}
