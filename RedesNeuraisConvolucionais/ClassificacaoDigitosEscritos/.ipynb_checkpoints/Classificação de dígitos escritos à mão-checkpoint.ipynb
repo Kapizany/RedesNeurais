{
 "cells": [
  {
   "cell_type": "markdown",
   "metadata": {},
   "source": [
    "# Detecção de digitos manuscritos"
   ]
  },
  {
   "cell_type": "markdown",
   "metadata": {},
   "source": [
    "Uso de Redes Neurais Convolucionais para detecção de imagens de dígitos escritos à mão, da base de dados mnist."
   ]
  },
  {
   "cell_type": "markdown",
   "metadata": {},
   "source": [
    "## Importação das Bibliotecas e dos dados"
   ]
  },
  {
   "cell_type": "code",
   "execution_count": 57,
   "metadata": {},
   "outputs": [],
   "source": [
    "import matplotlib.pyplot as plt\n",
    "from keras.datasets import mnist\n",
    "from keras.models import Sequential\n",
    "from keras.layers import Dense, Flatten, Dropout\n",
    "from keras.utils import np_utils\n",
    "from keras.layers import Conv2D, MaxPooling2D\n",
    "from keras.layers.normalization import BatchNormalization"
   ]
  },
  {
   "cell_type": "code",
   "execution_count": 58,
   "metadata": {},
   "outputs": [],
   "source": [
    "(X_train, y_train), (X_test, y_test) = mnist.load_data()"
   ]
  },
  {
   "cell_type": "markdown",
   "metadata": {},
   "source": [
    "## Preprocessamento dos dados"
   ]
  },
  {
   "cell_type": "code",
   "execution_count": 59,
   "metadata": {},
   "outputs": [],
   "source": [
    "previsores_treinamento = X_train.reshape(X_train.shape[0],28,28,1)\n",
    "previsores_teste = X_test.reshape(X_test.shape[0],28,28,1)"
   ]
  },
  {
   "cell_type": "code",
   "execution_count": 60,
   "metadata": {},
   "outputs": [],
   "source": [
    "previsores_treinamento = previsores_treinamento.astype('float32')\n",
    "previsores_teste = previsores_teste.astype('float32')"
   ]
  },
  {
   "cell_type": "code",
   "execution_count": 61,
   "metadata": {},
   "outputs": [],
   "source": [
    "#Mudando para uma escala de 0 a 1 \n",
    "previsores_treinamento = previsores_treinamento/255\n",
    "previsores_teste = previsores_teste/255"
   ]
  },
  {
   "cell_type": "code",
   "execution_count": 62,
   "metadata": {},
   "outputs": [],
   "source": [
    "classe_treinamento = np_utils.to_categorical(y_train, 10)\n",
    "classe_teste = np_utils.to_categorical(y_test, 10)"
   ]
  },
  {
   "cell_type": "markdown",
   "metadata": {},
   "source": [
    "## Criação da Rede Neural Convolucional"
   ]
  },
  {
   "cell_type": "code",
   "execution_count": 63,
   "metadata": {},
   "outputs": [],
   "source": [
    "classificador = Sequential()"
   ]
  },
  {
   "cell_type": "code",
   "execution_count": 64,
   "metadata": {},
   "outputs": [],
   "source": [
    "#Camada de convolução\n",
    "classificador.add(Conv2D(32, (3,3), input_shape=(28,28,1), \n",
    "                         activation='relu'))\n",
    "classificador.add(BatchNormalization() )\n",
    "classificador.add( MaxPooling2D(pool_size = (2,2) ) )"
   ]
  },
  {
   "cell_type": "code",
   "execution_count": 65,
   "metadata": {},
   "outputs": [],
   "source": [
    "#Segunda Camada de Convolução\n",
    "classificador.add(Conv2D(32, (3,3), activation='relu'))\n",
    "classificador.add(BatchNormalization() )\n",
    "classificador.add( MaxPooling2D(pool_size = (2,2) ) )\n",
    "classificador.add( Flatten() )"
   ]
  },
  {
   "cell_type": "code",
   "execution_count": 66,
   "metadata": {},
   "outputs": [],
   "source": [
    "#Rede Neural Densa - Primeira camada oculta\n",
    "classificador.add(Dense(units=128, activation='relu'))\n",
    "classificador.add(Dropout(0.2))"
   ]
  },
  {
   "cell_type": "code",
   "execution_count": 67,
   "metadata": {},
   "outputs": [],
   "source": [
    "# Segunda camada oculta e camada de saida da Rede Neural Densa\n",
    "classificador.add(Dense(units=128, activation='relu'))\n",
    "classificador.add(Dropout(0.2))\n",
    "classificador.add(Dense(units=10, activation='softmax'))"
   ]
  },
  {
   "cell_type": "code",
   "execution_count": 68,
   "metadata": {},
   "outputs": [],
   "source": [
    "#Hiperparâmetros restantes da Rede Densa\n",
    "classificador.compile(loss='categorical_crossentropy', \n",
    "                      optimizer='adam', metrics=['accuracy'])"
   ]
  },
  {
   "cell_type": "markdown",
   "metadata": {},
   "source": [
    "## Treinamento e Resultados"
   ]
  },
  {
   "cell_type": "code",
   "execution_count": 69,
   "metadata": {},
   "outputs": [
    {
     "name": "stdout",
     "output_type": "stream",
     "text": [
      "Epoch 1/5\n",
      "469/469 [==============================] - 29s 62ms/step - loss: 0.2160 - accuracy: 0.9331 - val_loss: 0.1360 - val_accuracy: 0.9583\n",
      "Epoch 2/5\n",
      "469/469 [==============================] - 27s 58ms/step - loss: 0.0662 - accuracy: 0.9800 - val_loss: 0.0425 - val_accuracy: 0.9879\n",
      "Epoch 3/5\n",
      "469/469 [==============================] - 28s 61ms/step - loss: 0.0441 - accuracy: 0.9868 - val_loss: 0.0348 - val_accuracy: 0.9894\n",
      "Epoch 4/5\n",
      "469/469 [==============================] - 31s 66ms/step - loss: 0.0363 - accuracy: 0.9888 - val_loss: 0.0357 - val_accuracy: 0.9900\n",
      "Epoch 5/5\n",
      "469/469 [==============================] - 32s 69ms/step - loss: 0.0312 - accuracy: 0.9905 - val_loss: 0.0339 - val_accuracy: 0.9904\n"
     ]
    },
    {
     "data": {
      "text/plain": [
       "<tensorflow.python.keras.callbacks.History at 0x7f1fbc1e8c90>"
      ]
     },
     "execution_count": 69,
     "metadata": {},
     "output_type": "execute_result"
    }
   ],
   "source": [
    "classificador.fit(previsores_treinamento, classe_treinamento,\n",
    "                  batch_size=128, epochs = 5,\n",
    "                  validation_data = (previsores_teste, classe_teste))"
   ]
  },
  {
   "cell_type": "code",
   "execution_count": 70,
   "metadata": {},
   "outputs": [
    {
     "name": "stdout",
     "output_type": "stream",
     "text": [
      "313/313 [==============================] - 2s 5ms/step - loss: 0.0339 - accuracy: 0.9904\n"
     ]
    }
   ],
   "source": [
    "resultado = classificador.evaluate(previsores_teste, classe_teste)"
   ]
  },
  {
   "cell_type": "code",
   "execution_count": 71,
   "metadata": {},
   "outputs": [
    {
     "data": {
      "text/plain": [
       "[0.03386640176177025, 0.9904000163078308]"
      ]
     },
     "execution_count": 71,
     "metadata": {},
     "output_type": "execute_result"
    }
   ],
   "source": [
    "resultado"
   ]
  }
 ],
 "metadata": {
  "kernelspec": {
   "display_name": "Python 3",
   "language": "python",
   "name": "python3"
  },
  "language_info": {
   "codemirror_mode": {
    "name": "ipython",
    "version": 3
   },
   "file_extension": ".py",
   "mimetype": "text/x-python",
   "name": "python",
   "nbconvert_exporter": "python",
   "pygments_lexer": "ipython3",
   "version": "3.7.4"
  }
 },
 "nbformat": 4,
 "nbformat_minor": 2
}
