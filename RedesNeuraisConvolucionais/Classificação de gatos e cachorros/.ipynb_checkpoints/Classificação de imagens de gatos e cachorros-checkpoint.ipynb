{
 "cells": [
  {
   "cell_type": "markdown",
   "metadata": {},
   "source": [
    "# Classificação de gatos e cachorros"
   ]
  },
  {
   "cell_type": "markdown",
   "metadata": {},
   "source": []
  },
  {
   "cell_type": "markdown",
   "metadata": {},
   "source": [
    "## Importação da Biblioteca"
   ]
  },
  {
   "cell_type": "code",
   "execution_count": 17,
   "metadata": {},
   "outputs": [],
   "source": [
    "from keras.models import Sequential\n",
    "from keras.layers import Conv2D, MaxPooling2D, Flatten, Dense, Dropout\n",
    "from keras.layers.normalization import BatchNormalization\n",
    "from keras.preprocessing.image import ImageDataGenerator\n",
    "import numpy as np\n",
    "from keras.preprocessing import image"
   ]
  },
  {
   "cell_type": "markdown",
   "metadata": {},
   "source": [
    "## Construção da Rede Neural"
   ]
  },
  {
   "cell_type": "code",
   "execution_count": 2,
   "metadata": {},
   "outputs": [],
   "source": [
    "classificador = Sequential()"
   ]
  },
  {
   "cell_type": "code",
   "execution_count": 3,
   "metadata": {},
   "outputs": [],
   "source": [
    "#Camada de Convolução\n",
    "classificador.add(Conv2D(32, (3,3), input_shape=(64,64,3), activation='relu'))\n",
    "classificador.add(BatchNormalization())\n",
    "classificador.add(MaxPooling2D(pool_size=(2,2)))\n",
    "\n",
    "classificador.add(Flatten())"
   ]
  },
  {
   "cell_type": "code",
   "execution_count": 4,
   "metadata": {},
   "outputs": [],
   "source": [
    "#Primeira camada oculta\n",
    "classificador.add(Dense(units=128, activation='relu'))\n",
    "classificador.add(Dropout(0.2))\n",
    "#Primeira camada oculta\n",
    "classificador.add(Dense(units=128, activation='relu'))\n",
    "classificador.add(Dropout(0.2))\n",
    "#Camada de Saída\n",
    "classificador.add(Dense(units=1, activation='sigmoid'))"
   ]
  },
  {
   "cell_type": "code",
   "execution_count": 5,
   "metadata": {},
   "outputs": [],
   "source": [
    "#Hiperparâmetros\n",
    "classificador.compile(optimizer='adam', loss='binary_crossentropy',\n",
    "                     metrics=['accuracy'])"
   ]
  },
  {
   "cell_type": "markdown",
   "metadata": {},
   "source": [
    "## Augumentation"
   ]
  },
  {
   "cell_type": "code",
   "execution_count": 6,
   "metadata": {},
   "outputs": [],
   "source": [
    "gerador_treinamento = ImageDataGenerator(rescale= 1./255,\n",
    "                                        rotation_range=7,\n",
    "                                        horizontal_flip=True,\n",
    "                                        shear_range = 0.2,\n",
    "                                        height_shift_range=0.07,\n",
    "                                        zoom_range=0.2)\n",
    "gerador_teste = ImageDataGenerator(rescale=1./255)"
   ]
  },
  {
   "cell_type": "code",
   "execution_count": 8,
   "metadata": {},
   "outputs": [
    {
     "name": "stdout",
     "output_type": "stream",
     "text": [
      "Found 4000 images belonging to 2 classes.\n"
     ]
    }
   ],
   "source": [
    "base_treinamento = gerador_treinamento\\\n",
    "                        .flow_from_directory('../../datasets/gatos-cachorros/training_set',\n",
    "                                             target_size = (64,64),\n",
    "                                             batch_size = 16,\n",
    "                                             class_mode = 'binary')"
   ]
  },
  {
   "cell_type": "code",
   "execution_count": 12,
   "metadata": {},
   "outputs": [
    {
     "name": "stdout",
     "output_type": "stream",
     "text": [
      "Found 1000 images belonging to 2 classes.\n"
     ]
    }
   ],
   "source": [
    "base_teste = gerador_teste\\\n",
    "                        .flow_from_directory('../../datasets/gatos-cachorros/test_set',\n",
    "                                             target_size = (64,64),\n",
    "                                             batch_size = 16,\n",
    "                                             class_mode = 'binary')"
   ]
  },
  {
   "cell_type": "markdown",
   "metadata": {},
   "source": [
    "## Treinando e Avaliando o modelo"
   ]
  },
  {
   "cell_type": "code",
   "execution_count": 16,
   "metadata": {},
   "outputs": [
    {
     "name": "stdout",
     "output_type": "stream",
     "text": [
      "Epoch 1/16\n",
      "125/125 [==============================] - 20s 160ms/step - loss: 0.6002 - accuracy: 0.6737 - val_loss: 0.6679 - val_accuracy: 0.6380\n",
      "Epoch 2/16\n",
      "125/125 [==============================] - 21s 171ms/step - loss: 0.6006 - accuracy: 0.6830 - val_loss: 3.8204 - val_accuracy: 0.5000\n",
      "Epoch 3/16\n",
      "125/125 [==============================] - 30s 244ms/step - loss: 0.5950 - accuracy: 0.6805 - val_loss: 0.6924 - val_accuracy: 0.6380\n",
      "Epoch 4/16\n",
      "125/125 [==============================] - 27s 215ms/step - loss: 0.5710 - accuracy: 0.7053 - val_loss: 0.5891 - val_accuracy: 0.6980\n",
      "Epoch 5/16\n",
      "125/125 [==============================] - 27s 217ms/step - loss: 0.5616 - accuracy: 0.7063 - val_loss: 0.6132 - val_accuracy: 0.6850\n",
      "Epoch 6/16\n",
      "125/125 [==============================] - 27s 218ms/step - loss: 0.5457 - accuracy: 0.7122 - val_loss: 0.6276 - val_accuracy: 0.6770\n",
      "Epoch 7/16\n",
      "125/125 [==============================] - 27s 216ms/step - loss: 0.5288 - accuracy: 0.7375 - val_loss: 0.6461 - val_accuracy: 0.6900\n",
      "Epoch 8/16\n",
      "125/125 [==============================] - 27s 215ms/step - loss: 0.5314 - accuracy: 0.7215 - val_loss: 0.5808 - val_accuracy: 0.7060\n",
      "Epoch 9/16\n",
      "125/125 [==============================] - 27s 216ms/step - loss: 0.5266 - accuracy: 0.7305 - val_loss: 0.7071 - val_accuracy: 0.6820\n",
      "Epoch 10/16\n",
      "125/125 [==============================] - 27s 217ms/step - loss: 0.5175 - accuracy: 0.7377 - val_loss: 0.6428 - val_accuracy: 0.6730\n",
      "Epoch 11/16\n",
      "125/125 [==============================] - 28s 222ms/step - loss: 0.5031 - accuracy: 0.7565 - val_loss: 0.5922 - val_accuracy: 0.7180\n",
      "Epoch 12/16\n",
      "125/125 [==============================] - 27s 220ms/step - loss: 0.5037 - accuracy: 0.7523 - val_loss: 0.5933 - val_accuracy: 0.7090\n",
      "Epoch 13/16\n",
      "125/125 [==============================] - 28s 222ms/step - loss: 0.4973 - accuracy: 0.7617 - val_loss: 0.7808 - val_accuracy: 0.6080\n",
      "Epoch 14/16\n",
      "125/125 [==============================] - 27s 212ms/step - loss: 0.4836 - accuracy: 0.7607 - val_loss: 0.6399 - val_accuracy: 0.6940\n",
      "Epoch 15/16\n",
      "125/125 [==============================] - 28s 226ms/step - loss: 0.4810 - accuracy: 0.7640 - val_loss: 0.5985 - val_accuracy: 0.7080\n",
      "Epoch 16/16\n",
      "125/125 [==============================] - 30s 236ms/step - loss: 0.4725 - accuracy: 0.7772 - val_loss: 0.5829 - val_accuracy: 0.7180\n"
     ]
    },
    {
     "data": {
      "text/plain": [
       "<tensorflow.python.keras.callbacks.History at 0x7fd641999fd0>"
      ]
     },
     "execution_count": 16,
     "metadata": {},
     "output_type": "execute_result"
    }
   ],
   "source": [
    "classificador.fit_generator(base_treinamento, steps_per_epoch=4000/16,\n",
    "                           epochs = 12, validation_data = base_teste,\n",
    "                           validation_steps = 1000/16)"
   ]
  },
  {
   "cell_type": "code",
   "execution_count": 18,
   "metadata": {},
   "outputs": [],
   "source": [
    "imagem = image.load_img('../../datasets/gatos-cachorros/test_set/gato/cat.3500.jpg',\n",
    "                        target_size = (64,64))\n",
    "imagem_teste = image.img_to_array(imagem)"
   ]
  },
  {
   "cell_type": "code",
   "execution_count": 19,
   "metadata": {},
   "outputs": [],
   "source": [
    "imagem_teste = imagem_teste/255\n",
    "imagem_teste = np.expand_dims(imagem_teste, axis=0)"
   ]
  },
  {
   "cell_type": "code",
   "execution_count": 20,
   "metadata": {},
   "outputs": [],
   "source": [
    "previsao = classificador.predict(imagem_teste)"
   ]
  },
  {
   "cell_type": "code",
   "execution_count": 21,
   "metadata": {},
   "outputs": [
    {
     "data": {
      "text/plain": [
       "{'cachorro': 0, 'gato': 1}"
      ]
     },
     "execution_count": 21,
     "metadata": {},
     "output_type": "execute_result"
    }
   ],
   "source": [
    "base_treinamento.class_indices"
   ]
  },
  {
   "cell_type": "code",
   "execution_count": 22,
   "metadata": {},
   "outputs": [
    {
     "data": {
      "text/plain": [
       "array([[0.9853692]], dtype=float32)"
      ]
     },
     "execution_count": 22,
     "metadata": {},
     "output_type": "execute_result"
    }
   ],
   "source": [
    "previsao"
   ]
  },
  {
   "cell_type": "code",
   "execution_count": null,
   "metadata": {},
   "outputs": [],
   "source": []
  },
  {
   "cell_type": "code",
   "execution_count": null,
   "metadata": {},
   "outputs": [],
   "source": []
  },
  {
   "cell_type": "code",
   "execution_count": null,
   "metadata": {},
   "outputs": [],
   "source": []
  },
  {
   "cell_type": "code",
   "execution_count": null,
   "metadata": {},
   "outputs": [],
   "source": []
  },
  {
   "cell_type": "code",
   "execution_count": null,
   "metadata": {},
   "outputs": [],
   "source": []
  },
  {
   "cell_type": "code",
   "execution_count": null,
   "metadata": {},
   "outputs": [],
   "source": []
  },
  {
   "cell_type": "code",
   "execution_count": null,
   "metadata": {},
   "outputs": [],
   "source": [
    "\n"
   ]
  }
 ],
 "metadata": {
  "kernelspec": {
   "display_name": "Python 3",
   "language": "python",
   "name": "python3"
  },
  "language_info": {
   "codemirror_mode": {
    "name": "ipython",
    "version": 3
   },
   "file_extension": ".py",
   "mimetype": "text/x-python",
   "name": "python",
   "nbconvert_exporter": "python",
   "pygments_lexer": "ipython3",
   "version": "3.7.4"
  }
 },
 "nbformat": 4,
 "nbformat_minor": 2
}
