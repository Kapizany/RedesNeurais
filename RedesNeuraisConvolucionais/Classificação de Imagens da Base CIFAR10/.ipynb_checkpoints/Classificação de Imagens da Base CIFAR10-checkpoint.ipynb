{
 "cells": [
  {
   "cell_type": "markdown",
   "metadata": {},
   "source": [
    "   # Classificação de Imagens da Base CIFAR10"
   ]
  },
  {
   "cell_type": "markdown",
   "metadata": {},
   "source": [
    "Uso de Redes Neurais Convolucionais para detecção de imagens da base de dados cifar10, nas seguintes categorias:\n",
    "    * aviões \n",
    "    * automóveis \n",
    "    * pássaros\n",
    "    * gatos\n",
    "    * veados\n",
    "    * cachorros\n",
    "    * sapos\n",
    "    * cavalos\n",
    "    * barcos\n",
    "    * caminhões"
   ]
  },
  {
   "cell_type": "markdown",
   "metadata": {},
   "source": [
    "## Importação das Bibliotecas e de Dados"
   ]
  },
  {
   "cell_type": "code",
   "execution_count": 38,
   "metadata": {},
   "outputs": [],
   "source": [
    "from keras.datasets import cifar10\n",
    "import matplotlib.pyplot as plt\n",
    "from keras.datasets import mnist\n",
    "from keras.models import Sequential\n",
    "from keras.layers import Dense, Flatten, Dropout\n",
    "from keras.utils import np_utils\n",
    "from keras.layers import Conv2D, MaxPooling2D\n",
    "from keras.layers.normalization import BatchNormalization\n",
    "from keras.preprocessing.image import ImageDataGenerator\n",
    "import numpy as np"
   ]
  },
  {
   "cell_type": "code",
   "execution_count": 2,
   "metadata": {},
   "outputs": [],
   "source": [
    "(X_train, y_train), (X_test, y_test) = cifar10.load_data()"
   ]
  },
  {
   "cell_type": "markdown",
   "metadata": {},
   "source": [
    "## Preprocessamento dos dados"
   ]
  },
  {
   "cell_type": "code",
   "execution_count": 19,
   "metadata": {},
   "outputs": [
    {
     "data": {
      "text/plain": [
       "(50000, 32, 32, 3)"
      ]
     },
     "execution_count": 19,
     "metadata": {},
     "output_type": "execute_result"
    }
   ],
   "source": [
    "X_train.shape# imagens 32*32 com 3 camadas"
   ]
  },
  {
   "cell_type": "code",
   "execution_count": 11,
   "metadata": {},
   "outputs": [
    {
     "data": {
      "text/plain": [
       "array([0, 1, 2, 3, 4, 5, 6, 7, 8, 9], dtype=uint8)"
      ]
     },
     "execution_count": 11,
     "metadata": {},
     "output_type": "execute_result"
    }
   ],
   "source": [
    "np.unique(y_train) # 10 classes"
   ]
  },
  {
   "cell_type": "code",
   "execution_count": 15,
   "metadata": {},
   "outputs": [],
   "source": [
    "previsores_treinamento = X_train.astype('float32')\n",
    "previsores_teste = X_test.astype('float32')"
   ]
  },
  {
   "cell_type": "code",
   "execution_count": 16,
   "metadata": {},
   "outputs": [],
   "source": [
    "#Mudando para uma escala de 0 a 1 \n",
    "previsores_treinamento = previsores_treinamento/255\n",
    "previsores_teste = previsores_teste/255"
   ]
  },
  {
   "cell_type": "code",
   "execution_count": 17,
   "metadata": {},
   "outputs": [],
   "source": [
    "classe_treinamento = np_utils.to_categorical(y_train, 10)\n",
    "classe_teste = np_utils.to_categorical(y_test, 10)"
   ]
  },
  {
   "cell_type": "markdown",
   "metadata": {},
   "source": [
    "## Criação da Rede Neural Convolucional"
   ]
  },
  {
   "cell_type": "code",
   "execution_count": 28,
   "metadata": {},
   "outputs": [],
   "source": [
    "classificador = Sequential()"
   ]
  },
  {
   "cell_type": "code",
   "execution_count": 29,
   "metadata": {},
   "outputs": [],
   "source": [
    "#Primeira Camada de convolução\n",
    "classificador.add(Conv2D(64, (3,3), input_shape = X_train.shape[1:], activation='relu'))\n",
    "classificador.add(BatchNormalization() )\n",
    "#Segunda Camada de Convolução\n",
    "classificador.add(Conv2D(64, (3,3), activation='relu'))\n",
    "classificador.add(BatchNormalization() )\n",
    "classificador.add( MaxPooling2D(pool_size = (2,2) ) )\n",
    "classificador.add(Dropout(0.3))"
   ]
  },
  {
   "cell_type": "code",
   "execution_count": 30,
   "metadata": {},
   "outputs": [],
   "source": [
    "#Terceira Camada de convolução\n",
    "classificador.add(Conv2D(128, (3,3), activation='relu'))\n",
    "classificador.add(BatchNormalization() )\n",
    "#Quarta Camada de Convolução\n",
    "classificador.add(Conv2D(128, (3,3), activation='relu'))\n",
    "classificador.add(BatchNormalization() )\n",
    "classificador.add( MaxPooling2D(pool_size = (2,2) ) )\n",
    "classificador.add(Dropout(0.4))\n",
    "#Fim das Camadas convolucionais\n",
    "classificador.add( Flatten() )"
   ]
  },
  {
   "cell_type": "code",
   "execution_count": 31,
   "metadata": {},
   "outputs": [],
   "source": [
    "#Rede Neural Densa - Primeira camada oculta\n",
    "classificador.add(Dense(units=128, activation='relu'))\n",
    "classificador.add(Dropout(0.2))"
   ]
  },
  {
   "cell_type": "code",
   "execution_count": 32,
   "metadata": {},
   "outputs": [],
   "source": [
    "# Segunda camada oculta da Rede Neural Densa\n",
    "classificador.add(Dense(units=256, activation='relu'))\n",
    "classificador.add(Dropout(0.3))"
   ]
  },
  {
   "cell_type": "code",
   "execution_count": 33,
   "metadata": {},
   "outputs": [],
   "source": [
    "# Terceira camada oculta e camada de saida da Rede Neural Densa\n",
    "classificador.add(Dense(units=128, activation='relu'))\n",
    "classificador.add(Dropout(0.2))\n",
    "classificador.add(Dense(units=10, activation='softmax'))"
   ]
  },
  {
   "cell_type": "code",
   "execution_count": 34,
   "metadata": {},
   "outputs": [],
   "source": [
    "#Hiperparâmetros restantes da Rede Densa\n",
    "classificador.compile(loss='categorical_crossentropy', \n",
    "                      optimizer='adam', metrics=['accuracy'])"
   ]
  },
  {
   "cell_type": "code",
   "execution_count": 35,
   "metadata": {},
   "outputs": [
    {
     "name": "stdout",
     "output_type": "stream",
     "text": [
      "Epoch 1/20\n",
      "782/782 [==============================] - 289s 370ms/step - loss: 1.5954 - accuracy: 0.4219 - val_loss: 1.2443 - val_accuracy: 0.5666\n",
      "Epoch 2/20\n",
      "782/782 [==============================] - 309s 395ms/step - loss: 1.1613 - accuracy: 0.5959 - val_loss: 1.2393 - val_accuracy: 0.5755\n",
      "Epoch 3/20\n",
      "782/782 [==============================] - 306s 392ms/step - loss: 0.9762 - accuracy: 0.6658 - val_loss: 0.8662 - val_accuracy: 0.7042\n",
      "Epoch 4/20\n",
      "782/782 [==============================] - 318s 407ms/step - loss: 0.8765 - accuracy: 0.7035 - val_loss: 0.7983 - val_accuracy: 0.7320\n",
      "Epoch 5/20\n",
      "782/782 [==============================] - 321s 410ms/step - loss: 0.8094 - accuracy: 0.7228 - val_loss: 0.7873 - val_accuracy: 0.7348\n",
      "Epoch 6/20\n",
      "782/782 [==============================] - 299s 383ms/step - loss: 0.7452 - accuracy: 0.7485 - val_loss: 0.8452 - val_accuracy: 0.7044\n",
      "Epoch 7/20\n",
      "782/782 [==============================] - 329s 421ms/step - loss: 0.6996 - accuracy: 0.7629 - val_loss: 0.8012 - val_accuracy: 0.7357\n",
      "Epoch 8/20\n",
      "782/782 [==============================] - 334s 427ms/step - loss: 0.6640 - accuracy: 0.7757 - val_loss: 0.6556 - val_accuracy: 0.7804\n",
      "Epoch 9/20\n",
      "782/782 [==============================] - 285s 365ms/step - loss: 0.6206 - accuracy: 0.7927 - val_loss: 0.6511 - val_accuracy: 0.7811\n",
      "Epoch 10/20\n",
      "782/782 [==============================] - 287s 367ms/step - loss: 0.5929 - accuracy: 0.8010 - val_loss: 0.6799 - val_accuracy: 0.7723\n",
      "Epoch 11/20\n",
      "782/782 [==============================] - 284s 364ms/step - loss: 0.5616 - accuracy: 0.8109 - val_loss: 0.6504 - val_accuracy: 0.7864\n",
      "Epoch 12/20\n",
      "782/782 [==============================] - 285s 364ms/step - loss: 0.5412 - accuracy: 0.8195 - val_loss: 0.6119 - val_accuracy: 0.7967\n",
      "Epoch 13/20\n",
      "782/782 [==============================] - 285s 364ms/step - loss: 0.5140 - accuracy: 0.8262 - val_loss: 0.6373 - val_accuracy: 0.7887\n",
      "Epoch 14/20\n",
      "782/782 [==============================] - 304s 389ms/step - loss: 0.4985 - accuracy: 0.8333 - val_loss: 0.6272 - val_accuracy: 0.7931\n",
      "Epoch 15/20\n",
      "782/782 [==============================] - 295s 377ms/step - loss: 0.4757 - accuracy: 0.8395 - val_loss: 0.5919 - val_accuracy: 0.8065\n",
      "Epoch 16/20\n",
      "782/782 [==============================] - 295s 377ms/step - loss: 0.4623 - accuracy: 0.8445 - val_loss: 0.6572 - val_accuracy: 0.7837\n",
      "Epoch 17/20\n",
      "782/782 [==============================] - 309s 395ms/step - loss: 0.4514 - accuracy: 0.8481 - val_loss: 0.5565 - val_accuracy: 0.8181\n",
      "Epoch 18/20\n",
      "782/782 [==============================] - 289s 370ms/step - loss: 0.4333 - accuracy: 0.8561 - val_loss: 0.6117 - val_accuracy: 0.8065\n",
      "Epoch 19/20\n",
      "782/782 [==============================] - 276s 353ms/step - loss: 0.4143 - accuracy: 0.8614 - val_loss: 0.6585 - val_accuracy: 0.7898\n",
      "Epoch 20/20\n",
      "782/782 [==============================] - 279s 356ms/step - loss: 0.4080 - accuracy: 0.8655 - val_loss: 0.5525 - val_accuracy: 0.8245\n"
     ]
    },
    {
     "data": {
      "text/plain": [
       "<tensorflow.python.keras.callbacks.History at 0x7f41581b80d0>"
      ]
     },
     "execution_count": 35,
     "metadata": {},
     "output_type": "execute_result"
    }
   ],
   "source": [
    "classificador.fit(previsores_treinamento, classe_treinamento,\n",
    "                  batch_size=64, epochs = 20,\n",
    "                  validation_data = (previsores_teste, classe_teste))"
   ]
  },
  {
   "cell_type": "code",
   "execution_count": 36,
   "metadata": {},
   "outputs": [
    {
     "name": "stdout",
     "output_type": "stream",
     "text": [
      "313/313 [==============================] - 10s 33ms/step - loss: 0.5525 - accuracy: 0.8245\n"
     ]
    },
    {
     "data": {
      "text/plain": [
       "[0.5524547100067139, 0.8245000243186951]"
      ]
     },
     "execution_count": 36,
     "metadata": {},
     "output_type": "execute_result"
    }
   ],
   "source": [
    "classificador.evaluate(previsores_teste, classe_teste)"
   ]
  },
  {
   "cell_type": "markdown",
   "metadata": {},
   "source": [
    "## Data augmentation"
   ]
  },
  {
   "cell_type": "code",
   "execution_count": 39,
   "metadata": {},
   "outputs": [],
   "source": [
    "gerador_treino = ImageDataGenerator(\n",
    "                            rotation_range=15,\n",
    "                            shear_range = 0.2,\n",
    "                            width_shift_range=0.1,\n",
    "                            height_shift_range=0.1,\n",
    "                            horizontal_flip=True,\n",
    "                            zoom_range=0.2\n",
    "                            )\n",
    "gerador_teste = ImageDataGenerator()"
   ]
  },
  {
   "cell_type": "code",
   "execution_count": 40,
   "metadata": {},
   "outputs": [],
   "source": [
    "base_treino = gerador_treino.flow(previsores_treinamento, classe_treinamento, batch_size = 64)\n",
    "base_teste = gerador_teste.flow(previsores_teste, classe_teste, batch_size=64)"
   ]
  },
  {
   "cell_type": "code",
   "execution_count": 41,
   "metadata": {},
   "outputs": [
    {
     "name": "stdout",
     "output_type": "stream",
     "text": [
      "WARNING:tensorflow:From <ipython-input-41-aafc48a83dce>:4: Model.fit_generator (from tensorflow.python.keras.engine.training) is deprecated and will be removed in a future version.\n",
      "Instructions for updating:\n",
      "Please use Model.fit, which supports generators.\n",
      "Epoch 1/30\n",
      "782/781 [==============================] - 283s 362ms/step - loss: 0.8544 - accuracy: 0.7251 - val_loss: 0.7724 - val_accuracy: 0.7430\n",
      "Epoch 2/30\n",
      "782/781 [==============================] - 295s 377ms/step - loss: 0.7975 - accuracy: 0.7355 - val_loss: 0.6740 - val_accuracy: 0.7794\n",
      "Epoch 3/30\n",
      "782/781 [==============================] - 295s 377ms/step - loss: 0.7789 - accuracy: 0.7435 - val_loss: 0.6958 - val_accuracy: 0.7634\n",
      "Epoch 4/30\n",
      "782/781 [==============================] - 287s 367ms/step - loss: 0.7701 - accuracy: 0.7488 - val_loss: 0.6010 - val_accuracy: 0.7975\n",
      "Epoch 5/30\n",
      "782/781 [==============================] - 286s 366ms/step - loss: 0.7559 - accuracy: 0.7517 - val_loss: 0.6059 - val_accuracy: 0.7969\n",
      "Epoch 6/30\n",
      "782/781 [==============================] - 308s 394ms/step - loss: 0.7403 - accuracy: 0.7558 - val_loss: 0.6053 - val_accuracy: 0.7967\n",
      "Epoch 7/30\n",
      "782/781 [==============================] - 273s 349ms/step - loss: 0.7327 - accuracy: 0.7594 - val_loss: 0.9029 - val_accuracy: 0.7155\n",
      "Epoch 8/30\n",
      "782/781 [==============================] - 283s 362ms/step - loss: 0.7350 - accuracy: 0.7588 - val_loss: 0.5772 - val_accuracy: 0.8133\n",
      "Epoch 9/30\n",
      "782/781 [==============================] - 296s 378ms/step - loss: 0.7211 - accuracy: 0.7643 - val_loss: 0.6459 - val_accuracy: 0.7913\n",
      "Epoch 10/30\n",
      "782/781 [==============================] - 308s 394ms/step - loss: 0.7127 - accuracy: 0.7661 - val_loss: 0.5508 - val_accuracy: 0.8176\n",
      "Epoch 11/30\n",
      "782/781 [==============================] - 299s 383ms/step - loss: 0.7055 - accuracy: 0.7687 - val_loss: 0.5433 - val_accuracy: 0.8190\n",
      "Epoch 12/30\n",
      "782/781 [==============================] - 293s 374ms/step - loss: 0.7015 - accuracy: 0.7693 - val_loss: 0.5952 - val_accuracy: 0.8053\n",
      "Epoch 13/30\n",
      "782/781 [==============================] - 343s 438ms/step - loss: 0.6956 - accuracy: 0.7722 - val_loss: 0.6038 - val_accuracy: 0.8065\n",
      "Epoch 14/30\n",
      "782/781 [==============================] - 346s 442ms/step - loss: 0.6885 - accuracy: 0.7738 - val_loss: 0.5803 - val_accuracy: 0.8099\n",
      "Epoch 15/30\n",
      "782/781 [==============================] - 289s 369ms/step - loss: 0.6769 - accuracy: 0.7790 - val_loss: 0.5368 - val_accuracy: 0.8181\n",
      "Epoch 16/30\n",
      "782/781 [==============================] - 291s 373ms/step - loss: 0.6738 - accuracy: 0.7795 - val_loss: 0.5625 - val_accuracy: 0.8118\n",
      "Epoch 17/30\n",
      "782/781 [==============================] - 293s 375ms/step - loss: 0.6610 - accuracy: 0.7818 - val_loss: 0.5107 - val_accuracy: 0.8302\n",
      "Epoch 18/30\n",
      "782/781 [==============================] - 294s 376ms/step - loss: 0.6612 - accuracy: 0.7833 - val_loss: 0.6147 - val_accuracy: 0.7975\n",
      "Epoch 19/30\n",
      "782/781 [==============================] - 295s 378ms/step - loss: 0.6577 - accuracy: 0.7845 - val_loss: 0.5670 - val_accuracy: 0.8107\n",
      "Epoch 20/30\n",
      "782/781 [==============================] - 295s 378ms/step - loss: 0.6512 - accuracy: 0.7876 - val_loss: 0.5330 - val_accuracy: 0.8240\n",
      "Epoch 21/30\n",
      "782/781 [==============================] - 296s 379ms/step - loss: 0.6504 - accuracy: 0.7880 - val_loss: 0.5247 - val_accuracy: 0.8237\n",
      "Epoch 22/30\n",
      "782/781 [==============================] - 296s 379ms/step - loss: 0.6475 - accuracy: 0.7880 - val_loss: 0.6196 - val_accuracy: 0.7938\n",
      "Epoch 23/30\n",
      "782/781 [==============================] - 296s 379ms/step - loss: 0.6351 - accuracy: 0.7911 - val_loss: 0.5338 - val_accuracy: 0.8219\n",
      "Epoch 24/30\n",
      "782/781 [==============================] - 296s 378ms/step - loss: 0.6324 - accuracy: 0.7913 - val_loss: 0.5226 - val_accuracy: 0.8287\n",
      "Epoch 25/30\n",
      "782/781 [==============================] - 297s 380ms/step - loss: 0.6388 - accuracy: 0.7917 - val_loss: 0.4876 - val_accuracy: 0.8359\n",
      "Epoch 26/30\n",
      "782/781 [==============================] - 298s 381ms/step - loss: 0.6286 - accuracy: 0.7945 - val_loss: 0.6595 - val_accuracy: 0.7963\n",
      "Epoch 27/30\n",
      "782/781 [==============================] - 298s 381ms/step - loss: 0.6200 - accuracy: 0.7968 - val_loss: 0.6253 - val_accuracy: 0.7979\n",
      "Epoch 28/30\n",
      "782/781 [==============================] - 297s 379ms/step - loss: 0.6149 - accuracy: 0.7970 - val_loss: 0.5513 - val_accuracy: 0.8141\n",
      "Epoch 29/30\n",
      "782/781 [==============================] - 299s 382ms/step - loss: 0.6155 - accuracy: 0.7984 - val_loss: 0.5216 - val_accuracy: 0.8255\n",
      "Epoch 30/30\n",
      "782/781 [==============================] - 298s 381ms/step - loss: 0.6112 - accuracy: 0.8004 - val_loss: 0.5710 - val_accuracy: 0.8100\n"
     ]
    },
    {
     "data": {
      "text/plain": [
       "<tensorflow.python.keras.callbacks.History at 0x7f412915e090>"
      ]
     },
     "execution_count": 41,
     "metadata": {},
     "output_type": "execute_result"
    }
   ],
   "source": [
    "classificador.fit_generator(base_treino, steps_per_epoch = X_train.shape[0] / 64,\n",
    "                                epochs = 30,\n",
    "                                validation_data = base_teste,\n",
    "                                validation_steps= X_test.shape[0]/64\n",
    "                                 )"
   ]
  },
  {
   "cell_type": "code",
   "execution_count": 42,
   "metadata": {},
   "outputs": [
    {
     "name": "stdout",
     "output_type": "stream",
     "text": [
      "313/313 [==============================] - 10s 32ms/step - loss: 0.5710 - accuracy: 0.8100\n"
     ]
    },
    {
     "data": {
      "text/plain": [
       "[0.5709972977638245, 0.8100000023841858]"
      ]
     },
     "execution_count": 42,
     "metadata": {},
     "output_type": "execute_result"
    }
   ],
   "source": [
    "classificador.evaluate(previsores_teste, classe_teste)"
   ]
  },
  {
   "cell_type": "code",
   "execution_count": null,
   "metadata": {},
   "outputs": [],
   "source": []
  }
 ],
 "metadata": {
  "kernelspec": {
   "display_name": "Python 3",
   "language": "python",
   "name": "python3"
  },
  "language_info": {
   "codemirror_mode": {
    "name": "ipython",
    "version": 3
   },
   "file_extension": ".py",
   "mimetype": "text/x-python",
   "name": "python",
   "nbconvert_exporter": "python",
   "pygments_lexer": "ipython3",
   "version": "3.7.4"
  }
 },
 "nbformat": 4,
 "nbformat_minor": 2
}
